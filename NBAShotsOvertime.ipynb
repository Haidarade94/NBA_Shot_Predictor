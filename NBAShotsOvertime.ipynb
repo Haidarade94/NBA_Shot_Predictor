{
 "cells": [
  {
   "cell_type": "markdown",
   "metadata": {},
   "source": [
    "<h1>NBA Shot predictor</h1>"
   ]
  },
  {
   "cell_type": "code",
   "execution_count": 2,
   "metadata": {},
   "outputs": [],
   "source": [
    "#Set up the library\n",
    "import pandas as pd\n",
    "import numpy as np\n",
    "import matplotlib as plt\n",
    "import seaborn as sns"
   ]
  },
  {
   "cell_type": "code",
   "execution_count": 3,
   "metadata": {},
   "outputs": [
    {
     "output_type": "execute_result",
     "data": {
      "text/plain": "    Game ID  Game Event ID  Player ID Player Name     Team ID  \\\n0  29700427            389        100  Tim Legler  1610612764   \n1  29700427            406        100  Tim Legler  1610612764   \n2  29700427            475        100  Tim Legler  1610612764   \n\n            Team Name  Period  Minutes Remaining  Seconds Remaining  \\\n0  Washington Wizards       4                 11                 22   \n1  Washington Wizards       4                  9                 36   \n2  Washington Wizards       4                  3                  7   \n\n  Action Type  ... Shot Zone Area Shot Zone Range Shot Distance X Location  \\\n0   Jump Shot  ...  Right Side(R)        8-16 ft.            15        117   \n1   Jump Shot  ...  Right Side(R)        8-16 ft.            14        143   \n2   Jump Shot  ...   Left Side(L)        8-16 ft.            10        -87   \n\n   Y Location  Shot Made Flag  Game Date  Home Team  Away Team     Season Type  \n0         109               1   19980102        WAS        IND  Regular Season  \n1          25               0   19980102        WAS        IND  Regular Season  \n2          55               0   19980102        WAS        IND  Regular Season  \n\n[3 rows x 22 columns]",
      "text/html": "<div>\n<style scoped>\n    .dataframe tbody tr th:only-of-type {\n        vertical-align: middle;\n    }\n\n    .dataframe tbody tr th {\n        vertical-align: top;\n    }\n\n    .dataframe thead th {\n        text-align: right;\n    }\n</style>\n<table border=\"1\" class=\"dataframe\">\n  <thead>\n    <tr style=\"text-align: right;\">\n      <th></th>\n      <th>Game ID</th>\n      <th>Game Event ID</th>\n      <th>Player ID</th>\n      <th>Player Name</th>\n      <th>Team ID</th>\n      <th>Team Name</th>\n      <th>Period</th>\n      <th>Minutes Remaining</th>\n      <th>Seconds Remaining</th>\n      <th>Action Type</th>\n      <th>...</th>\n      <th>Shot Zone Area</th>\n      <th>Shot Zone Range</th>\n      <th>Shot Distance</th>\n      <th>X Location</th>\n      <th>Y Location</th>\n      <th>Shot Made Flag</th>\n      <th>Game Date</th>\n      <th>Home Team</th>\n      <th>Away Team</th>\n      <th>Season Type</th>\n    </tr>\n  </thead>\n  <tbody>\n    <tr>\n      <th>0</th>\n      <td>29700427</td>\n      <td>389</td>\n      <td>100</td>\n      <td>Tim Legler</td>\n      <td>1610612764</td>\n      <td>Washington Wizards</td>\n      <td>4</td>\n      <td>11</td>\n      <td>22</td>\n      <td>Jump Shot</td>\n      <td>...</td>\n      <td>Right Side(R)</td>\n      <td>8-16 ft.</td>\n      <td>15</td>\n      <td>117</td>\n      <td>109</td>\n      <td>1</td>\n      <td>19980102</td>\n      <td>WAS</td>\n      <td>IND</td>\n      <td>Regular Season</td>\n    </tr>\n    <tr>\n      <th>1</th>\n      <td>29700427</td>\n      <td>406</td>\n      <td>100</td>\n      <td>Tim Legler</td>\n      <td>1610612764</td>\n      <td>Washington Wizards</td>\n      <td>4</td>\n      <td>9</td>\n      <td>36</td>\n      <td>Jump Shot</td>\n      <td>...</td>\n      <td>Right Side(R)</td>\n      <td>8-16 ft.</td>\n      <td>14</td>\n      <td>143</td>\n      <td>25</td>\n      <td>0</td>\n      <td>19980102</td>\n      <td>WAS</td>\n      <td>IND</td>\n      <td>Regular Season</td>\n    </tr>\n    <tr>\n      <th>2</th>\n      <td>29700427</td>\n      <td>475</td>\n      <td>100</td>\n      <td>Tim Legler</td>\n      <td>1610612764</td>\n      <td>Washington Wizards</td>\n      <td>4</td>\n      <td>3</td>\n      <td>7</td>\n      <td>Jump Shot</td>\n      <td>...</td>\n      <td>Left Side(L)</td>\n      <td>8-16 ft.</td>\n      <td>10</td>\n      <td>-87</td>\n      <td>55</td>\n      <td>0</td>\n      <td>19980102</td>\n      <td>WAS</td>\n      <td>IND</td>\n      <td>Regular Season</td>\n    </tr>\n  </tbody>\n</table>\n<p>3 rows × 22 columns</p>\n</div>"
     },
     "metadata": {},
     "execution_count": 3
    }
   ],
   "source": [
    "#Set up the dataframe\n",
    "df = pd.read_csv('data/NBA Shot Locations 1997 - 2020.csv')\n",
    "df.head(3)"
   ]
  },
  {
   "cell_type": "markdown",
   "metadata": {},
   "source": [
    "Set up a test df to run quick models on. Will use after finishing EDA"
   ]
  },
  {
   "cell_type": "code",
   "execution_count": 4,
   "metadata": {},
   "outputs": [
    {
     "output_type": "execute_result",
     "data": {
      "text/plain": "          Game ID  Game Event ID  Player ID   Player Name     Team ID  \\\n1194060  20300014             20       2544  LeBron James  1610612739   \n1194061  20300014             28       2544  LeBron James  1610612739   \n1194062  20300014             35       2544  LeBron James  1610612739   \n\n                   Team Name  Period  Minutes Remaining  Seconds Remaining  \\\n1194060  Cleveland Cavaliers       1                  8                 56   \n1194061  Cleveland Cavaliers       1                  7                 44   \n1194062  Cleveland Cavaliers       1                  7                  1   \n\n                Action Type  ... Shot Zone Area Shot Zone Range Shot Distance  \\\n1194060           Jump Shot  ...  Right Side(R)        8-16 ft.            15   \n1194061           Jump Shot  ...   Left Side(L)        8-16 ft.            13   \n1194062  Fadeaway Jump Shot  ...  Right Side(R)       16-24 ft.            16   \n\n        X Location  Y Location  Shot Made Flag  Game Date  Home Team  \\\n1194060        158           0               1   20031029        SAC   \n1194061       -131           2               1   20031029        SAC   \n1194062        163           5               1   20031029        SAC   \n\n         Away Team     Season Type  \n1194060        CLE  Regular Season  \n1194061        CLE  Regular Season  \n1194062        CLE  Regular Season  \n\n[3 rows x 22 columns]",
      "text/html": "<div>\n<style scoped>\n    .dataframe tbody tr th:only-of-type {\n        vertical-align: middle;\n    }\n\n    .dataframe tbody tr th {\n        vertical-align: top;\n    }\n\n    .dataframe thead th {\n        text-align: right;\n    }\n</style>\n<table border=\"1\" class=\"dataframe\">\n  <thead>\n    <tr style=\"text-align: right;\">\n      <th></th>\n      <th>Game ID</th>\n      <th>Game Event ID</th>\n      <th>Player ID</th>\n      <th>Player Name</th>\n      <th>Team ID</th>\n      <th>Team Name</th>\n      <th>Period</th>\n      <th>Minutes Remaining</th>\n      <th>Seconds Remaining</th>\n      <th>Action Type</th>\n      <th>...</th>\n      <th>Shot Zone Area</th>\n      <th>Shot Zone Range</th>\n      <th>Shot Distance</th>\n      <th>X Location</th>\n      <th>Y Location</th>\n      <th>Shot Made Flag</th>\n      <th>Game Date</th>\n      <th>Home Team</th>\n      <th>Away Team</th>\n      <th>Season Type</th>\n    </tr>\n  </thead>\n  <tbody>\n    <tr>\n      <th>1194060</th>\n      <td>20300014</td>\n      <td>20</td>\n      <td>2544</td>\n      <td>LeBron James</td>\n      <td>1610612739</td>\n      <td>Cleveland Cavaliers</td>\n      <td>1</td>\n      <td>8</td>\n      <td>56</td>\n      <td>Jump Shot</td>\n      <td>...</td>\n      <td>Right Side(R)</td>\n      <td>8-16 ft.</td>\n      <td>15</td>\n      <td>158</td>\n      <td>0</td>\n      <td>1</td>\n      <td>20031029</td>\n      <td>SAC</td>\n      <td>CLE</td>\n      <td>Regular Season</td>\n    </tr>\n    <tr>\n      <th>1194061</th>\n      <td>20300014</td>\n      <td>28</td>\n      <td>2544</td>\n      <td>LeBron James</td>\n      <td>1610612739</td>\n      <td>Cleveland Cavaliers</td>\n      <td>1</td>\n      <td>7</td>\n      <td>44</td>\n      <td>Jump Shot</td>\n      <td>...</td>\n      <td>Left Side(L)</td>\n      <td>8-16 ft.</td>\n      <td>13</td>\n      <td>-131</td>\n      <td>2</td>\n      <td>1</td>\n      <td>20031029</td>\n      <td>SAC</td>\n      <td>CLE</td>\n      <td>Regular Season</td>\n    </tr>\n    <tr>\n      <th>1194062</th>\n      <td>20300014</td>\n      <td>35</td>\n      <td>2544</td>\n      <td>LeBron James</td>\n      <td>1610612739</td>\n      <td>Cleveland Cavaliers</td>\n      <td>1</td>\n      <td>7</td>\n      <td>1</td>\n      <td>Fadeaway Jump Shot</td>\n      <td>...</td>\n      <td>Right Side(R)</td>\n      <td>16-24 ft.</td>\n      <td>16</td>\n      <td>163</td>\n      <td>5</td>\n      <td>1</td>\n      <td>20031029</td>\n      <td>SAC</td>\n      <td>CLE</td>\n      <td>Regular Season</td>\n    </tr>\n  </tbody>\n</table>\n<p>3 rows × 22 columns</p>\n</div>"
     },
     "metadata": {},
     "execution_count": 4
    }
   ],
   "source": [
    "#Test Data Frame will be LeBron James, Raptors Player, PG\n",
    "test_df=df[df['Player Name'] == 'LeBron James']\n",
    "test_df.head(3)"
   ]
  },
  {
   "cell_type": "markdown",
   "metadata": {},
   "source": [
    "## EDA"
   ]
  },
  {
   "cell_type": "code",
   "execution_count": 5,
   "metadata": {},
   "outputs": [
    {
     "output_type": "execute_result",
     "data": {
      "text/plain": "               Game ID  Game Event ID        Team ID  Period  \\\nPlayer ID                                                      \n3          39242876973         348329  2430414646129    3828   \n7          11932981383          80830   645855713953     964   \n12           208600892           2774    11274289334      26   \n15         91008037308         855518  6025302281464    9339   \n17         34832524061         244133  1815160563615    2671   \n...                ...            ...            ...     ...   \n1629744     2430961478          42250   178778016471     312   \n1629745      109503757           2128     8053063780      14   \n1629750     2146243339          40094   157840048324     280   \n1629752      372312267           8637    27380416954      59   \n1629760       87603210           1948     6442450956      14   \n\n           Minutes Remaining  Seconds Remaining  Shot Distance  X Location  \\\nPlayer ID                                                                    \n3                       7869              44032          17174       -4630   \n7                       2571              11528           4425      -10379   \n12                        32                186             67           0   \n15                     20494             107301          61045      -21843   \n17                      5505              32913          14233      -27684   \n...                      ...                ...            ...         ...   \n1629744                  611               3621           2282        -986   \n1629745                   26                168             71         288   \n1629750                  438               2956            760        1053   \n1629752                   48                479            136        -325   \n1629760                   19                141             73        -250   \n\n           Y Location  Shot Made Flag    Game Date  \nPlayer ID                                           \n3               85324             643  30183858684  \n7               27044             166   8011682735  \n12                449               2    139931546  \n15             356813            1621  74854951169  \n17              90386             473  22514284987  \n...               ...             ...          ...  \n1629744         14366              54   2241885448  \n1629745           431               1    101001018  \n1629750          4646              49   1979128844  \n1629752           465               9    343394131  \n1629760           138               1     80800860  \n\n[2152 rows x 11 columns]",
      "text/html": "<div>\n<style scoped>\n    .dataframe tbody tr th:only-of-type {\n        vertical-align: middle;\n    }\n\n    .dataframe tbody tr th {\n        vertical-align: top;\n    }\n\n    .dataframe thead th {\n        text-align: right;\n    }\n</style>\n<table border=\"1\" class=\"dataframe\">\n  <thead>\n    <tr style=\"text-align: right;\">\n      <th></th>\n      <th>Game ID</th>\n      <th>Game Event ID</th>\n      <th>Team ID</th>\n      <th>Period</th>\n      <th>Minutes Remaining</th>\n      <th>Seconds Remaining</th>\n      <th>Shot Distance</th>\n      <th>X Location</th>\n      <th>Y Location</th>\n      <th>Shot Made Flag</th>\n      <th>Game Date</th>\n    </tr>\n    <tr>\n      <th>Player ID</th>\n      <th></th>\n      <th></th>\n      <th></th>\n      <th></th>\n      <th></th>\n      <th></th>\n      <th></th>\n      <th></th>\n      <th></th>\n      <th></th>\n      <th></th>\n    </tr>\n  </thead>\n  <tbody>\n    <tr>\n      <th>3</th>\n      <td>39242876973</td>\n      <td>348329</td>\n      <td>2430414646129</td>\n      <td>3828</td>\n      <td>7869</td>\n      <td>44032</td>\n      <td>17174</td>\n      <td>-4630</td>\n      <td>85324</td>\n      <td>643</td>\n      <td>30183858684</td>\n    </tr>\n    <tr>\n      <th>7</th>\n      <td>11932981383</td>\n      <td>80830</td>\n      <td>645855713953</td>\n      <td>964</td>\n      <td>2571</td>\n      <td>11528</td>\n      <td>4425</td>\n      <td>-10379</td>\n      <td>27044</td>\n      <td>166</td>\n      <td>8011682735</td>\n    </tr>\n    <tr>\n      <th>12</th>\n      <td>208600892</td>\n      <td>2774</td>\n      <td>11274289334</td>\n      <td>26</td>\n      <td>32</td>\n      <td>186</td>\n      <td>67</td>\n      <td>0</td>\n      <td>449</td>\n      <td>2</td>\n      <td>139931546</td>\n    </tr>\n    <tr>\n      <th>15</th>\n      <td>91008037308</td>\n      <td>855518</td>\n      <td>6025302281464</td>\n      <td>9339</td>\n      <td>20494</td>\n      <td>107301</td>\n      <td>61045</td>\n      <td>-21843</td>\n      <td>356813</td>\n      <td>1621</td>\n      <td>74854951169</td>\n    </tr>\n    <tr>\n      <th>17</th>\n      <td>34832524061</td>\n      <td>244133</td>\n      <td>1815160563615</td>\n      <td>2671</td>\n      <td>5505</td>\n      <td>32913</td>\n      <td>14233</td>\n      <td>-27684</td>\n      <td>90386</td>\n      <td>473</td>\n      <td>22514284987</td>\n    </tr>\n    <tr>\n      <th>...</th>\n      <td>...</td>\n      <td>...</td>\n      <td>...</td>\n      <td>...</td>\n      <td>...</td>\n      <td>...</td>\n      <td>...</td>\n      <td>...</td>\n      <td>...</td>\n      <td>...</td>\n      <td>...</td>\n    </tr>\n    <tr>\n      <th>1629744</th>\n      <td>2430961478</td>\n      <td>42250</td>\n      <td>178778016471</td>\n      <td>312</td>\n      <td>611</td>\n      <td>3621</td>\n      <td>2282</td>\n      <td>-986</td>\n      <td>14366</td>\n      <td>54</td>\n      <td>2241885448</td>\n    </tr>\n    <tr>\n      <th>1629745</th>\n      <td>109503757</td>\n      <td>2128</td>\n      <td>8053063780</td>\n      <td>14</td>\n      <td>26</td>\n      <td>168</td>\n      <td>71</td>\n      <td>288</td>\n      <td>431</td>\n      <td>1</td>\n      <td>101001018</td>\n    </tr>\n    <tr>\n      <th>1629750</th>\n      <td>2146243339</td>\n      <td>40094</td>\n      <td>157840048324</td>\n      <td>280</td>\n      <td>438</td>\n      <td>2956</td>\n      <td>760</td>\n      <td>1053</td>\n      <td>4646</td>\n      <td>49</td>\n      <td>1979128844</td>\n    </tr>\n    <tr>\n      <th>1629752</th>\n      <td>372312267</td>\n      <td>8637</td>\n      <td>27380416954</td>\n      <td>59</td>\n      <td>48</td>\n      <td>479</td>\n      <td>136</td>\n      <td>-325</td>\n      <td>465</td>\n      <td>9</td>\n      <td>343394131</td>\n    </tr>\n    <tr>\n      <th>1629760</th>\n      <td>87603210</td>\n      <td>1948</td>\n      <td>6442450956</td>\n      <td>14</td>\n      <td>19</td>\n      <td>141</td>\n      <td>73</td>\n      <td>-250</td>\n      <td>138</td>\n      <td>1</td>\n      <td>80800860</td>\n    </tr>\n  </tbody>\n</table>\n<p>2152 rows × 11 columns</p>\n</div>"
     },
     "metadata": {},
     "execution_count": 5
    }
   ],
   "source": [
    "#Total Amount of Players\n",
    "df.groupby(['Player ID']).sum()"
   ]
  },
  {
   "cell_type": "markdown",
   "metadata": {},
   "source": [
    "2152 players in this data frame "
   ]
  },
  {
   "cell_type": "code",
   "execution_count": 5,
   "metadata": {},
   "outputs": [
    {
     "output_type": "execute_result",
     "data": {
      "text/plain": "Center(C)                2494850\nLeft Side(L)              614701\nRight Side(R)             565487\nRight Side Center(RC)     526949\nLeft Side Center(LC)      515926\nBack Court(BC)             11599\nName: Shot Zone Area, dtype: int64"
     },
     "metadata": {},
     "execution_count": 5
    }
   ],
   "source": [
    "# Count of each shot\n",
    "df['Shot Zone Area'].value_counts()"
   ]
  },
  {
   "cell_type": "code",
   "execution_count": 9,
   "metadata": {},
   "outputs": [
    {
     "output_type": "execute_result",
     "data": {
      "text/plain": "Center(C)                0.527507\nLeft Side(L)             0.129971\nRight Side(R)            0.119566\nRight Side Center(RC)    0.111417\nLeft Side Center(LC)     0.109087\nBack Court(BC)           0.002452\nName: Shot Zone Area, dtype: float64"
     },
     "metadata": {},
     "execution_count": 9
    }
   ],
   "source": [
    "#As a precentage\n",
    "df['Shot Zone Area'].value_counts(normalize=True)"
   ]
  },
  {
   "cell_type": "markdown",
   "metadata": {},
   "source": [
    "More than 50% of the shots come from the center, with left and right side taking 20% almost evenly"
   ]
  },
  {
   "cell_type": "markdown",
   "metadata": {},
   "source": [
    "** Glossary for the Shot Zone Basic **\n",
    "* Corner 3: The small area on the left and right side of the court near the baseline. The 3-point line is a few inches closer to the basket in the corners.\n",
    "\n",
    "* In The Paint: These are shots taken inside the key, the rectangular box close to the basket that measures 15 feet out to the free throw line and 16 feet wide.\n",
    "\n",
    "* Restricted Area: The four-foot area directly surrounding the basket, marked by a semicircle in the paint.\n",
    "\n",
    "* Mid-range: Any shot that comes outside the paint but inside the 3-point line.\n",
    "\n",
    "* Above the Break 3: Any 3-pointer that is not taken from the corners.\n",
    "\n",
    "* Backcourt: Any shot taken from beyond half court, mostly at the end of quarters to beat the clock."
   ]
  },
  {
   "cell_type": "code",
   "execution_count": 10,
   "metadata": {},
   "outputs": [
    {
     "output_type": "execute_result",
     "data": {
      "text/plain": "Restricted Area          1505921\nMid-Range                1417625\nAbove the Break 3         828349\nIn The Paint (Non-RA)     683748\nLeft Corner 3             147043\nRight Corner 3            137365\nBackcourt                   9461\nName: Shot Zone Basic, dtype: int64"
     },
     "metadata": {},
     "execution_count": 10
    }
   ],
   "source": [
    "# Shot zone basic\n",
    "df['Shot Zone Basic'].value_counts()"
   ]
  },
  {
   "cell_type": "code",
   "execution_count": 11,
   "metadata": {},
   "outputs": [
    {
     "output_type": "execute_result",
     "data": {
      "text/plain": "Restricted Area          0.318409\nMid-Range                0.299740\nAbove the Break 3        0.175145\nIn The Paint (Non-RA)    0.144571\nLeft Corner 3            0.031091\nRight Corner 3           0.029044\nBackcourt                0.002000\nName: Shot Zone Basic, dtype: float64"
     },
     "metadata": {},
     "execution_count": 11
    }
   ],
   "source": [
    "# SHot zone basic as a percentage\n",
    "df['Shot Zone Basic'].value_counts(normalize=True)\n"
   ]
  },
  {
   "cell_type": "markdown",
   "metadata": {},
   "source": [
    "More than 30% of the shots came from the Restricted Area"
   ]
  },
  {
   "cell_type": "markdown",
   "metadata": {},
   "source": [
    "Roll up the classes to make predictions easier"
   ]
  },
  {
   "cell_type": "code",
   "execution_count": 8,
   "metadata": {},
   "outputs": [
    {
     "output_type": "execute_result",
     "data": {
      "text/plain": "Index(['Game ID', 'Game Event ID', 'Player ID', 'Player Name', 'Team ID',\n       'Team Name', 'Period', 'Minutes Remaining', 'Seconds Remaining',\n       'Action Type', 'Shot Type', 'Shot Zone Basic', 'Shot Zone Area',\n       'Shot Zone Range', 'Shot Distance', 'X Location', 'Y Location',\n       'Shot Made Flag', 'Game Date', 'Home Team', 'Away Team', 'Season Type'],\n      dtype='object')"
     },
     "metadata": {},
     "execution_count": 8
    }
   ],
   "source": [
    "df.columns"
   ]
  },
  {
   "cell_type": "markdown",
   "metadata": {},
   "source": [
    "Lets find out who has taken the most shots"
   ]
  },
  {
   "cell_type": "code",
   "execution_count": 16,
   "metadata": {},
   "outputs": [
    {
     "output_type": "execute_result",
     "data": {
      "text/plain": "Player Name\nKobe Bryant        30220\nLeBron James       29658\nDirk Nowitzki      26376\nTim Duncan         24221\nVince Carter       22677\nCarmelo Anthony    22526\nPaul Pierce        21877\nKevin Garnett      21472\nDwyane Wade        20677\nAllen Iverson      20284\nName: Shot Made Flag, dtype: int64"
     },
     "metadata": {},
     "execution_count": 16
    }
   ],
   "source": [
    "df.groupby('Player Name')['Shot Made Flag'].count().sort_values(ascending=False).head(10)"
   ]
  },
  {
   "cell_type": "markdown",
   "metadata": {},
   "source": [
    "The late Kobe Bryant, has taken the most shots, followed by LeBron and Dirk.\n",
    "Now lets see who has made the most shots"
   ]
  },
  {
   "cell_type": "code",
   "execution_count": 8,
   "metadata": {},
   "outputs": [
    {
     "output_type": "execute_result",
     "data": {
      "text/plain": "Player Name\nLeBron James       14881\nKobe Bryant        13534\nDirk Nowitzki      12389\nTim Duncan         12238\nKevin Garnett      10630\nCarmelo Anthony    10042\nDwyane Wade         9904\nVince Carter        9849\nPaul Pierce         9689\nTony Parker         9390\nName: Shot Made Flag, dtype: int64"
     },
     "metadata": {},
     "execution_count": 8
    }
   ],
   "source": [
    "df.groupby('Player Name')['Shot Made Flag'].sum().sort_values(ascending=False).head(10)"
   ]
  },
  {
   "cell_type": "markdown",
   "metadata": {},
   "source": [
    "Unsuprisingly, the top 3 are the same, however Lebron has made more shots than Kobe, almost 1500 more shots despite taking 300 less. Lets check the averages for the best shooters"
   ]
  },
  {
   "cell_type": "code",
   "execution_count": 127,
   "metadata": {},
   "outputs": [
    {
     "output_type": "execute_result",
     "data": {
      "text/plain": "                                   Game ID  Game Event ID  Player ID  Team ID  \\\nPlayer Name        Shot Made Flag                                               \nA.C. Green         0                   889            889        889      889   \n                   1                   705            705        705      705   \nA.J. Bramlett      0                    17             17         17       17   \n                   1                     4              4          4        4   \nA.J. Guyton        0                   274            274        274      274   \n...                                    ...            ...        ...      ...   \nZoran Planinic     1                   197            197        197      197   \nZydrunas Ilgauskas 0                  4994           4994       4994     4994   \n                   1                  4534           4534       4534     4534   \nZylan Cheatham     0                     3              3          3        3   \n                   1                     2              2          2        2   \n\n                                   Team Name  Period  Minutes Remaining  \\\nPlayer Name        Shot Made Flag                                         \nA.C. Green         0                     889     889                889   \n                   1                     705     705                705   \nA.J. Bramlett      0                      17      17                 17   \n                   1                       4       4                  4   \nA.J. Guyton        0                     274     274                274   \n...                                      ...     ...                ...   \nZoran Planinic     1                     197     197                197   \nZydrunas Ilgauskas 0                    4994    4994               4994   \n                   1                    4534    4534               4534   \nZylan Cheatham     0                       3       3                  3   \n                   1                       2       2                  2   \n\n                                   Seconds Remaining  Action Type  Shot Type  \\\nPlayer Name        Shot Made Flag                                              \nA.C. Green         0                             889          889        889   \n                   1                             705          705        705   \nA.J. Bramlett      0                              17           17         17   \n                   1                               4            4          4   \nA.J. Guyton        0                             274          274        274   \n...                                              ...          ...        ...   \nZoran Planinic     1                             197          197        197   \nZydrunas Ilgauskas 0                            4994         4994       4994   \n                   1                            4534         4534       4534   \nZylan Cheatham     0                               3            3          3   \n                   1                               2            2          2   \n\n                                   Shot Zone Basic  Shot Zone Area  \\\nPlayer Name        Shot Made Flag                                    \nA.C. Green         0                           889             889   \n                   1                           705             705   \nA.J. Bramlett      0                            17              17   \n                   1                             4               4   \nA.J. Guyton        0                           274             274   \n...                                            ...             ...   \nZoran Planinic     1                           197             197   \nZydrunas Ilgauskas 0                          4994            4994   \n                   1                          4534            4534   \nZylan Cheatham     0                             3               3   \n                   1                             2               2   \n\n                                   Shot Zone Range  Shot Distance  X Location  \\\nPlayer Name        Shot Made Flag                                               \nA.C. Green         0                           889            889         889   \n                   1                           705            705         705   \nA.J. Bramlett      0                            17             17          17   \n                   1                             4              4           4   \nA.J. Guyton        0                           274            274         274   \n...                                            ...            ...         ...   \nZoran Planinic     1                           197            197         197   \nZydrunas Ilgauskas 0                          4994           4994        4994   \n                   1                          4534           4534        4534   \nZylan Cheatham     0                             3              3           3   \n                   1                             2              2           2   \n\n                                   Y Location  Game Date  Home Team  \\\nPlayer Name        Shot Made Flag                                     \nA.C. Green         0                      889        889        889   \n                   1                      705        705        705   \nA.J. Bramlett      0                       17         17         17   \n                   1                        4          4          4   \nA.J. Guyton        0                      274        274        274   \n...                                       ...        ...        ...   \nZoran Planinic     1                      197        197        197   \nZydrunas Ilgauskas 0                     4994       4994       4994   \n                   1                     4534       4534       4534   \nZylan Cheatham     0                        3          3          3   \n                   1                        2          2          2   \n\n                                   Away Team  Season Type  \nPlayer Name        Shot Made Flag                          \nA.C. Green         0                     889          889  \n                   1                     705          705  \nA.J. Bramlett      0                      17           17  \n                   1                       4            4  \nA.J. Guyton        0                     274          274  \n...                                      ...          ...  \nZoran Planinic     1                     197          197  \nZydrunas Ilgauskas 0                    4994         4994  \n                   1                    4534         4534  \nZylan Cheatham     0                       3            3  \n                   1                       2            2  \n\n[4236 rows x 20 columns]",
      "text/html": "<div>\n<style scoped>\n    .dataframe tbody tr th:only-of-type {\n        vertical-align: middle;\n    }\n\n    .dataframe tbody tr th {\n        vertical-align: top;\n    }\n\n    .dataframe thead th {\n        text-align: right;\n    }\n</style>\n<table border=\"1\" class=\"dataframe\">\n  <thead>\n    <tr style=\"text-align: right;\">\n      <th></th>\n      <th></th>\n      <th>Game ID</th>\n      <th>Game Event ID</th>\n      <th>Player ID</th>\n      <th>Team ID</th>\n      <th>Team Name</th>\n      <th>Period</th>\n      <th>Minutes Remaining</th>\n      <th>Seconds Remaining</th>\n      <th>Action Type</th>\n      <th>Shot Type</th>\n      <th>Shot Zone Basic</th>\n      <th>Shot Zone Area</th>\n      <th>Shot Zone Range</th>\n      <th>Shot Distance</th>\n      <th>X Location</th>\n      <th>Y Location</th>\n      <th>Game Date</th>\n      <th>Home Team</th>\n      <th>Away Team</th>\n      <th>Season Type</th>\n    </tr>\n    <tr>\n      <th>Player Name</th>\n      <th>Shot Made Flag</th>\n      <th></th>\n      <th></th>\n      <th></th>\n      <th></th>\n      <th></th>\n      <th></th>\n      <th></th>\n      <th></th>\n      <th></th>\n      <th></th>\n      <th></th>\n      <th></th>\n      <th></th>\n      <th></th>\n      <th></th>\n      <th></th>\n      <th></th>\n      <th></th>\n      <th></th>\n      <th></th>\n    </tr>\n  </thead>\n  <tbody>\n    <tr>\n      <th rowspan=\"2\" valign=\"top\">A.C. Green</th>\n      <th>0</th>\n      <td>889</td>\n      <td>889</td>\n      <td>889</td>\n      <td>889</td>\n      <td>889</td>\n      <td>889</td>\n      <td>889</td>\n      <td>889</td>\n      <td>889</td>\n      <td>889</td>\n      <td>889</td>\n      <td>889</td>\n      <td>889</td>\n      <td>889</td>\n      <td>889</td>\n      <td>889</td>\n      <td>889</td>\n      <td>889</td>\n      <td>889</td>\n      <td>889</td>\n    </tr>\n    <tr>\n      <th>1</th>\n      <td>705</td>\n      <td>705</td>\n      <td>705</td>\n      <td>705</td>\n      <td>705</td>\n      <td>705</td>\n      <td>705</td>\n      <td>705</td>\n      <td>705</td>\n      <td>705</td>\n      <td>705</td>\n      <td>705</td>\n      <td>705</td>\n      <td>705</td>\n      <td>705</td>\n      <td>705</td>\n      <td>705</td>\n      <td>705</td>\n      <td>705</td>\n      <td>705</td>\n    </tr>\n    <tr>\n      <th rowspan=\"2\" valign=\"top\">A.J. Bramlett</th>\n      <th>0</th>\n      <td>17</td>\n      <td>17</td>\n      <td>17</td>\n      <td>17</td>\n      <td>17</td>\n      <td>17</td>\n      <td>17</td>\n      <td>17</td>\n      <td>17</td>\n      <td>17</td>\n      <td>17</td>\n      <td>17</td>\n      <td>17</td>\n      <td>17</td>\n      <td>17</td>\n      <td>17</td>\n      <td>17</td>\n      <td>17</td>\n      <td>17</td>\n      <td>17</td>\n    </tr>\n    <tr>\n      <th>1</th>\n      <td>4</td>\n      <td>4</td>\n      <td>4</td>\n      <td>4</td>\n      <td>4</td>\n      <td>4</td>\n      <td>4</td>\n      <td>4</td>\n      <td>4</td>\n      <td>4</td>\n      <td>4</td>\n      <td>4</td>\n      <td>4</td>\n      <td>4</td>\n      <td>4</td>\n      <td>4</td>\n      <td>4</td>\n      <td>4</td>\n      <td>4</td>\n      <td>4</td>\n    </tr>\n    <tr>\n      <th>A.J. Guyton</th>\n      <th>0</th>\n      <td>274</td>\n      <td>274</td>\n      <td>274</td>\n      <td>274</td>\n      <td>274</td>\n      <td>274</td>\n      <td>274</td>\n      <td>274</td>\n      <td>274</td>\n      <td>274</td>\n      <td>274</td>\n      <td>274</td>\n      <td>274</td>\n      <td>274</td>\n      <td>274</td>\n      <td>274</td>\n      <td>274</td>\n      <td>274</td>\n      <td>274</td>\n      <td>274</td>\n    </tr>\n    <tr>\n      <th>...</th>\n      <th>...</th>\n      <td>...</td>\n      <td>...</td>\n      <td>...</td>\n      <td>...</td>\n      <td>...</td>\n      <td>...</td>\n      <td>...</td>\n      <td>...</td>\n      <td>...</td>\n      <td>...</td>\n      <td>...</td>\n      <td>...</td>\n      <td>...</td>\n      <td>...</td>\n      <td>...</td>\n      <td>...</td>\n      <td>...</td>\n      <td>...</td>\n      <td>...</td>\n      <td>...</td>\n    </tr>\n    <tr>\n      <th>Zoran Planinic</th>\n      <th>1</th>\n      <td>197</td>\n      <td>197</td>\n      <td>197</td>\n      <td>197</td>\n      <td>197</td>\n      <td>197</td>\n      <td>197</td>\n      <td>197</td>\n      <td>197</td>\n      <td>197</td>\n      <td>197</td>\n      <td>197</td>\n      <td>197</td>\n      <td>197</td>\n      <td>197</td>\n      <td>197</td>\n      <td>197</td>\n      <td>197</td>\n      <td>197</td>\n      <td>197</td>\n    </tr>\n    <tr>\n      <th rowspan=\"2\" valign=\"top\">Zydrunas Ilgauskas</th>\n      <th>0</th>\n      <td>4994</td>\n      <td>4994</td>\n      <td>4994</td>\n      <td>4994</td>\n      <td>4994</td>\n      <td>4994</td>\n      <td>4994</td>\n      <td>4994</td>\n      <td>4994</td>\n      <td>4994</td>\n      <td>4994</td>\n      <td>4994</td>\n      <td>4994</td>\n      <td>4994</td>\n      <td>4994</td>\n      <td>4994</td>\n      <td>4994</td>\n      <td>4994</td>\n      <td>4994</td>\n      <td>4994</td>\n    </tr>\n    <tr>\n      <th>1</th>\n      <td>4534</td>\n      <td>4534</td>\n      <td>4534</td>\n      <td>4534</td>\n      <td>4534</td>\n      <td>4534</td>\n      <td>4534</td>\n      <td>4534</td>\n      <td>4534</td>\n      <td>4534</td>\n      <td>4534</td>\n      <td>4534</td>\n      <td>4534</td>\n      <td>4534</td>\n      <td>4534</td>\n      <td>4534</td>\n      <td>4534</td>\n      <td>4534</td>\n      <td>4534</td>\n      <td>4534</td>\n    </tr>\n    <tr>\n      <th rowspan=\"2\" valign=\"top\">Zylan Cheatham</th>\n      <th>0</th>\n      <td>3</td>\n      <td>3</td>\n      <td>3</td>\n      <td>3</td>\n      <td>3</td>\n      <td>3</td>\n      <td>3</td>\n      <td>3</td>\n      <td>3</td>\n      <td>3</td>\n      <td>3</td>\n      <td>3</td>\n      <td>3</td>\n      <td>3</td>\n      <td>3</td>\n      <td>3</td>\n      <td>3</td>\n      <td>3</td>\n      <td>3</td>\n      <td>3</td>\n    </tr>\n    <tr>\n      <th>1</th>\n      <td>2</td>\n      <td>2</td>\n      <td>2</td>\n      <td>2</td>\n      <td>2</td>\n      <td>2</td>\n      <td>2</td>\n      <td>2</td>\n      <td>2</td>\n      <td>2</td>\n      <td>2</td>\n      <td>2</td>\n      <td>2</td>\n      <td>2</td>\n      <td>2</td>\n      <td>2</td>\n      <td>2</td>\n      <td>2</td>\n      <td>2</td>\n      <td>2</td>\n    </tr>\n  </tbody>\n</table>\n<p>4236 rows × 20 columns</p>\n</div>"
     },
     "metadata": {},
     "execution_count": 127
    }
   ],
   "source": [
    "#Lets get a df of shots players have  taken split by taken or not\n",
    "shot=df.groupby(['Player Name','Shot Made Flag']).count()\n",
    "shot"
   ]
  },
  {
   "cell_type": "code",
   "execution_count": 128,
   "metadata": {},
   "outputs": [
    {
     "output_type": "execute_result",
     "data": {
      "text/plain": "Player Name         Shot Made Flag\nA.C. Green          0                  889\n                    1                  705\nA.J. Bramlett       0                   17\n                    1                    4\nA.J. Guyton         0                  274\n                                      ... \nZoran Planinic      1                  197\nZydrunas Ilgauskas  0                 4994\n                    1                 4534\nZylan Cheatham      0                    3\n                    1                    2\nName: Game ID, Length: 4236, dtype: int64"
     },
     "metadata": {},
     "execution_count": 128
    }
   ],
   "source": [
    "#Only get those numbers\n",
    "shot['Game ID']"
   ]
  },
  {
   "cell_type": "code",
   "execution_count": 133,
   "metadata": {},
   "outputs": [
    {
     "output_type": "execute_result",
     "data": {
      "text/plain": "<pandas.core.groupby.generic.DataFrameGroupBy object at 0x7fc1f6c93f70>"
     },
     "metadata": {},
     "execution_count": 133
    }
   ],
   "source": [
    "#Lets get shooting percetages\n",
    "shotpt= df.groupby(['Player Name'])\n",
    "shotpt\n"
   ]
  },
  {
   "cell_type": "code",
   "execution_count": 134,
   "metadata": {},
   "outputs": [
    {
     "output_type": "execute_result",
     "data": {
      "text/plain": "Player Name         Shot Made Flag\nA.C. Green          0                 0.557716\n                    1                 0.442284\nA.J. Bramlett       0                 0.809524\n                    1                 0.190476\nA.J. Guyton         0                 0.624146\n                                        ...   \nZoran Planinic      1                 0.402863\nZydrunas Ilgauskas  0                 0.524139\n                    1                 0.475861\nZylan Cheatham      0                 0.600000\n                    1                 0.400000\nName: Shot Made Flag, Length: 4236, dtype: float64"
     },
     "metadata": {},
     "execution_count": 134
    }
   ],
   "source": [
    "#get it as a percentage\n",
    "x=shotpt['Shot Made Flag'].value_counts(normalize=True)\n",
    "x"
   ]
  },
  {
   "cell_type": "code",
   "execution_count": 135,
   "metadata": {},
   "outputs": [
    {
     "output_type": "execute_result",
     "data": {
      "text/plain": "                                   Game ID  Game Event ID  Player ID  Team ID  \\\nPlayer Name        Shot Made Flag                                               \nA.C. Green         0                   889            889        889      889   \n                   1                   705            705        705      705   \nA.J. Bramlett      0                    17             17         17       17   \n                   1                     4              4          4        4   \nA.J. Guyton        0                   274            274        274      274   \n...                                    ...            ...        ...      ...   \nZoran Planinic     1                   197            197        197      197   \nZydrunas Ilgauskas 0                  4994           4994       4994     4994   \n                   1                  4534           4534       4534     4534   \nZylan Cheatham     0                     3              3          3        3   \n                   1                     2              2          2        2   \n\n                                   Team Name  Period  Minutes Remaining  \\\nPlayer Name        Shot Made Flag                                         \nA.C. Green         0                     889     889                889   \n                   1                     705     705                705   \nA.J. Bramlett      0                      17      17                 17   \n                   1                       4       4                  4   \nA.J. Guyton        0                     274     274                274   \n...                                      ...     ...                ...   \nZoran Planinic     1                     197     197                197   \nZydrunas Ilgauskas 0                    4994    4994               4994   \n                   1                    4534    4534               4534   \nZylan Cheatham     0                       3       3                  3   \n                   1                       2       2                  2   \n\n                                   Seconds Remaining  Action Type  Shot Type  \\\nPlayer Name        Shot Made Flag                                              \nA.C. Green         0                             889          889        889   \n                   1                             705          705        705   \nA.J. Bramlett      0                              17           17         17   \n                   1                               4            4          4   \nA.J. Guyton        0                             274          274        274   \n...                                              ...          ...        ...   \nZoran Planinic     1                             197          197        197   \nZydrunas Ilgauskas 0                            4994         4994       4994   \n                   1                            4534         4534       4534   \nZylan Cheatham     0                               3            3          3   \n                   1                               2            2          2   \n\n                                   ...  Shot Zone Area  Shot Zone Range  \\\nPlayer Name        Shot Made Flag  ...                                    \nA.C. Green         0               ...             889              889   \n                   1               ...             705              705   \nA.J. Bramlett      0               ...              17               17   \n                   1               ...               4                4   \nA.J. Guyton        0               ...             274              274   \n...                                ...             ...              ...   \nZoran Planinic     1               ...             197              197   \nZydrunas Ilgauskas 0               ...            4994             4994   \n                   1               ...            4534             4534   \nZylan Cheatham     0               ...               3                3   \n                   1               ...               2                2   \n\n                                   Shot Distance  X Location  Y Location  \\\nPlayer Name        Shot Made Flag                                          \nA.C. Green         0                         889         889         889   \n                   1                         705         705         705   \nA.J. Bramlett      0                          17          17          17   \n                   1                           4           4           4   \nA.J. Guyton        0                         274         274         274   \n...                                          ...         ...         ...   \nZoran Planinic     1                         197         197         197   \nZydrunas Ilgauskas 0                        4994        4994        4994   \n                   1                        4534        4534        4534   \nZylan Cheatham     0                           3           3           3   \n                   1                           2           2           2   \n\n                                   Game Date  Home Team  Away Team  \\\nPlayer Name        Shot Made Flag                                    \nA.C. Green         0                     889        889        889   \n                   1                     705        705        705   \nA.J. Bramlett      0                      17         17         17   \n                   1                       4          4          4   \nA.J. Guyton        0                     274        274        274   \n...                                      ...        ...        ...   \nZoran Planinic     1                     197        197        197   \nZydrunas Ilgauskas 0                    4994       4994       4994   \n                   1                    4534       4534       4534   \nZylan Cheatham     0                       3          3          3   \n                   1                       2          2          2   \n\n                                   Season Type  Shooting Pct  \nPlayer Name        Shot Made Flag                             \nA.C. Green         0                       889      0.557716  \n                   1                       705      0.442284  \nA.J. Bramlett      0                        17      0.809524  \n                   1                         4      0.190476  \nA.J. Guyton        0                       274      0.624146  \n...                                        ...           ...  \nZoran Planinic     1                       197      0.402863  \nZydrunas Ilgauskas 0                      4994      0.524139  \n                   1                      4534      0.475861  \nZylan Cheatham     0                         3      0.600000  \n                   1                         2      0.400000  \n\n[4236 rows x 21 columns]",
      "text/html": "<div>\n<style scoped>\n    .dataframe tbody tr th:only-of-type {\n        vertical-align: middle;\n    }\n\n    .dataframe tbody tr th {\n        vertical-align: top;\n    }\n\n    .dataframe thead th {\n        text-align: right;\n    }\n</style>\n<table border=\"1\" class=\"dataframe\">\n  <thead>\n    <tr style=\"text-align: right;\">\n      <th></th>\n      <th></th>\n      <th>Game ID</th>\n      <th>Game Event ID</th>\n      <th>Player ID</th>\n      <th>Team ID</th>\n      <th>Team Name</th>\n      <th>Period</th>\n      <th>Minutes Remaining</th>\n      <th>Seconds Remaining</th>\n      <th>Action Type</th>\n      <th>Shot Type</th>\n      <th>...</th>\n      <th>Shot Zone Area</th>\n      <th>Shot Zone Range</th>\n      <th>Shot Distance</th>\n      <th>X Location</th>\n      <th>Y Location</th>\n      <th>Game Date</th>\n      <th>Home Team</th>\n      <th>Away Team</th>\n      <th>Season Type</th>\n      <th>Shooting Pct</th>\n    </tr>\n    <tr>\n      <th>Player Name</th>\n      <th>Shot Made Flag</th>\n      <th></th>\n      <th></th>\n      <th></th>\n      <th></th>\n      <th></th>\n      <th></th>\n      <th></th>\n      <th></th>\n      <th></th>\n      <th></th>\n      <th></th>\n      <th></th>\n      <th></th>\n      <th></th>\n      <th></th>\n      <th></th>\n      <th></th>\n      <th></th>\n      <th></th>\n      <th></th>\n      <th></th>\n    </tr>\n  </thead>\n  <tbody>\n    <tr>\n      <th rowspan=\"2\" valign=\"top\">A.C. Green</th>\n      <th>0</th>\n      <td>889</td>\n      <td>889</td>\n      <td>889</td>\n      <td>889</td>\n      <td>889</td>\n      <td>889</td>\n      <td>889</td>\n      <td>889</td>\n      <td>889</td>\n      <td>889</td>\n      <td>...</td>\n      <td>889</td>\n      <td>889</td>\n      <td>889</td>\n      <td>889</td>\n      <td>889</td>\n      <td>889</td>\n      <td>889</td>\n      <td>889</td>\n      <td>889</td>\n      <td>0.557716</td>\n    </tr>\n    <tr>\n      <th>1</th>\n      <td>705</td>\n      <td>705</td>\n      <td>705</td>\n      <td>705</td>\n      <td>705</td>\n      <td>705</td>\n      <td>705</td>\n      <td>705</td>\n      <td>705</td>\n      <td>705</td>\n      <td>...</td>\n      <td>705</td>\n      <td>705</td>\n      <td>705</td>\n      <td>705</td>\n      <td>705</td>\n      <td>705</td>\n      <td>705</td>\n      <td>705</td>\n      <td>705</td>\n      <td>0.442284</td>\n    </tr>\n    <tr>\n      <th rowspan=\"2\" valign=\"top\">A.J. Bramlett</th>\n      <th>0</th>\n      <td>17</td>\n      <td>17</td>\n      <td>17</td>\n      <td>17</td>\n      <td>17</td>\n      <td>17</td>\n      <td>17</td>\n      <td>17</td>\n      <td>17</td>\n      <td>17</td>\n      <td>...</td>\n      <td>17</td>\n      <td>17</td>\n      <td>17</td>\n      <td>17</td>\n      <td>17</td>\n      <td>17</td>\n      <td>17</td>\n      <td>17</td>\n      <td>17</td>\n      <td>0.809524</td>\n    </tr>\n    <tr>\n      <th>1</th>\n      <td>4</td>\n      <td>4</td>\n      <td>4</td>\n      <td>4</td>\n      <td>4</td>\n      <td>4</td>\n      <td>4</td>\n      <td>4</td>\n      <td>4</td>\n      <td>4</td>\n      <td>...</td>\n      <td>4</td>\n      <td>4</td>\n      <td>4</td>\n      <td>4</td>\n      <td>4</td>\n      <td>4</td>\n      <td>4</td>\n      <td>4</td>\n      <td>4</td>\n      <td>0.190476</td>\n    </tr>\n    <tr>\n      <th>A.J. Guyton</th>\n      <th>0</th>\n      <td>274</td>\n      <td>274</td>\n      <td>274</td>\n      <td>274</td>\n      <td>274</td>\n      <td>274</td>\n      <td>274</td>\n      <td>274</td>\n      <td>274</td>\n      <td>274</td>\n      <td>...</td>\n      <td>274</td>\n      <td>274</td>\n      <td>274</td>\n      <td>274</td>\n      <td>274</td>\n      <td>274</td>\n      <td>274</td>\n      <td>274</td>\n      <td>274</td>\n      <td>0.624146</td>\n    </tr>\n    <tr>\n      <th>...</th>\n      <th>...</th>\n      <td>...</td>\n      <td>...</td>\n      <td>...</td>\n      <td>...</td>\n      <td>...</td>\n      <td>...</td>\n      <td>...</td>\n      <td>...</td>\n      <td>...</td>\n      <td>...</td>\n      <td>...</td>\n      <td>...</td>\n      <td>...</td>\n      <td>...</td>\n      <td>...</td>\n      <td>...</td>\n      <td>...</td>\n      <td>...</td>\n      <td>...</td>\n      <td>...</td>\n      <td>...</td>\n    </tr>\n    <tr>\n      <th>Zoran Planinic</th>\n      <th>1</th>\n      <td>197</td>\n      <td>197</td>\n      <td>197</td>\n      <td>197</td>\n      <td>197</td>\n      <td>197</td>\n      <td>197</td>\n      <td>197</td>\n      <td>197</td>\n      <td>197</td>\n      <td>...</td>\n      <td>197</td>\n      <td>197</td>\n      <td>197</td>\n      <td>197</td>\n      <td>197</td>\n      <td>197</td>\n      <td>197</td>\n      <td>197</td>\n      <td>197</td>\n      <td>0.402863</td>\n    </tr>\n    <tr>\n      <th rowspan=\"2\" valign=\"top\">Zydrunas Ilgauskas</th>\n      <th>0</th>\n      <td>4994</td>\n      <td>4994</td>\n      <td>4994</td>\n      <td>4994</td>\n      <td>4994</td>\n      <td>4994</td>\n      <td>4994</td>\n      <td>4994</td>\n      <td>4994</td>\n      <td>4994</td>\n      <td>...</td>\n      <td>4994</td>\n      <td>4994</td>\n      <td>4994</td>\n      <td>4994</td>\n      <td>4994</td>\n      <td>4994</td>\n      <td>4994</td>\n      <td>4994</td>\n      <td>4994</td>\n      <td>0.524139</td>\n    </tr>\n    <tr>\n      <th>1</th>\n      <td>4534</td>\n      <td>4534</td>\n      <td>4534</td>\n      <td>4534</td>\n      <td>4534</td>\n      <td>4534</td>\n      <td>4534</td>\n      <td>4534</td>\n      <td>4534</td>\n      <td>4534</td>\n      <td>...</td>\n      <td>4534</td>\n      <td>4534</td>\n      <td>4534</td>\n      <td>4534</td>\n      <td>4534</td>\n      <td>4534</td>\n      <td>4534</td>\n      <td>4534</td>\n      <td>4534</td>\n      <td>0.475861</td>\n    </tr>\n    <tr>\n      <th rowspan=\"2\" valign=\"top\">Zylan Cheatham</th>\n      <th>0</th>\n      <td>3</td>\n      <td>3</td>\n      <td>3</td>\n      <td>3</td>\n      <td>3</td>\n      <td>3</td>\n      <td>3</td>\n      <td>3</td>\n      <td>3</td>\n      <td>3</td>\n      <td>...</td>\n      <td>3</td>\n      <td>3</td>\n      <td>3</td>\n      <td>3</td>\n      <td>3</td>\n      <td>3</td>\n      <td>3</td>\n      <td>3</td>\n      <td>3</td>\n      <td>0.600000</td>\n    </tr>\n    <tr>\n      <th>1</th>\n      <td>2</td>\n      <td>2</td>\n      <td>2</td>\n      <td>2</td>\n      <td>2</td>\n      <td>2</td>\n      <td>2</td>\n      <td>2</td>\n      <td>2</td>\n      <td>2</td>\n      <td>...</td>\n      <td>2</td>\n      <td>2</td>\n      <td>2</td>\n      <td>2</td>\n      <td>2</td>\n      <td>2</td>\n      <td>2</td>\n      <td>2</td>\n      <td>2</td>\n      <td>0.400000</td>\n    </tr>\n  </tbody>\n</table>\n<p>4236 rows × 21 columns</p>\n</div>"
     },
     "metadata": {},
     "execution_count": 135
    }
   ],
   "source": [
    "#Add the series into a column\n",
    "shot['Shooting Pct'] = x\n",
    "shot"
   ]
  },
  {
   "cell_type": "code",
   "execution_count": 140,
   "metadata": {},
   "outputs": [],
   "source": [
    "#Lets Reset the index\n",
    "shot.reset_index(inplace=True)"
   ]
  },
  {
   "cell_type": "code",
   "execution_count": 145,
   "metadata": {},
   "outputs": [],
   "source": [
    "#Lets take all the made shots\n",
    "shot=shot[shot['Shot Made Flag']==1]"
   ]
  },
  {
   "cell_type": "code",
   "execution_count": 148,
   "metadata": {},
   "outputs": [
    {
     "output_type": "execute_result",
     "data": {
      "text/plain": "             Player Name  Shot Made Flag  Game ID  Game Event ID  Player ID  \\\n1             A.C. Green               1      705            705        705   \n3          A.J. Bramlett               1        4              4          4   \n5            A.J. Guyton               1      165            165        165   \n7             AJ Hammons               1       17             17         17   \n9               AJ Price               1      563            563        563   \n...                  ...             ...      ...            ...        ...   \n4227     Zion Williamson               1      172            172        172   \n4229        Zoran Dragic               1       11             11         11   \n4231      Zoran Planinic               1      197            197        197   \n4233  Zydrunas Ilgauskas               1     4534           4534       4534   \n4235      Zylan Cheatham               1        2              2          2   \n\n      Team ID  Team Name  Period  Minutes Remaining  Seconds Remaining  ...  \\\n1         705        705     705                705                705  ...   \n3           4          4       4                  4                  4  ...   \n5         165        165     165                165                165  ...   \n7          17         17      17                 17                 17  ...   \n9         563        563     563                563                563  ...   \n...       ...        ...     ...                ...                ...  ...   \n4227      172        172     172                172                172  ...   \n4229       11         11      11                 11                 11  ...   \n4231      197        197     197                197                197  ...   \n4233     4534       4534    4534               4534               4534  ...   \n4235        2          2       2                  2                  2  ...   \n\n      Shot Zone Area  Shot Zone Range  Shot Distance  X Location  Y Location  \\\n1                705              705            705         705         705   \n3                  4                4              4           4           4   \n5                165              165            165         165         165   \n7                 17               17             17          17          17   \n9                563              563            563         563         563   \n...              ...              ...            ...         ...         ...   \n4227             172              172            172         172         172   \n4229              11               11             11          11          11   \n4231             197              197            197         197         197   \n4233            4534             4534           4534        4534        4534   \n4235               2                2              2           2           2   \n\n      Game Date  Home Team  Away Team  Season Type  Shooting Pct  \n1           705        705        705          705      0.442284  \n3             4          4          4            4      0.190476  \n5           165        165        165          165      0.375854  \n7            17         17         17           17      0.404762  \n9           563        563        563          563      0.380149  \n...         ...        ...        ...          ...           ...  \n4227        172        172        172          172      0.589041  \n4229         11         11         11           11      0.366667  \n4231        197        197        197          197      0.402863  \n4233       4534       4534       4534         4534      0.475861  \n4235          2          2          2            2      0.400000  \n\n[2100 rows x 23 columns]",
      "text/html": "<div>\n<style scoped>\n    .dataframe tbody tr th:only-of-type {\n        vertical-align: middle;\n    }\n\n    .dataframe tbody tr th {\n        vertical-align: top;\n    }\n\n    .dataframe thead th {\n        text-align: right;\n    }\n</style>\n<table border=\"1\" class=\"dataframe\">\n  <thead>\n    <tr style=\"text-align: right;\">\n      <th></th>\n      <th>Player Name</th>\n      <th>Shot Made Flag</th>\n      <th>Game ID</th>\n      <th>Game Event ID</th>\n      <th>Player ID</th>\n      <th>Team ID</th>\n      <th>Team Name</th>\n      <th>Period</th>\n      <th>Minutes Remaining</th>\n      <th>Seconds Remaining</th>\n      <th>...</th>\n      <th>Shot Zone Area</th>\n      <th>Shot Zone Range</th>\n      <th>Shot Distance</th>\n      <th>X Location</th>\n      <th>Y Location</th>\n      <th>Game Date</th>\n      <th>Home Team</th>\n      <th>Away Team</th>\n      <th>Season Type</th>\n      <th>Shooting Pct</th>\n    </tr>\n  </thead>\n  <tbody>\n    <tr>\n      <th>1</th>\n      <td>A.C. Green</td>\n      <td>1</td>\n      <td>705</td>\n      <td>705</td>\n      <td>705</td>\n      <td>705</td>\n      <td>705</td>\n      <td>705</td>\n      <td>705</td>\n      <td>705</td>\n      <td>...</td>\n      <td>705</td>\n      <td>705</td>\n      <td>705</td>\n      <td>705</td>\n      <td>705</td>\n      <td>705</td>\n      <td>705</td>\n      <td>705</td>\n      <td>705</td>\n      <td>0.442284</td>\n    </tr>\n    <tr>\n      <th>3</th>\n      <td>A.J. Bramlett</td>\n      <td>1</td>\n      <td>4</td>\n      <td>4</td>\n      <td>4</td>\n      <td>4</td>\n      <td>4</td>\n      <td>4</td>\n      <td>4</td>\n      <td>4</td>\n      <td>...</td>\n      <td>4</td>\n      <td>4</td>\n      <td>4</td>\n      <td>4</td>\n      <td>4</td>\n      <td>4</td>\n      <td>4</td>\n      <td>4</td>\n      <td>4</td>\n      <td>0.190476</td>\n    </tr>\n    <tr>\n      <th>5</th>\n      <td>A.J. Guyton</td>\n      <td>1</td>\n      <td>165</td>\n      <td>165</td>\n      <td>165</td>\n      <td>165</td>\n      <td>165</td>\n      <td>165</td>\n      <td>165</td>\n      <td>165</td>\n      <td>...</td>\n      <td>165</td>\n      <td>165</td>\n      <td>165</td>\n      <td>165</td>\n      <td>165</td>\n      <td>165</td>\n      <td>165</td>\n      <td>165</td>\n      <td>165</td>\n      <td>0.375854</td>\n    </tr>\n    <tr>\n      <th>7</th>\n      <td>AJ Hammons</td>\n      <td>1</td>\n      <td>17</td>\n      <td>17</td>\n      <td>17</td>\n      <td>17</td>\n      <td>17</td>\n      <td>17</td>\n      <td>17</td>\n      <td>17</td>\n      <td>...</td>\n      <td>17</td>\n      <td>17</td>\n      <td>17</td>\n      <td>17</td>\n      <td>17</td>\n      <td>17</td>\n      <td>17</td>\n      <td>17</td>\n      <td>17</td>\n      <td>0.404762</td>\n    </tr>\n    <tr>\n      <th>9</th>\n      <td>AJ Price</td>\n      <td>1</td>\n      <td>563</td>\n      <td>563</td>\n      <td>563</td>\n      <td>563</td>\n      <td>563</td>\n      <td>563</td>\n      <td>563</td>\n      <td>563</td>\n      <td>...</td>\n      <td>563</td>\n      <td>563</td>\n      <td>563</td>\n      <td>563</td>\n      <td>563</td>\n      <td>563</td>\n      <td>563</td>\n      <td>563</td>\n      <td>563</td>\n      <td>0.380149</td>\n    </tr>\n    <tr>\n      <th>...</th>\n      <td>...</td>\n      <td>...</td>\n      <td>...</td>\n      <td>...</td>\n      <td>...</td>\n      <td>...</td>\n      <td>...</td>\n      <td>...</td>\n      <td>...</td>\n      <td>...</td>\n      <td>...</td>\n      <td>...</td>\n      <td>...</td>\n      <td>...</td>\n      <td>...</td>\n      <td>...</td>\n      <td>...</td>\n      <td>...</td>\n      <td>...</td>\n      <td>...</td>\n      <td>...</td>\n    </tr>\n    <tr>\n      <th>4227</th>\n      <td>Zion Williamson</td>\n      <td>1</td>\n      <td>172</td>\n      <td>172</td>\n      <td>172</td>\n      <td>172</td>\n      <td>172</td>\n      <td>172</td>\n      <td>172</td>\n      <td>172</td>\n      <td>...</td>\n      <td>172</td>\n      <td>172</td>\n      <td>172</td>\n      <td>172</td>\n      <td>172</td>\n      <td>172</td>\n      <td>172</td>\n      <td>172</td>\n      <td>172</td>\n      <td>0.589041</td>\n    </tr>\n    <tr>\n      <th>4229</th>\n      <td>Zoran Dragic</td>\n      <td>1</td>\n      <td>11</td>\n      <td>11</td>\n      <td>11</td>\n      <td>11</td>\n      <td>11</td>\n      <td>11</td>\n      <td>11</td>\n      <td>11</td>\n      <td>...</td>\n      <td>11</td>\n      <td>11</td>\n      <td>11</td>\n      <td>11</td>\n      <td>11</td>\n      <td>11</td>\n      <td>11</td>\n      <td>11</td>\n      <td>11</td>\n      <td>0.366667</td>\n    </tr>\n    <tr>\n      <th>4231</th>\n      <td>Zoran Planinic</td>\n      <td>1</td>\n      <td>197</td>\n      <td>197</td>\n      <td>197</td>\n      <td>197</td>\n      <td>197</td>\n      <td>197</td>\n      <td>197</td>\n      <td>197</td>\n      <td>...</td>\n      <td>197</td>\n      <td>197</td>\n      <td>197</td>\n      <td>197</td>\n      <td>197</td>\n      <td>197</td>\n      <td>197</td>\n      <td>197</td>\n      <td>197</td>\n      <td>0.402863</td>\n    </tr>\n    <tr>\n      <th>4233</th>\n      <td>Zydrunas Ilgauskas</td>\n      <td>1</td>\n      <td>4534</td>\n      <td>4534</td>\n      <td>4534</td>\n      <td>4534</td>\n      <td>4534</td>\n      <td>4534</td>\n      <td>4534</td>\n      <td>4534</td>\n      <td>...</td>\n      <td>4534</td>\n      <td>4534</td>\n      <td>4534</td>\n      <td>4534</td>\n      <td>4534</td>\n      <td>4534</td>\n      <td>4534</td>\n      <td>4534</td>\n      <td>4534</td>\n      <td>0.475861</td>\n    </tr>\n    <tr>\n      <th>4235</th>\n      <td>Zylan Cheatham</td>\n      <td>1</td>\n      <td>2</td>\n      <td>2</td>\n      <td>2</td>\n      <td>2</td>\n      <td>2</td>\n      <td>2</td>\n      <td>2</td>\n      <td>2</td>\n      <td>...</td>\n      <td>2</td>\n      <td>2</td>\n      <td>2</td>\n      <td>2</td>\n      <td>2</td>\n      <td>2</td>\n      <td>2</td>\n      <td>2</td>\n      <td>2</td>\n      <td>0.400000</td>\n    </tr>\n  </tbody>\n</table>\n<p>2100 rows × 23 columns</p>\n</div>"
     },
     "metadata": {},
     "execution_count": 148
    }
   ],
   "source": [
    "#Check\n",
    "shot"
   ]
  },
  {
   "cell_type": "code",
   "execution_count": 150,
   "metadata": {},
   "outputs": [],
   "source": [
    "#There are alot of players with too little shots, lets just take players who have made more than 5000 shots\n",
    "shot=shot[shot['Game ID']>=5000]"
   ]
  },
  {
   "cell_type": "code",
   "execution_count": 157,
   "metadata": {},
   "outputs": [],
   "source": [
    "#Lets reduce the columns\n",
    "shot=shot[['Player Name','Shooting Pct','Game ID']]"
   ]
  },
  {
   "cell_type": "code",
   "execution_count": 163,
   "metadata": {},
   "outputs": [
    {
     "output_type": "execute_result",
     "data": {
      "text/plain": "            Player Name  Shooting Pct  Shots Made\n53        Al Harrington      0.441864        5176\n55           Al Horford      0.517475        5641\n57         Al Jefferson      0.499007        6282\n111       Allen Iverson      0.423832        8597\n131   Amar'e Stoudemire      0.534766        6422\n...                 ...           ...         ...\n3850         Tim Duncan      0.505264       12238\n3917        Tony Parker      0.485799        9390\n3933      Tracy McGrady      0.434724        7106\n4071       Vince Carter      0.434317        9849\n4211      Zach Randolph      0.469337        7875\n\n[72 rows x 3 columns]",
      "text/html": "<div>\n<style scoped>\n    .dataframe tbody tr th:only-of-type {\n        vertical-align: middle;\n    }\n\n    .dataframe tbody tr th {\n        vertical-align: top;\n    }\n\n    .dataframe thead th {\n        text-align: right;\n    }\n</style>\n<table border=\"1\" class=\"dataframe\">\n  <thead>\n    <tr style=\"text-align: right;\">\n      <th></th>\n      <th>Player Name</th>\n      <th>Shooting Pct</th>\n      <th>Shots Made</th>\n    </tr>\n  </thead>\n  <tbody>\n    <tr>\n      <th>53</th>\n      <td>Al Harrington</td>\n      <td>0.441864</td>\n      <td>5176</td>\n    </tr>\n    <tr>\n      <th>55</th>\n      <td>Al Horford</td>\n      <td>0.517475</td>\n      <td>5641</td>\n    </tr>\n    <tr>\n      <th>57</th>\n      <td>Al Jefferson</td>\n      <td>0.499007</td>\n      <td>6282</td>\n    </tr>\n    <tr>\n      <th>111</th>\n      <td>Allen Iverson</td>\n      <td>0.423832</td>\n      <td>8597</td>\n    </tr>\n    <tr>\n      <th>131</th>\n      <td>Amar'e Stoudemire</td>\n      <td>0.534766</td>\n      <td>6422</td>\n    </tr>\n    <tr>\n      <th>...</th>\n      <td>...</td>\n      <td>...</td>\n      <td>...</td>\n    </tr>\n    <tr>\n      <th>3850</th>\n      <td>Tim Duncan</td>\n      <td>0.505264</td>\n      <td>12238</td>\n    </tr>\n    <tr>\n      <th>3917</th>\n      <td>Tony Parker</td>\n      <td>0.485799</td>\n      <td>9390</td>\n    </tr>\n    <tr>\n      <th>3933</th>\n      <td>Tracy McGrady</td>\n      <td>0.434724</td>\n      <td>7106</td>\n    </tr>\n    <tr>\n      <th>4071</th>\n      <td>Vince Carter</td>\n      <td>0.434317</td>\n      <td>9849</td>\n    </tr>\n    <tr>\n      <th>4211</th>\n      <td>Zach Randolph</td>\n      <td>0.469337</td>\n      <td>7875</td>\n    </tr>\n  </tbody>\n</table>\n<p>72 rows × 3 columns</p>\n</div>"
     },
     "metadata": {},
     "execution_count": 163
    }
   ],
   "source": [
    "#Change the name of Game ID\n",
    "shot=shot.rename(columns={\"Game ID\": \"Shots Made\"})\n",
    "shot"
   ]
  },
  {
   "cell_type": "code",
   "execution_count": 164,
   "metadata": {},
   "outputs": [
    {
     "output_type": "execute_result",
     "data": {
      "text/plain": "            Player Name  Shooting Pct  Shots Made\n1244      Dwight Howard      0.586064        7351\n3627   Shaquille O'Neal      0.580606        9173\n131   Amar'e Stoudemire      0.534766        6422\n55           Al Horford      0.517475        5641\n552       Carlos Boozer      0.517338        6430\n3189          Pau Gasol      0.507358        8792\n3850         Tim Duncan      0.505264       12238\n2536       LeBron James      0.501753       14881\n1311        Elton Brand      0.500920        6805\n57         Al Jefferson      0.499007        6282",
      "text/html": "<div>\n<style scoped>\n    .dataframe tbody tr th:only-of-type {\n        vertical-align: middle;\n    }\n\n    .dataframe tbody tr th {\n        vertical-align: top;\n    }\n\n    .dataframe thead th {\n        text-align: right;\n    }\n</style>\n<table border=\"1\" class=\"dataframe\">\n  <thead>\n    <tr style=\"text-align: right;\">\n      <th></th>\n      <th>Player Name</th>\n      <th>Shooting Pct</th>\n      <th>Shots Made</th>\n    </tr>\n  </thead>\n  <tbody>\n    <tr>\n      <th>1244</th>\n      <td>Dwight Howard</td>\n      <td>0.586064</td>\n      <td>7351</td>\n    </tr>\n    <tr>\n      <th>3627</th>\n      <td>Shaquille O'Neal</td>\n      <td>0.580606</td>\n      <td>9173</td>\n    </tr>\n    <tr>\n      <th>131</th>\n      <td>Amar'e Stoudemire</td>\n      <td>0.534766</td>\n      <td>6422</td>\n    </tr>\n    <tr>\n      <th>55</th>\n      <td>Al Horford</td>\n      <td>0.517475</td>\n      <td>5641</td>\n    </tr>\n    <tr>\n      <th>552</th>\n      <td>Carlos Boozer</td>\n      <td>0.517338</td>\n      <td>6430</td>\n    </tr>\n    <tr>\n      <th>3189</th>\n      <td>Pau Gasol</td>\n      <td>0.507358</td>\n      <td>8792</td>\n    </tr>\n    <tr>\n      <th>3850</th>\n      <td>Tim Duncan</td>\n      <td>0.505264</td>\n      <td>12238</td>\n    </tr>\n    <tr>\n      <th>2536</th>\n      <td>LeBron James</td>\n      <td>0.501753</td>\n      <td>14881</td>\n    </tr>\n    <tr>\n      <th>1311</th>\n      <td>Elton Brand</td>\n      <td>0.500920</td>\n      <td>6805</td>\n    </tr>\n    <tr>\n      <th>57</th>\n      <td>Al Jefferson</td>\n      <td>0.499007</td>\n      <td>6282</td>\n    </tr>\n  </tbody>\n</table>\n</div>"
     },
     "metadata": {},
     "execution_count": 164
    }
   ],
   "source": [
    "#Lets take a look at the top 10\n",
    "shot.sort_values(by='Shooting Pct',ascending=False).head(10)"
   ]
  },
  {
   "cell_type": "code",
   "execution_count": null,
   "metadata": {},
   "outputs": [],
   "source": []
  }
 ],
 "metadata": {
  "kernelspec": {
   "display_name": "Python 3",
   "language": "python",
   "name": "python3"
  },
  "language_info": {
   "codemirror_mode": {
    "name": "ipython",
    "version": 3
   },
   "file_extension": ".py",
   "mimetype": "text/x-python",
   "name": "python",
   "nbconvert_exporter": "python",
   "pygments_lexer": "ipython3",
   "version": "3.7.8"
  }
 },
 "nbformat": 4,
 "nbformat_minor": 4
}