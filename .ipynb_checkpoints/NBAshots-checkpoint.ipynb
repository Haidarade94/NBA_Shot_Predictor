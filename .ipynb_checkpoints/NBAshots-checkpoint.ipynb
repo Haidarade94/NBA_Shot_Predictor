{
 "cells": [
  {
   "cell_type": "code",
   "execution_count": 337,
   "metadata": {},
   "outputs": [],
   "source": [
    "#Set up the library\n",
    "import pandas as pd\n",
    "import numpy as np\n",
    "import matplotlib.pyplot as plt \n",
    "import seaborn as sns\n",
    "import time\n",
    "from sklearn.metrics import confusion_matrix\n",
    "from tqdm import tqdm\n",
    "from sklearn.naive_bayes import MultinomialNB\n",
    "from sklearn.ensemble import GradientBoostingClassifier\n"
   ]
  },
  {
   "cell_type": "code",
   "execution_count": 248,
   "metadata": {},
   "outputs": [
    {
     "data": {
      "text/html": [
       "<div>\n",
       "<style scoped>\n",
       "    .dataframe tbody tr th:only-of-type {\n",
       "        vertical-align: middle;\n",
       "    }\n",
       "\n",
       "    .dataframe tbody tr th {\n",
       "        vertical-align: top;\n",
       "    }\n",
       "\n",
       "    .dataframe thead th {\n",
       "        text-align: right;\n",
       "    }\n",
       "</style>\n",
       "<table border=\"1\" class=\"dataframe\">\n",
       "  <thead>\n",
       "    <tr style=\"text-align: right;\">\n",
       "      <th></th>\n",
       "      <th>Game ID</th>\n",
       "      <th>Game Event ID</th>\n",
       "      <th>Player ID</th>\n",
       "      <th>Player Name</th>\n",
       "      <th>Team ID</th>\n",
       "      <th>Team Name</th>\n",
       "      <th>Period</th>\n",
       "      <th>Minutes Remaining</th>\n",
       "      <th>Seconds Remaining</th>\n",
       "      <th>Action Type</th>\n",
       "      <th>...</th>\n",
       "      <th>Shot Zone Area</th>\n",
       "      <th>Shot Zone Range</th>\n",
       "      <th>Shot Distance</th>\n",
       "      <th>X Location</th>\n",
       "      <th>Y Location</th>\n",
       "      <th>Shot Made Flag</th>\n",
       "      <th>Game Date</th>\n",
       "      <th>Home Team</th>\n",
       "      <th>Away Team</th>\n",
       "      <th>Season Type</th>\n",
       "    </tr>\n",
       "  </thead>\n",
       "  <tbody>\n",
       "    <tr>\n",
       "      <th>0</th>\n",
       "      <td>29700427</td>\n",
       "      <td>389</td>\n",
       "      <td>100</td>\n",
       "      <td>Tim Legler</td>\n",
       "      <td>1610612764</td>\n",
       "      <td>Washington Wizards</td>\n",
       "      <td>4</td>\n",
       "      <td>11</td>\n",
       "      <td>22</td>\n",
       "      <td>Jump Shot</td>\n",
       "      <td>...</td>\n",
       "      <td>Right Side(R)</td>\n",
       "      <td>8-16 ft.</td>\n",
       "      <td>15</td>\n",
       "      <td>117</td>\n",
       "      <td>109</td>\n",
       "      <td>1</td>\n",
       "      <td>19980102</td>\n",
       "      <td>WAS</td>\n",
       "      <td>IND</td>\n",
       "      <td>Regular Season</td>\n",
       "    </tr>\n",
       "    <tr>\n",
       "      <th>1</th>\n",
       "      <td>29700427</td>\n",
       "      <td>406</td>\n",
       "      <td>100</td>\n",
       "      <td>Tim Legler</td>\n",
       "      <td>1610612764</td>\n",
       "      <td>Washington Wizards</td>\n",
       "      <td>4</td>\n",
       "      <td>9</td>\n",
       "      <td>36</td>\n",
       "      <td>Jump Shot</td>\n",
       "      <td>...</td>\n",
       "      <td>Right Side(R)</td>\n",
       "      <td>8-16 ft.</td>\n",
       "      <td>14</td>\n",
       "      <td>143</td>\n",
       "      <td>25</td>\n",
       "      <td>0</td>\n",
       "      <td>19980102</td>\n",
       "      <td>WAS</td>\n",
       "      <td>IND</td>\n",
       "      <td>Regular Season</td>\n",
       "    </tr>\n",
       "    <tr>\n",
       "      <th>2</th>\n",
       "      <td>29700427</td>\n",
       "      <td>475</td>\n",
       "      <td>100</td>\n",
       "      <td>Tim Legler</td>\n",
       "      <td>1610612764</td>\n",
       "      <td>Washington Wizards</td>\n",
       "      <td>4</td>\n",
       "      <td>3</td>\n",
       "      <td>7</td>\n",
       "      <td>Jump Shot</td>\n",
       "      <td>...</td>\n",
       "      <td>Left Side(L)</td>\n",
       "      <td>8-16 ft.</td>\n",
       "      <td>10</td>\n",
       "      <td>-87</td>\n",
       "      <td>55</td>\n",
       "      <td>0</td>\n",
       "      <td>19980102</td>\n",
       "      <td>WAS</td>\n",
       "      <td>IND</td>\n",
       "      <td>Regular Season</td>\n",
       "    </tr>\n",
       "  </tbody>\n",
       "</table>\n",
       "<p>3 rows × 22 columns</p>\n",
       "</div>"
      ],
      "text/plain": [
       "    Game ID  Game Event ID  Player ID Player Name     Team ID  \\\n",
       "0  29700427            389        100  Tim Legler  1610612764   \n",
       "1  29700427            406        100  Tim Legler  1610612764   \n",
       "2  29700427            475        100  Tim Legler  1610612764   \n",
       "\n",
       "            Team Name  Period  Minutes Remaining  Seconds Remaining  \\\n",
       "0  Washington Wizards       4                 11                 22   \n",
       "1  Washington Wizards       4                  9                 36   \n",
       "2  Washington Wizards       4                  3                  7   \n",
       "\n",
       "  Action Type  ... Shot Zone Area Shot Zone Range Shot Distance X Location  \\\n",
       "0   Jump Shot  ...  Right Side(R)        8-16 ft.            15        117   \n",
       "1   Jump Shot  ...  Right Side(R)        8-16 ft.            14        143   \n",
       "2   Jump Shot  ...   Left Side(L)        8-16 ft.            10        -87   \n",
       "\n",
       "   Y Location  Shot Made Flag  Game Date  Home Team  Away Team     Season Type  \n",
       "0         109               1   19980102        WAS        IND  Regular Season  \n",
       "1          25               0   19980102        WAS        IND  Regular Season  \n",
       "2          55               0   19980102        WAS        IND  Regular Season  \n",
       "\n",
       "[3 rows x 22 columns]"
      ]
     },
     "execution_count": 248,
     "metadata": {},
     "output_type": "execute_result"
    }
   ],
   "source": [
    "#Set up the dataframe\n",
    "df = pd.read_csv('data/NBA Shot Locations 1997 - 2020.csv')\n",
    "df.head(3)"
   ]
  },
  {
   "cell_type": "code",
   "execution_count": 250,
   "metadata": {
    "scrolled": true
   },
   "outputs": [
    {
     "data": {
      "text/html": [
       "<div>\n",
       "<style scoped>\n",
       "    .dataframe tbody tr th:only-of-type {\n",
       "        vertical-align: middle;\n",
       "    }\n",
       "\n",
       "    .dataframe tbody tr th {\n",
       "        vertical-align: top;\n",
       "    }\n",
       "\n",
       "    .dataframe thead th {\n",
       "        text-align: right;\n",
       "    }\n",
       "</style>\n",
       "<table border=\"1\" class=\"dataframe\">\n",
       "  <thead>\n",
       "    <tr style=\"text-align: right;\">\n",
       "      <th></th>\n",
       "      <th>Game ID</th>\n",
       "      <th>Game Event ID</th>\n",
       "      <th>Player ID</th>\n",
       "      <th>Player Name</th>\n",
       "      <th>Team ID</th>\n",
       "      <th>Team Name</th>\n",
       "      <th>Period</th>\n",
       "      <th>Minutes Remaining</th>\n",
       "      <th>Seconds Remaining</th>\n",
       "      <th>Action Type</th>\n",
       "      <th>...</th>\n",
       "      <th>Shot Zone Area</th>\n",
       "      <th>Shot Zone Range</th>\n",
       "      <th>Shot Distance</th>\n",
       "      <th>X Location</th>\n",
       "      <th>Y Location</th>\n",
       "      <th>Shot Made Flag</th>\n",
       "      <th>Game Date</th>\n",
       "      <th>Home Team</th>\n",
       "      <th>Away Team</th>\n",
       "      <th>Season Type</th>\n",
       "    </tr>\n",
       "  </thead>\n",
       "  <tbody>\n",
       "    <tr>\n",
       "      <th>1194060</th>\n",
       "      <td>20300014</td>\n",
       "      <td>20</td>\n",
       "      <td>2544</td>\n",
       "      <td>LeBron James</td>\n",
       "      <td>1610612739</td>\n",
       "      <td>Cleveland Cavaliers</td>\n",
       "      <td>1</td>\n",
       "      <td>8</td>\n",
       "      <td>56</td>\n",
       "      <td>Jump Shot</td>\n",
       "      <td>...</td>\n",
       "      <td>Right Side(R)</td>\n",
       "      <td>8-16 ft.</td>\n",
       "      <td>15</td>\n",
       "      <td>158</td>\n",
       "      <td>0</td>\n",
       "      <td>1</td>\n",
       "      <td>20031029</td>\n",
       "      <td>SAC</td>\n",
       "      <td>CLE</td>\n",
       "      <td>Regular Season</td>\n",
       "    </tr>\n",
       "    <tr>\n",
       "      <th>1194061</th>\n",
       "      <td>20300014</td>\n",
       "      <td>28</td>\n",
       "      <td>2544</td>\n",
       "      <td>LeBron James</td>\n",
       "      <td>1610612739</td>\n",
       "      <td>Cleveland Cavaliers</td>\n",
       "      <td>1</td>\n",
       "      <td>7</td>\n",
       "      <td>44</td>\n",
       "      <td>Jump Shot</td>\n",
       "      <td>...</td>\n",
       "      <td>Left Side(L)</td>\n",
       "      <td>8-16 ft.</td>\n",
       "      <td>13</td>\n",
       "      <td>-131</td>\n",
       "      <td>2</td>\n",
       "      <td>1</td>\n",
       "      <td>20031029</td>\n",
       "      <td>SAC</td>\n",
       "      <td>CLE</td>\n",
       "      <td>Regular Season</td>\n",
       "    </tr>\n",
       "    <tr>\n",
       "      <th>1194062</th>\n",
       "      <td>20300014</td>\n",
       "      <td>35</td>\n",
       "      <td>2544</td>\n",
       "      <td>LeBron James</td>\n",
       "      <td>1610612739</td>\n",
       "      <td>Cleveland Cavaliers</td>\n",
       "      <td>1</td>\n",
       "      <td>7</td>\n",
       "      <td>1</td>\n",
       "      <td>Fadeaway Jump Shot</td>\n",
       "      <td>...</td>\n",
       "      <td>Right Side(R)</td>\n",
       "      <td>16-24 ft.</td>\n",
       "      <td>16</td>\n",
       "      <td>163</td>\n",
       "      <td>5</td>\n",
       "      <td>1</td>\n",
       "      <td>20031029</td>\n",
       "      <td>SAC</td>\n",
       "      <td>CLE</td>\n",
       "      <td>Regular Season</td>\n",
       "    </tr>\n",
       "  </tbody>\n",
       "</table>\n",
       "<p>3 rows × 22 columns</p>\n",
       "</div>"
      ],
      "text/plain": [
       "          Game ID  Game Event ID  Player ID   Player Name     Team ID  \\\n",
       "1194060  20300014             20       2544  LeBron James  1610612739   \n",
       "1194061  20300014             28       2544  LeBron James  1610612739   \n",
       "1194062  20300014             35       2544  LeBron James  1610612739   \n",
       "\n",
       "                   Team Name  Period  Minutes Remaining  Seconds Remaining  \\\n",
       "1194060  Cleveland Cavaliers       1                  8                 56   \n",
       "1194061  Cleveland Cavaliers       1                  7                 44   \n",
       "1194062  Cleveland Cavaliers       1                  7                  1   \n",
       "\n",
       "                Action Type  ... Shot Zone Area Shot Zone Range Shot Distance  \\\n",
       "1194060           Jump Shot  ...  Right Side(R)        8-16 ft.            15   \n",
       "1194061           Jump Shot  ...   Left Side(L)        8-16 ft.            13   \n",
       "1194062  Fadeaway Jump Shot  ...  Right Side(R)       16-24 ft.            16   \n",
       "\n",
       "        X Location  Y Location  Shot Made Flag  Game Date  Home Team  \\\n",
       "1194060        158           0               1   20031029        SAC   \n",
       "1194061       -131           2               1   20031029        SAC   \n",
       "1194062        163           5               1   20031029        SAC   \n",
       "\n",
       "         Away Team     Season Type  \n",
       "1194060        CLE  Regular Season  \n",
       "1194061        CLE  Regular Season  \n",
       "1194062        CLE  Regular Season  \n",
       "\n",
       "[3 rows x 22 columns]"
      ]
     },
     "execution_count": 250,
     "metadata": {},
     "output_type": "execute_result"
    }
   ],
   "source": [
    "#Test Data Frame will be LeBron James, Raptors Player, PG\n",
    "test_df=df[df['Player Name'] == 'LeBron James']\n",
    "test_df.head(3)"
   ]
  },
  {
   "cell_type": "code",
   "execution_count": 251,
   "metadata": {},
   "outputs": [
    {
     "data": {
      "text/plain": [
       "Index(['Game ID', 'Game Event ID', 'Player ID', 'Player Name', 'Team ID',\n",
       "       'Team Name', 'Period', 'Minutes Remaining', 'Seconds Remaining',\n",
       "       'Action Type', 'Shot Type', 'Shot Zone Basic', 'Shot Zone Area',\n",
       "       'Shot Zone Range', 'Shot Distance', 'X Location', 'Y Location',\n",
       "       'Shot Made Flag', 'Game Date', 'Home Team', 'Away Team', 'Season Type'],\n",
       "      dtype='object')"
      ]
     },
     "execution_count": 251,
     "metadata": {},
     "output_type": "execute_result"
    }
   ],
   "source": [
    "test_df.columns"
   ]
  },
  {
   "cell_type": "code",
   "execution_count": 252,
   "metadata": {},
   "outputs": [
    {
     "data": {
      "text/plain": [
       "2PT Field Goal    23135\n",
       "3PT Field Goal     6523\n",
       "Name: Shot Type, dtype: int64"
      ]
     },
     "execution_count": 252,
     "metadata": {},
     "output_type": "execute_result"
    }
   ],
   "source": [
    "test_df['Shot Type'].value_counts()"
   ]
  },
  {
   "cell_type": "code",
   "execution_count": 253,
   "metadata": {},
   "outputs": [],
   "source": [
    "DT_df= test_df.drop(['Team ID','Player ID',\n",
    "                     'Player Name','Game Event ID', 'Team Name','X Location', 'Y Location', \n",
    "                     'Home Team','Away Team','Season Type','Action Type','Shot Zone Basic'\n",
    "                    ],axis=1)"
   ]
  },
  {
   "cell_type": "code",
   "execution_count": 254,
   "metadata": {},
   "outputs": [
    {
     "data": {
      "text/html": [
       "<div>\n",
       "<style scoped>\n",
       "    .dataframe tbody tr th:only-of-type {\n",
       "        vertical-align: middle;\n",
       "    }\n",
       "\n",
       "    .dataframe tbody tr th {\n",
       "        vertical-align: top;\n",
       "    }\n",
       "\n",
       "    .dataframe thead th {\n",
       "        text-align: right;\n",
       "    }\n",
       "</style>\n",
       "<table border=\"1\" class=\"dataframe\">\n",
       "  <thead>\n",
       "    <tr style=\"text-align: right;\">\n",
       "      <th></th>\n",
       "      <th>Game ID</th>\n",
       "      <th>Period</th>\n",
       "      <th>Minutes Remaining</th>\n",
       "      <th>Seconds Remaining</th>\n",
       "      <th>Shot Zone Area</th>\n",
       "      <th>Shot Distance</th>\n",
       "      <th>Shot Made Flag</th>\n",
       "      <th>Game Date</th>\n",
       "      <th>2PT Field Goal</th>\n",
       "      <th>3PT Field Goal</th>\n",
       "      <th>16-24 ft.</th>\n",
       "      <th>24+ ft.</th>\n",
       "      <th>8-16 ft.</th>\n",
       "      <th>Back Court Shot</th>\n",
       "      <th>Less Than 8 ft.</th>\n",
       "    </tr>\n",
       "  </thead>\n",
       "  <tbody>\n",
       "    <tr>\n",
       "      <th>1194060</th>\n",
       "      <td>20300014</td>\n",
       "      <td>1</td>\n",
       "      <td>8</td>\n",
       "      <td>56</td>\n",
       "      <td>Right Side(R)</td>\n",
       "      <td>15</td>\n",
       "      <td>1</td>\n",
       "      <td>20031029</td>\n",
       "      <td>1</td>\n",
       "      <td>0</td>\n",
       "      <td>0</td>\n",
       "      <td>0</td>\n",
       "      <td>1</td>\n",
       "      <td>0</td>\n",
       "      <td>0</td>\n",
       "    </tr>\n",
       "    <tr>\n",
       "      <th>1194061</th>\n",
       "      <td>20300014</td>\n",
       "      <td>1</td>\n",
       "      <td>7</td>\n",
       "      <td>44</td>\n",
       "      <td>Left Side(L)</td>\n",
       "      <td>13</td>\n",
       "      <td>1</td>\n",
       "      <td>20031029</td>\n",
       "      <td>1</td>\n",
       "      <td>0</td>\n",
       "      <td>0</td>\n",
       "      <td>0</td>\n",
       "      <td>1</td>\n",
       "      <td>0</td>\n",
       "      <td>0</td>\n",
       "    </tr>\n",
       "    <tr>\n",
       "      <th>1194062</th>\n",
       "      <td>20300014</td>\n",
       "      <td>1</td>\n",
       "      <td>7</td>\n",
       "      <td>1</td>\n",
       "      <td>Right Side(R)</td>\n",
       "      <td>16</td>\n",
       "      <td>1</td>\n",
       "      <td>20031029</td>\n",
       "      <td>1</td>\n",
       "      <td>0</td>\n",
       "      <td>1</td>\n",
       "      <td>0</td>\n",
       "      <td>0</td>\n",
       "      <td>0</td>\n",
       "      <td>0</td>\n",
       "    </tr>\n",
       "    <tr>\n",
       "      <th>1194063</th>\n",
       "      <td>20300014</td>\n",
       "      <td>1</td>\n",
       "      <td>6</td>\n",
       "      <td>29</td>\n",
       "      <td>Left Side(L)</td>\n",
       "      <td>14</td>\n",
       "      <td>0</td>\n",
       "      <td>20031029</td>\n",
       "      <td>1</td>\n",
       "      <td>0</td>\n",
       "      <td>0</td>\n",
       "      <td>0</td>\n",
       "      <td>1</td>\n",
       "      <td>0</td>\n",
       "      <td>0</td>\n",
       "    </tr>\n",
       "    <tr>\n",
       "      <th>1194064</th>\n",
       "      <td>20300014</td>\n",
       "      <td>1</td>\n",
       "      <td>4</td>\n",
       "      <td>48</td>\n",
       "      <td>Center(C)</td>\n",
       "      <td>5</td>\n",
       "      <td>1</td>\n",
       "      <td>20031029</td>\n",
       "      <td>1</td>\n",
       "      <td>0</td>\n",
       "      <td>0</td>\n",
       "      <td>0</td>\n",
       "      <td>0</td>\n",
       "      <td>0</td>\n",
       "      <td>1</td>\n",
       "    </tr>\n",
       "    <tr>\n",
       "      <th>...</th>\n",
       "      <td>...</td>\n",
       "      <td>...</td>\n",
       "      <td>...</td>\n",
       "      <td>...</td>\n",
       "      <td>...</td>\n",
       "      <td>...</td>\n",
       "      <td>...</td>\n",
       "      <td>...</td>\n",
       "      <td>...</td>\n",
       "      <td>...</td>\n",
       "      <td>...</td>\n",
       "      <td>...</td>\n",
       "      <td>...</td>\n",
       "      <td>...</td>\n",
       "      <td>...</td>\n",
       "    </tr>\n",
       "    <tr>\n",
       "      <th>4714391</th>\n",
       "      <td>41700404</td>\n",
       "      <td>2</td>\n",
       "      <td>7</td>\n",
       "      <td>12</td>\n",
       "      <td>Center(C)</td>\n",
       "      <td>0</td>\n",
       "      <td>1</td>\n",
       "      <td>20180608</td>\n",
       "      <td>1</td>\n",
       "      <td>0</td>\n",
       "      <td>0</td>\n",
       "      <td>0</td>\n",
       "      <td>0</td>\n",
       "      <td>0</td>\n",
       "      <td>1</td>\n",
       "    </tr>\n",
       "    <tr>\n",
       "      <th>4714392</th>\n",
       "      <td>41700404</td>\n",
       "      <td>2</td>\n",
       "      <td>5</td>\n",
       "      <td>49</td>\n",
       "      <td>Center(C)</td>\n",
       "      <td>8</td>\n",
       "      <td>1</td>\n",
       "      <td>20180608</td>\n",
       "      <td>1</td>\n",
       "      <td>0</td>\n",
       "      <td>0</td>\n",
       "      <td>0</td>\n",
       "      <td>1</td>\n",
       "      <td>0</td>\n",
       "      <td>0</td>\n",
       "    </tr>\n",
       "    <tr>\n",
       "      <th>4714393</th>\n",
       "      <td>41700404</td>\n",
       "      <td>3</td>\n",
       "      <td>7</td>\n",
       "      <td>6</td>\n",
       "      <td>Left Side Center(LC)</td>\n",
       "      <td>24</td>\n",
       "      <td>0</td>\n",
       "      <td>20180608</td>\n",
       "      <td>0</td>\n",
       "      <td>1</td>\n",
       "      <td>0</td>\n",
       "      <td>1</td>\n",
       "      <td>0</td>\n",
       "      <td>0</td>\n",
       "      <td>0</td>\n",
       "    </tr>\n",
       "    <tr>\n",
       "      <th>4714394</th>\n",
       "      <td>41700404</td>\n",
       "      <td>3</td>\n",
       "      <td>0</td>\n",
       "      <td>15</td>\n",
       "      <td>Center(C)</td>\n",
       "      <td>3</td>\n",
       "      <td>0</td>\n",
       "      <td>20180608</td>\n",
       "      <td>1</td>\n",
       "      <td>0</td>\n",
       "      <td>0</td>\n",
       "      <td>0</td>\n",
       "      <td>0</td>\n",
       "      <td>0</td>\n",
       "      <td>1</td>\n",
       "    </tr>\n",
       "    <tr>\n",
       "      <th>4714395</th>\n",
       "      <td>41700404</td>\n",
       "      <td>4</td>\n",
       "      <td>5</td>\n",
       "      <td>40</td>\n",
       "      <td>Center(C)</td>\n",
       "      <td>1</td>\n",
       "      <td>1</td>\n",
       "      <td>20180608</td>\n",
       "      <td>1</td>\n",
       "      <td>0</td>\n",
       "      <td>0</td>\n",
       "      <td>0</td>\n",
       "      <td>0</td>\n",
       "      <td>0</td>\n",
       "      <td>1</td>\n",
       "    </tr>\n",
       "  </tbody>\n",
       "</table>\n",
       "<p>29658 rows × 15 columns</p>\n",
       "</div>"
      ],
      "text/plain": [
       "          Game ID  Period  Minutes Remaining  Seconds Remaining  \\\n",
       "1194060  20300014       1                  8                 56   \n",
       "1194061  20300014       1                  7                 44   \n",
       "1194062  20300014       1                  7                  1   \n",
       "1194063  20300014       1                  6                 29   \n",
       "1194064  20300014       1                  4                 48   \n",
       "...           ...     ...                ...                ...   \n",
       "4714391  41700404       2                  7                 12   \n",
       "4714392  41700404       2                  5                 49   \n",
       "4714393  41700404       3                  7                  6   \n",
       "4714394  41700404       3                  0                 15   \n",
       "4714395  41700404       4                  5                 40   \n",
       "\n",
       "               Shot Zone Area  Shot Distance  Shot Made Flag  Game Date  \\\n",
       "1194060         Right Side(R)             15               1   20031029   \n",
       "1194061          Left Side(L)             13               1   20031029   \n",
       "1194062         Right Side(R)             16               1   20031029   \n",
       "1194063          Left Side(L)             14               0   20031029   \n",
       "1194064             Center(C)              5               1   20031029   \n",
       "...                       ...            ...             ...        ...   \n",
       "4714391             Center(C)              0               1   20180608   \n",
       "4714392             Center(C)              8               1   20180608   \n",
       "4714393  Left Side Center(LC)             24               0   20180608   \n",
       "4714394             Center(C)              3               0   20180608   \n",
       "4714395             Center(C)              1               1   20180608   \n",
       "\n",
       "         2PT Field Goal  3PT Field Goal  16-24 ft.  24+ ft.  8-16 ft.  \\\n",
       "1194060               1               0          0        0         1   \n",
       "1194061               1               0          0        0         1   \n",
       "1194062               1               0          1        0         0   \n",
       "1194063               1               0          0        0         1   \n",
       "1194064               1               0          0        0         0   \n",
       "...                 ...             ...        ...      ...       ...   \n",
       "4714391               1               0          0        0         0   \n",
       "4714392               1               0          0        0         1   \n",
       "4714393               0               1          0        1         0   \n",
       "4714394               1               0          0        0         0   \n",
       "4714395               1               0          0        0         0   \n",
       "\n",
       "         Back Court Shot  Less Than 8 ft.  \n",
       "1194060                0                0  \n",
       "1194061                0                0  \n",
       "1194062                0                0  \n",
       "1194063                0                0  \n",
       "1194064                0                1  \n",
       "...                  ...              ...  \n",
       "4714391                0                1  \n",
       "4714392                0                0  \n",
       "4714393                0                0  \n",
       "4714394                0                1  \n",
       "4714395                0                1  \n",
       "\n",
       "[29658 rows x 15 columns]"
      ]
     },
     "execution_count": 254,
     "metadata": {},
     "output_type": "execute_result"
    }
   ],
   "source": [
    "#Rebuild the DF\n",
    "#idka=pd.get_dummies(DT_df['Action Type'])\n",
    "idkb=pd.get_dummies(DT_df['Shot Type'])\n",
    "#idkc=pd.get_dummies(DT_df['Shot Zone Basic'])\n",
    "idkd=pd.get_dummies(DT_df['Shot Zone Range'])\n",
    "idk = pd.concat([DT_df, idkb, idkd], axis=1, sort=False)\n",
    "idk=idk.drop(['Shot Type','Shot Zone Range'],axis=1)\n",
    "idk"
   ]
  },
  {
   "cell_type": "code",
   "execution_count": 255,
   "metadata": {},
   "outputs": [
    {
     "data": {
      "text/html": [
       "<div>\n",
       "<style scoped>\n",
       "    .dataframe tbody tr th:only-of-type {\n",
       "        vertical-align: middle;\n",
       "    }\n",
       "\n",
       "    .dataframe tbody tr th {\n",
       "        vertical-align: top;\n",
       "    }\n",
       "\n",
       "    .dataframe thead th {\n",
       "        text-align: right;\n",
       "    }\n",
       "</style>\n",
       "<table border=\"1\" class=\"dataframe\">\n",
       "  <thead>\n",
       "    <tr style=\"text-align: right;\">\n",
       "      <th></th>\n",
       "      <th>Game ID</th>\n",
       "      <th>Period</th>\n",
       "      <th>Minutes Remaining</th>\n",
       "      <th>Seconds Remaining</th>\n",
       "      <th>Shot Zone Area</th>\n",
       "      <th>Shot Distance</th>\n",
       "      <th>Shot Made Flag</th>\n",
       "      <th>Game Date</th>\n",
       "      <th>2PT Field Goal</th>\n",
       "      <th>3PT Field Goal</th>\n",
       "      <th>16-24 ft.</th>\n",
       "      <th>24+ ft.</th>\n",
       "      <th>8-16 ft.</th>\n",
       "      <th>Back Court Shot</th>\n",
       "      <th>Less Than 8 ft.</th>\n",
       "    </tr>\n",
       "  </thead>\n",
       "  <tbody>\n",
       "    <tr>\n",
       "      <th>1194060</th>\n",
       "      <td>20300014</td>\n",
       "      <td>1</td>\n",
       "      <td>8</td>\n",
       "      <td>56</td>\n",
       "      <td>Right Side(R)</td>\n",
       "      <td>15</td>\n",
       "      <td>1</td>\n",
       "      <td>20031029</td>\n",
       "      <td>1</td>\n",
       "      <td>0</td>\n",
       "      <td>0</td>\n",
       "      <td>0</td>\n",
       "      <td>1</td>\n",
       "      <td>0</td>\n",
       "      <td>0</td>\n",
       "    </tr>\n",
       "    <tr>\n",
       "      <th>1194061</th>\n",
       "      <td>20300014</td>\n",
       "      <td>1</td>\n",
       "      <td>7</td>\n",
       "      <td>44</td>\n",
       "      <td>Left Side(L)</td>\n",
       "      <td>13</td>\n",
       "      <td>1</td>\n",
       "      <td>20031029</td>\n",
       "      <td>1</td>\n",
       "      <td>0</td>\n",
       "      <td>0</td>\n",
       "      <td>0</td>\n",
       "      <td>1</td>\n",
       "      <td>0</td>\n",
       "      <td>0</td>\n",
       "    </tr>\n",
       "    <tr>\n",
       "      <th>1194062</th>\n",
       "      <td>20300014</td>\n",
       "      <td>1</td>\n",
       "      <td>7</td>\n",
       "      <td>1</td>\n",
       "      <td>Right Side(R)</td>\n",
       "      <td>16</td>\n",
       "      <td>1</td>\n",
       "      <td>20031029</td>\n",
       "      <td>1</td>\n",
       "      <td>0</td>\n",
       "      <td>1</td>\n",
       "      <td>0</td>\n",
       "      <td>0</td>\n",
       "      <td>0</td>\n",
       "      <td>0</td>\n",
       "    </tr>\n",
       "    <tr>\n",
       "      <th>1194063</th>\n",
       "      <td>20300014</td>\n",
       "      <td>1</td>\n",
       "      <td>6</td>\n",
       "      <td>29</td>\n",
       "      <td>Left Side(L)</td>\n",
       "      <td>14</td>\n",
       "      <td>0</td>\n",
       "      <td>20031029</td>\n",
       "      <td>1</td>\n",
       "      <td>0</td>\n",
       "      <td>0</td>\n",
       "      <td>0</td>\n",
       "      <td>1</td>\n",
       "      <td>0</td>\n",
       "      <td>0</td>\n",
       "    </tr>\n",
       "    <tr>\n",
       "      <th>1194064</th>\n",
       "      <td>20300014</td>\n",
       "      <td>1</td>\n",
       "      <td>4</td>\n",
       "      <td>48</td>\n",
       "      <td>Center(C)</td>\n",
       "      <td>5</td>\n",
       "      <td>1</td>\n",
       "      <td>20031029</td>\n",
       "      <td>1</td>\n",
       "      <td>0</td>\n",
       "      <td>0</td>\n",
       "      <td>0</td>\n",
       "      <td>0</td>\n",
       "      <td>0</td>\n",
       "      <td>1</td>\n",
       "    </tr>\n",
       "    <tr>\n",
       "      <th>...</th>\n",
       "      <td>...</td>\n",
       "      <td>...</td>\n",
       "      <td>...</td>\n",
       "      <td>...</td>\n",
       "      <td>...</td>\n",
       "      <td>...</td>\n",
       "      <td>...</td>\n",
       "      <td>...</td>\n",
       "      <td>...</td>\n",
       "      <td>...</td>\n",
       "      <td>...</td>\n",
       "      <td>...</td>\n",
       "      <td>...</td>\n",
       "      <td>...</td>\n",
       "      <td>...</td>\n",
       "    </tr>\n",
       "    <tr>\n",
       "      <th>4714391</th>\n",
       "      <td>41700404</td>\n",
       "      <td>2</td>\n",
       "      <td>7</td>\n",
       "      <td>12</td>\n",
       "      <td>Center(C)</td>\n",
       "      <td>0</td>\n",
       "      <td>1</td>\n",
       "      <td>20180608</td>\n",
       "      <td>1</td>\n",
       "      <td>0</td>\n",
       "      <td>0</td>\n",
       "      <td>0</td>\n",
       "      <td>0</td>\n",
       "      <td>0</td>\n",
       "      <td>1</td>\n",
       "    </tr>\n",
       "    <tr>\n",
       "      <th>4714392</th>\n",
       "      <td>41700404</td>\n",
       "      <td>2</td>\n",
       "      <td>5</td>\n",
       "      <td>49</td>\n",
       "      <td>Center(C)</td>\n",
       "      <td>8</td>\n",
       "      <td>1</td>\n",
       "      <td>20180608</td>\n",
       "      <td>1</td>\n",
       "      <td>0</td>\n",
       "      <td>0</td>\n",
       "      <td>0</td>\n",
       "      <td>1</td>\n",
       "      <td>0</td>\n",
       "      <td>0</td>\n",
       "    </tr>\n",
       "    <tr>\n",
       "      <th>4714393</th>\n",
       "      <td>41700404</td>\n",
       "      <td>3</td>\n",
       "      <td>7</td>\n",
       "      <td>6</td>\n",
       "      <td>Left Side Center(LC)</td>\n",
       "      <td>24</td>\n",
       "      <td>0</td>\n",
       "      <td>20180608</td>\n",
       "      <td>0</td>\n",
       "      <td>1</td>\n",
       "      <td>0</td>\n",
       "      <td>1</td>\n",
       "      <td>0</td>\n",
       "      <td>0</td>\n",
       "      <td>0</td>\n",
       "    </tr>\n",
       "    <tr>\n",
       "      <th>4714394</th>\n",
       "      <td>41700404</td>\n",
       "      <td>3</td>\n",
       "      <td>0</td>\n",
       "      <td>15</td>\n",
       "      <td>Center(C)</td>\n",
       "      <td>3</td>\n",
       "      <td>0</td>\n",
       "      <td>20180608</td>\n",
       "      <td>1</td>\n",
       "      <td>0</td>\n",
       "      <td>0</td>\n",
       "      <td>0</td>\n",
       "      <td>0</td>\n",
       "      <td>0</td>\n",
       "      <td>1</td>\n",
       "    </tr>\n",
       "    <tr>\n",
       "      <th>4714395</th>\n",
       "      <td>41700404</td>\n",
       "      <td>4</td>\n",
       "      <td>5</td>\n",
       "      <td>40</td>\n",
       "      <td>Center(C)</td>\n",
       "      <td>1</td>\n",
       "      <td>1</td>\n",
       "      <td>20180608</td>\n",
       "      <td>1</td>\n",
       "      <td>0</td>\n",
       "      <td>0</td>\n",
       "      <td>0</td>\n",
       "      <td>0</td>\n",
       "      <td>0</td>\n",
       "      <td>1</td>\n",
       "    </tr>\n",
       "  </tbody>\n",
       "</table>\n",
       "<p>29606 rows × 15 columns</p>\n",
       "</div>"
      ],
      "text/plain": [
       "          Game ID  Period  Minutes Remaining  Seconds Remaining  \\\n",
       "1194060  20300014       1                  8                 56   \n",
       "1194061  20300014       1                  7                 44   \n",
       "1194062  20300014       1                  7                  1   \n",
       "1194063  20300014       1                  6                 29   \n",
       "1194064  20300014       1                  4                 48   \n",
       "...           ...     ...                ...                ...   \n",
       "4714391  41700404       2                  7                 12   \n",
       "4714392  41700404       2                  5                 49   \n",
       "4714393  41700404       3                  7                  6   \n",
       "4714394  41700404       3                  0                 15   \n",
       "4714395  41700404       4                  5                 40   \n",
       "\n",
       "               Shot Zone Area  Shot Distance  Shot Made Flag  Game Date  \\\n",
       "1194060         Right Side(R)             15               1   20031029   \n",
       "1194061          Left Side(L)             13               1   20031029   \n",
       "1194062         Right Side(R)             16               1   20031029   \n",
       "1194063          Left Side(L)             14               0   20031029   \n",
       "1194064             Center(C)              5               1   20031029   \n",
       "...                       ...            ...             ...        ...   \n",
       "4714391             Center(C)              0               1   20180608   \n",
       "4714392             Center(C)              8               1   20180608   \n",
       "4714393  Left Side Center(LC)             24               0   20180608   \n",
       "4714394             Center(C)              3               0   20180608   \n",
       "4714395             Center(C)              1               1   20180608   \n",
       "\n",
       "         2PT Field Goal  3PT Field Goal  16-24 ft.  24+ ft.  8-16 ft.  \\\n",
       "1194060               1               0          0        0         1   \n",
       "1194061               1               0          0        0         1   \n",
       "1194062               1               0          1        0         0   \n",
       "1194063               1               0          0        0         1   \n",
       "1194064               1               0          0        0         0   \n",
       "...                 ...             ...        ...      ...       ...   \n",
       "4714391               1               0          0        0         0   \n",
       "4714392               1               0          0        0         1   \n",
       "4714393               0               1          0        1         0   \n",
       "4714394               1               0          0        0         0   \n",
       "4714395               1               0          0        0         0   \n",
       "\n",
       "         Back Court Shot  Less Than 8 ft.  \n",
       "1194060                0                0  \n",
       "1194061                0                0  \n",
       "1194062                0                0  \n",
       "1194063                0                0  \n",
       "1194064                0                1  \n",
       "...                  ...              ...  \n",
       "4714391                0                1  \n",
       "4714392                0                0  \n",
       "4714393                0                0  \n",
       "4714394                0                1  \n",
       "4714395                0                1  \n",
       "\n",
       "[29606 rows x 15 columns]"
      ]
     },
     "execution_count": 255,
     "metadata": {},
     "output_type": "execute_result"
    }
   ],
   "source": [
    "#Lets drop Back court as there are only 52 shots\n",
    "idk.drop(idk[idk['Shot Zone Area'] == 'Back Court(BC)'].index,inplace=True)\n",
    "idk"
   ]
  },
  {
   "cell_type": "code",
   "execution_count": 256,
   "metadata": {},
   "outputs": [],
   "source": [
    "#Roll up the columns\n",
    "idk.loc[idk['Shot Zone Area'] == 'Left Side Center(LC)' , ['Shot Zone Area']] = 'Left Side(L)'\n",
    "idk.loc[idk['Shot Zone Area'] == 'Right Side Center(RC)' , ['Shot Zone Area']] = 'Right Side(R)'"
   ]
  },
  {
   "cell_type": "code",
   "execution_count": 257,
   "metadata": {},
   "outputs": [
    {
     "data": {
      "text/plain": [
       "Center(C)        16478\n",
       "Left Side(L)      7490\n",
       "Right Side(R)     5638\n",
       "Name: Shot Zone Area, dtype: int64"
      ]
     },
     "execution_count": 257,
     "metadata": {},
     "output_type": "execute_result"
    }
   ],
   "source": [
    "idk['Shot Zone Area'].value_counts()"
   ]
  },
  {
   "cell_type": "code",
   "execution_count": 258,
   "metadata": {},
   "outputs": [],
   "source": [
    "#Encoding our target\n",
    "from sklearn.preprocessing import LabelEncoder\n",
    "\n",
    "# Instantiate the label encoder\n",
    "le = LabelEncoder()\n",
    "\n",
    "# Fit and transform the order priority column\n",
    "idk['Shot Zone Area']=le.fit_transform(idk['Shot Zone Area'])"
   ]
  },
  {
   "cell_type": "code",
   "execution_count": 259,
   "metadata": {},
   "outputs": [
    {
     "data": {
      "text/plain": [
       "0    16478\n",
       "1     7490\n",
       "2     5638\n",
       "Name: Shot Zone Area, dtype: int64"
      ]
     },
     "execution_count": 259,
     "metadata": {},
     "output_type": "execute_result"
    }
   ],
   "source": [
    "idk['Shot Zone Area'].value_counts()"
   ]
  },
  {
   "cell_type": "code",
   "execution_count": 310,
   "metadata": {},
   "outputs": [],
   "source": [
    "#Split first\n",
    "from sklearn.model_selection import train_test_split\n",
    "X = idk.drop(['Shot Zone Area'],axis=1)\n",
    "y = idk['Shot Zone Area']\n",
    "\n",
    "X_train, X_test, y_train, y_test = train_test_split(X, y, test_size=0.2, random_state=2)"
   ]
  },
  {
   "cell_type": "code",
   "execution_count": 311,
   "metadata": {},
   "outputs": [],
   "source": [
    "#Now lets scale\n",
    "#Scaler\n",
    "from sklearn.preprocessing import MinMaxScaler\n",
    "from sklearn.preprocessing import StandardScaler\n",
    "\n",
    "my_minmax_scaler = StandardScaler()\n",
    "\n",
    "my_minmax_scaler = my_minmax_scaler.fit(X_train)\n",
    "\n",
    "X_train = my_minmax_scaler.transform(X_train)\n",
    "\n",
    "X_test = my_minmax_scaler.transform(X_test)\n",
    "\n"
   ]
  },
  {
   "cell_type": "code",
   "execution_count": 312,
   "metadata": {},
   "outputs": [
    {
     "name": "stdout",
     "output_type": "stream",
     "text": [
      "0.016459941864013672\n"
     ]
    }
   ],
   "source": [
    "#Now lets use PCA to reduce dimensions\n",
    "from sklearn.decomposition import PCA\n",
    "\n",
    "start = time.time()\n",
    "\n",
    "#we want to explain at least 90% of the variance\n",
    "my_pca = PCA(n_components=.9)\n",
    "my_pca.fit(X_train)\n",
    "\n",
    "# transform data\n",
    "X_train_PCA = my_pca.transform(X_train)\n",
    "\n",
    "# Transform test data\n",
    "X_test_PCA = my_pca.transform(X_test)\n",
    "\n",
    "#print the time\n",
    "end = time.time()\n",
    "print(end - start)"
   ]
  },
  {
   "cell_type": "code",
   "execution_count": 313,
   "metadata": {},
   "outputs": [
    {
     "data": {
      "text/plain": [
       "(23684, 14)"
      ]
     },
     "execution_count": 313,
     "metadata": {},
     "output_type": "execute_result"
    }
   ],
   "source": [
    "X_train.shape"
   ]
  },
  {
   "cell_type": "code",
   "execution_count": 314,
   "metadata": {},
   "outputs": [
    {
     "data": {
      "text/plain": [
       "(23684, 8)"
      ]
     },
     "execution_count": 314,
     "metadata": {},
     "output_type": "execute_result"
    }
   ],
   "source": [
    "X_train_PCA.shape"
   ]
  },
  {
   "cell_type": "code",
   "execution_count": 315,
   "metadata": {},
   "outputs": [
    {
     "data": {
      "text/plain": [
       "8"
      ]
     },
     "execution_count": 315,
     "metadata": {},
     "output_type": "execute_result"
    }
   ],
   "source": [
    "X_train_PCA.shape[1]"
   ]
  },
  {
   "cell_type": "code",
   "execution_count": 316,
   "metadata": {},
   "outputs": [
    {
     "data": {
      "image/png": "[encoded data removed]",
      "text/plain": [
       "<Figure size 432x288 with 1 Axes>"
      ]
     },
     "metadata": {
      "needs_background": "light"
     },
     "output_type": "display_data"
    }
   ],
   "source": [
    "#Setting up the explained variance\n",
    "expl_var = my_pca.explained_variance_ratio_\n",
    "#Setting up the plot\n",
    "plt.figure()\n",
    "plt.plot(range(1,(X_test_PCA.shape[1]+1),1),expl_var,color='cornflowerblue',label='Proportion Explained',marker='o')\n",
    "plt.xlabel('Number of PCs')\n",
    "plt.ylabel('Proportion of Variance Explained')\n",
    "plt.legend()\n",
    "plt.title('Variance Explained vs PC')\n",
    "plt.grid()\n",
    "plt.show()"
   ]
  },
  {
   "cell_type": "code",
   "execution_count": 288,
   "metadata": {},
   "outputs": [
    {
     "name": "stderr",
     "output_type": "stream",
     "text": [
      "100%|██████████| 9/9 [00:04<00:00,  2.12it/s]\n"
     ]
    }
   ],
   "source": [
    "from sklearn.model_selection import cross_val_score\n",
    "from sklearn.linear_model import LogisticRegression\n",
    "\n",
    "### 5-fold cross validation\n",
    "cross_validation_scores = []\n",
    "# The C_values to try\n",
    "C_values = [.00001,0.0001,0.001, 0.01, 0.1, 1, 10, 100,1000]\n",
    "\n",
    "#Do some cross validation\n",
    "for c in tqdm(C_values):\n",
    "    #fit the log model\n",
    "    LR_model = LogisticRegression(C=c,max_iter=100)\n",
    "    #set the cross validation\n",
    "    cv_score = np.mean(cross_val_score(LR_model, X_train_PCA, y_train, cv = 5))\n",
    "    #gather the scores for validation\n",
    "    cross_validation_scores.append(cv_score)"
   ]
  },
  {
   "cell_type": "code",
   "execution_count": 289,
   "metadata": {},
   "outputs": [
    {
     "data": {
      "image/png": "[encoded data removed]",
      "text/plain": [
       "<Figure size 432x288 with 1 Axes>"
      ]
     },
     "metadata": {
      "needs_background": "light"
     },
     "output_type": "display_data"
    },
    {
     "name": "stdout",
     "output_type": "stream",
     "text": [
      "The best model has C =  0.1\n"
     ]
    }
   ],
   "source": [
    "# Plot\n",
    "plt.figure()\n",
    "plt.plot(C_values, cross_validation_scores,c='cornflowerblue',label=\"Cross Validation Score\",marker='o')\n",
    "plt.legend()\n",
    "plt.title('Cross Validation Score vs C for logreg')\n",
    "plt.xscale(\"log\")\n",
    "plt.xlabel('Regularization Parameter: C')\n",
    "plt.ylabel('Cross Validation Score')\n",
    "\n",
    "plt.grid()\n",
    "plt.show();\n",
    "\n",
    "which_max = np.array(cross_validation_scores).argmax()\n",
    "\n",
    "print(\"The best model has C = \",C_values[which_max])"
   ]
  },
  {
   "cell_type": "code",
   "execution_count": 290,
   "metadata": {},
   "outputs": [
    {
     "name": "stdout",
     "output_type": "stream",
     "text": [
      "Train Score for Logistical Regression = 0.707\n",
      "Test Score for Logistical Regression = 0.715\n"
     ]
    }
   ],
   "source": [
    "# Lets print the score of the highest \n",
    "# Instantiate the model\n",
    "log_reg = LogisticRegression(C=C_values[which_max],max_iter=100)\n",
    "\n",
    "# Fit the model \n",
    "log_reg.fit(X_train_PCA,y_train)\n",
    "\n",
    "# evaluate on train & test sets\n",
    "print(f'Train Score for Logistical Regression = {round(log_reg.score(X_train_PCA, y_train),3)}')\n",
    "print(f'Test Score for Logistical Regression = {round(log_reg.score(X_test_PCA, y_test),3)}')"
   ]
  },
  {
   "cell_type": "code",
   "execution_count": 210,
   "metadata": {},
   "outputs": [
    {
     "name": "stderr",
     "output_type": "stream",
     "text": [
      "100%|██████████| 9/9 [00:00<00:00, 115.39it/s]\n"
     ]
    },
    {
     "data": {
      "image/png": "[encoded data removed]",
      "text/plain": [
       "<Figure size 432x288 with 1 Axes>"
      ]
     },
     "metadata": {
      "needs_background": "light"
     },
     "output_type": "display_data"
    },
    {
     "name": "stdout",
     "output_type": "stream",
     "text": [
      "0.331528902053833\n"
     ]
    }
   ],
   "source": [
    "from sklearn.linear_model import LogisticRegression\n",
    "\n",
    "start = time.time()\n",
    "# Create lists to hold our accuracies\n",
    "train_acc = []\n",
    "test_acc = []\n",
    "\n",
    "# The C_values to try\n",
    "C_values = [.00001,0.0001,0.001, 0.01, 0.1, 1, 10, 100,1000]\n",
    "\n",
    "\n",
    "\n",
    "# Loop through the C values \n",
    "for C in tqdm(C_values):\n",
    "\n",
    "    # Instantiate the model\n",
    "    log_reg = LogisticRegression(C=C,max_iter=1000,solver='lbfgs')\n",
    "\n",
    "    # Fit the model \n",
    "    log_reg.fit(X_train_PCA,y_train)\n",
    "\n",
    "    # Score the model \n",
    "    train_acc.append(log_reg.score(X_train_PCA,y_train))\n",
    "    test_acc.append(log_reg.score(X_test_PCA,y_test))\n",
    "\n",
    "# plot the results\n",
    "plt.figure()\n",
    "plt.plot(C_values,train_acc, c='cornflowerblue', label='train', marker=\"o\")\n",
    "plt.plot(C_values,test_acc, c='fuchsia', label='test', marker=\"o\")\n",
    "plt.title('Scores per C values for LBJ')\n",
    "plt.xlabel('C Values')\n",
    "plt.ylabel('accuracy')\n",
    "plt.xscale('log')\n",
    "plt.legend()\n",
    "plt.show()\n",
    "\n",
    "end=time.time()\n",
    "print(end-start)"
   ]
  },
  {
   "cell_type": "code",
   "execution_count": 211,
   "metadata": {},
   "outputs": [
    {
     "data": {
      "text/plain": [
       "array([[  7, 466],\n",
       "       [ 11, 582]])"
      ]
     },
     "execution_count": 211,
     "metadata": {},
     "output_type": "execute_result"
    }
   ],
   "source": [
    "from sklearn.metrics import confusion_matrix\n",
    "\n",
    "y_pred = log_reg.predict(X_test_PCA)\n",
    "\n",
    "# True values first, predicted values second\n",
    "confusion_matrix(y_test, y_pred)"
   ]
  },
  {
   "cell_type": "code",
   "execution_count": 212,
   "metadata": {},
   "outputs": [
    {
     "data": {
      "image/png": "[encoded data removed]",
      "text/plain": [
       "<Figure size 432x288 with 2 Axes>"
      ]
     },
     "metadata": {
      "needs_background": "light"
     },
     "output_type": "display_data"
    }
   ],
   "source": [
    "from sklearn.metrics import ConfusionMatrixDisplay\n",
    "\n",
    "cf_matrix = confusion_matrix(y_test, y_pred)\n",
    "\n",
    "ConfusionMatrixDisplay(cf_matrix).plot()\n",
    "plt.show()"
   ]
  },
  {
   "cell_type": "code",
   "execution_count": 213,
   "metadata": {},
   "outputs": [
    {
     "name": "stdout",
     "output_type": "stream",
     "text": [
      "              precision    recall  f1-score   support\n",
      "\n",
      "           0       0.39      0.01      0.03       473\n",
      "           1       0.56      0.98      0.71       593\n",
      "\n",
      "    accuracy                           0.55      1066\n",
      "   macro avg       0.47      0.50      0.37      1066\n",
      "weighted avg       0.48      0.55      0.41      1066\n",
      "\n"
     ]
    }
   ],
   "source": [
    "from sklearn.metrics import classification_report\n",
    "\n",
    "report_initial = classification_report(y_test, y_pred)\n",
    "print(report_initial)"
   ]
  },
  {
   "cell_type": "code",
   "execution_count": 214,
   "metadata": {},
   "outputs": [
    {
     "data": {
      "text/plain": [
       "1    0.552385\n",
       "0    0.447615\n",
       "Name: Shot Zone Area, dtype: float64"
      ]
     },
     "execution_count": 214,
     "metadata": {},
     "output_type": "execute_result"
    }
   ],
   "source": [
    "idk['Shot Zone Area'].value_counts(normalize=True)"
   ]
  },
  {
   "cell_type": "code",
   "execution_count": 328,
   "metadata": {},
   "outputs": [
    {
     "name": "stderr",
     "output_type": "stream",
     "text": [
      "100%|██████████| 12/12 [02:58<00:00, 14.90s/it]\n"
     ]
    }
   ],
   "source": [
    "from sklearn.ensemble import RandomForestClassifier\n",
    "\n",
    "depth_range = range(1, 13)\n",
    "cross_validation_scores = []\n",
    "\n",
    "\n",
    "for n in tqdm(depth_range):\n",
    "    my_random_forest = RandomForestClassifier(n_estimators=200,max_depth=n)\n",
    "    cv_score = np.mean(cross_val_score(my_random_forest, X_train_PCA, y_train, cv = 5))\n",
    "\n",
    "    cross_validation_scores.append(cv_score)"
   ]
  },
  {
   "cell_type": "code",
   "execution_count": 329,
   "metadata": {},
   "outputs": [
    {
     "data": {
      "image/png": "[encoded data removed]",
      "text/plain": [
       "<Figure size 432x288 with 1 Axes>"
      ]
     },
     "metadata": {
      "needs_background": "light"
     },
     "output_type": "display_data"
    },
    {
     "name": "stdout",
     "output_type": "stream",
     "text": [
      "The best model has C =  6\n"
     ]
    }
   ],
   "source": [
    "# Plot\n",
    "plt.figure()\n",
    "plt.plot(depth_range, cross_validation_scores,c='cornflowerblue',label=\"Cross Validation Score\",marker='o')\n",
    "plt.legend()\n",
    "plt.title('Cross Validation Score vs Max depth for Random Forrest')\n",
    "plt.xlabel('Regularization Parameter: Depth')\n",
    "plt.ylabel('Cross Validation Score')\n",
    "\n",
    "plt.grid()\n",
    "plt.show();\n",
    "\n",
    "which_max = np.array(cross_validation_scores).argmax()\n",
    "\n",
    "print(\"The best model has C = \",depth_range[which_max])"
   ]
  },
  {
   "cell_type": "code",
   "execution_count": 346,
   "metadata": {},
   "outputs": [
    {
     "name": "stdout",
     "output_type": "stream",
     "text": [
      "Train Score for Random Forrest = 0.726\n",
      "Test Score for Random Forrest= 0.715\n"
     ]
    }
   ],
   "source": [
    "# Instantiate the model\n",
    "my_random_forest = RandomForestClassifier(n_estimators=200,max_depth=7)\n",
    "\n",
    "# Fit the model \n",
    "my_random_forest.fit(X_train_PCA,y_train)\n",
    "\n",
    "# evaluate on train & test sets\n",
    "print(f'Train Score for Random Forrest = {round(my_random_forest.score(X_train_PCA, y_train),3)}')\n",
    "print(f'Test Score for Random Forrest= {round(my_random_forest.score(X_test_PCA, y_test),3)}')"
   ]
  },
  {
   "cell_type": "code",
   "execution_count": 331,
   "metadata": {},
   "outputs": [
    {
     "name": "stderr",
     "output_type": "stream",
     "text": [
      "100%|██████████| 12/12 [00:45<00:00,  3.80s/it]\n"
     ]
    },
    {
     "data": {
      "image/png": "[encoded data removed]",
      "text/plain": [
       "<Figure size 432x288 with 1 Axes>"
      ]
     },
     "metadata": {
      "needs_background": "light"
     },
     "output_type": "display_data"
    }
   ],
   "source": [
    "from sklearn.ensemble import RandomForestClassifier\n",
    "\n",
    "depth_range = range(1, 13)\n",
    "\n",
    "rforest_test_scores = []\n",
    "rforest_train_scores = []\n",
    "for n in tqdm(depth_range):\n",
    "    my_random_forest = RandomForestClassifier(n_estimators=200,max_depth=n)\n",
    "    my_random_forest.fit(X_train_PCA, y_train)\n",
    "    rforest_test_scores.append(my_random_forest.score(X_test_PCA,y_test))\n",
    "    rforest_train_scores.append(my_random_forest.score(X_train_PCA,y_train))\n",
    "\n",
    "# plot the results\n",
    "plt.figure()\n",
    "plt.plot(depth_range,rforest_train_scores, c='cornflowerblue', label='train', marker=\"o\")\n",
    "plt.plot(depth_range,rforest_test_scores, c='fuchsia', label='test', marker=\"o\")\n",
    "plt.title('Scores per Depth for LBJ in Random Forrest')\n",
    "plt.xlabel('Depth')\n",
    "plt.ylabel('accuracy')\n",
    "plt.legend()\n",
    "plt.show()"
   ]
  },
  {
   "cell_type": "code",
   "execution_count": 332,
   "metadata": {},
   "outputs": [
    {
     "data": {
      "text/plain": [
       "array([[2735,  504,  102],\n",
       "       [  18, 1234,  250],\n",
       "       [   9,  797,  273]])"
      ]
     },
     "execution_count": 332,
     "metadata": {},
     "output_type": "execute_result"
    }
   ],
   "source": [
    "from sklearn.metrics import confusion_matrix\n",
    "\n",
    "y_pred = my_random_forest.predict(X_test_PCA)\n",
    "\n",
    "# True values first, predicted values second\n",
    "confusion_matrix(y_test, y_pred)"
   ]
  },
  {
   "cell_type": "code",
   "execution_count": 333,
   "metadata": {},
   "outputs": [
    {
     "data": {
      "image/png": "[encoded data removed]",
      "text/plain": [
       "<Figure size 432x288 with 2 Axes>"
      ]
     },
     "metadata": {
      "needs_background": "light"
     },
     "output_type": "display_data"
    }
   ],
   "source": [
    "from sklearn.metrics import ConfusionMatrixDisplay\n",
    "\n",
    "cf_matrix = confusion_matrix(y_test, y_pred)\n",
    "\n",
    "ConfusionMatrixDisplay(cf_matrix).plot()\n",
    "plt.show()"
   ]
  },
  {
   "cell_type": "code",
   "execution_count": 334,
   "metadata": {},
   "outputs": [
    {
     "name": "stdout",
     "output_type": "stream",
     "text": [
      "              precision    recall  f1-score   support\n",
      "\n",
      "           0       0.99      0.82      0.90      3341\n",
      "           1       0.49      0.82      0.61      1502\n",
      "           2       0.44      0.25      0.32      1079\n",
      "\n",
      "    accuracy                           0.72      5922\n",
      "   macro avg       0.64      0.63      0.61      5922\n",
      "weighted avg       0.76      0.72      0.72      5922\n",
      "\n"
     ]
    }
   ],
   "source": [
    "from sklearn.metrics import classification_report\n",
    "\n",
    "report_initial = classification_report(y_test, y_pred)\n",
    "print(report_initial)"
   ]
  },
  {
   "cell_type": "code",
   "execution_count": 324,
   "metadata": {
    "scrolled": true
   },
   "outputs": [
    {
     "data": {
      "text/plain": [
       "0    0.556576\n",
       "1    0.252989\n",
       "2    0.190434\n",
       "Name: Shot Zone Area, dtype: float64"
      ]
     },
     "execution_count": 324,
     "metadata": {},
     "output_type": "execute_result"
    }
   ],
   "source": [
    "idk['Shot Zone Area'].value_counts(normalize=True)"
   ]
  },
  {
   "cell_type": "code",
   "execution_count": 347,
   "metadata": {},
   "outputs": [],
   "source": [
    "from sklearn.model_selection import GridSearchCV\n",
    "from sklearn.pipeline import Pipeline\n",
    "from sklearn.pipeline import make_pipeline\n",
    "from sklearn.naive_bayes import MultinomialNB"
   ]
  },
  {
   "cell_type": "code",
   "execution_count": null,
   "metadata": {},
   "outputs": [],
   "source": []
  },
  {
   "cell_type": "code",
   "execution_count": 341,
   "metadata": {},
   "outputs": [
    {
     "name": "stdout",
     "output_type": "stream",
     "text": [
      "Fitting 5 folds for each of 36 candidates, totalling 180 fits\n"
     ]
    },
    {
     "name": "stderr",
     "output_type": "stream",
     "text": [
      "[Parallel(n_jobs=-1)]: Using backend LokyBackend with 8 concurrent workers.\n",
      "[Parallel(n_jobs=-1)]: Done  34 tasks      | elapsed:    3.1s\n",
      "[Parallel(n_jobs=-1)]: Done 180 out of 180 | elapsed:  2.4min finished\n"
     ]
    },
    {
     "data": {
      "text/plain": [
       "GridSearchCV(estimator=Pipeline(steps=[('scale', MinMaxScaler()),\n",
       "                                       ('decompose', PCA()),\n",
       "                                       ('model', LogisticRegression())]),\n",
       "             n_jobs=-1,\n",
       "             param_grid=[{'decompose': [PCA()],\n",
       "                          'decompose__n_components': [0.9],\n",
       "                          'model': [LogisticRegression(max_iter=1000)],\n",
       "                          'model__C': [0.001, 0.01, 0.1, 1, 10, 100, 1000],\n",
       "                          'scale': [MinMaxScaler(), StandardScaler()]},\n",
       "                         {'decompose': [PCA(n_components=0.9)],\n",
       "                          'decompose__n_components': [0.9],\n",
       "                          'model': [RandomForestClassifier(max_depth=7)],\n",
       "                          'model__max_depth': [1, 2, 3, 4, 5, 7],\n",
       "                          'scale': [MinMaxScaler(), StandardScaler()]},\n",
       "                         {'decompose': [PCA()],\n",
       "                          'decompose__n_components': [0.9],\n",
       "                          'model': [GradientBoostingClassifier()],\n",
       "                          'model__max_depth': [1, 2, 3, 4, 5],\n",
       "                          'scale': [MinMaxScaler(), StandardScaler()]}],\n",
       "             verbose=1)"
      ]
     },
     "execution_count": 341,
     "metadata": {},
     "output_type": "execute_result"
    }
   ],
   "source": [
    "# Set up the (placeholder) pipeline \n",
    "pipeline = Pipeline([('scale', MinMaxScaler()),\n",
    "                    ('decompose', PCA()),\n",
    "                    ('model', LogisticRegression())])\n",
    "\n",
    "# Set up the parameter grid\n",
    "param_grid = [\n",
    "            {\n",
    "                'scale':[MinMaxScaler(), StandardScaler()],\n",
    "                'model':[LogisticRegression(max_iter=1000)],\n",
    "                'decompose':[PCA()],\n",
    "                'model__C': [0.001, 0.01, 0.1, 1, 10, 100, 1000],\n",
    "                'decompose__n_components': [.9]\n",
    "            }, {\n",
    "                'scale':[MinMaxScaler(), StandardScaler()],\n",
    "                'model':[RandomForestClassifier()],\n",
    "                'decompose':[PCA()],\n",
    "                'model__max_depth': [1,2,3,4,5,7],\n",
    "                'decompose__n_components': [.9]\n",
    "            }, {\n",
    "                'scale':[MinMaxScaler(), StandardScaler()],\n",
    "                'model':[GradientBoostingClassifier()],\n",
    "                'decompose':[PCA()],\n",
    "                'model__max_depth': [1,2,3,4,5],\n",
    "                'decompose__n_components': [.9]\n",
    "            }, {\n",
    "                'scale':[MinMaxScaler(), StandardScaler()],\n",
    "                'model':[MultinomialNB()],\n",
    "                'decompose':[PCA()],\n",
    "                'model__max_depth': [1,2,3,4,5],\n",
    "                'decompose__n_components': [.9]\n",
    "            }]\n",
    "            \n",
    "# Instantiate the grid search\n",
    "my_gridsearch = GridSearchCV(pipeline, param_grid, n_jobs=-1,verbose=1)\n",
    "\n",
    "# Fit the grid search\n",
    "my_gridsearch.fit(X_train,y_train)"
   ]
  },
  {
   "cell_type": "code",
   "execution_count": 343,
   "metadata": {},
   "outputs": [
    {
     "data": {
      "text/plain": [
       "Pipeline(steps=[('scale', MinMaxScaler()), ('decompose', PCA(n_components=0.9)),\n",
       "                ('model', RandomForestClassifier(max_depth=7))])"
      ]
     },
     "execution_count": 343,
     "metadata": {},
     "output_type": "execute_result"
    }
   ],
   "source": [
    "# Best estimator object\n",
    "my_gridsearch.best_estimator_"
   ]
  },
  {
   "cell_type": "code",
   "execution_count": 344,
   "metadata": {},
   "outputs": [
    {
     "name": "stdout",
     "output_type": "stream",
     "text": [
      "0.7258486742104374\n",
      "0.7161431948665992\n"
     ]
    }
   ],
   "source": [
    "print(my_gridsearch.score(X_train, y_train))\n",
    "print(my_gridsearch.score(X_test, y_test))"
   ]
  },
  {
   "cell_type": "code",
   "execution_count": null,
   "metadata": {},
   "outputs": [],
   "source": []
  }
 ],
 "metadata": {
  "kernelspec": {
   "display_name": "Python [conda env:capstone]",
   "language": "python",
   "name": "conda-env-capstone-py"
  },
  "language_info": {
   "codemirror_mode": {
    "name": "ipython",
    "version": 3
   },
   "file_extension": ".py",
   "mimetype": "text/x-python",
   "name": "python",
   "nbconvert_exporter": "python",
   "pygments_lexer": "ipython3",
   "version": "3.8.6"
  }
 },
 "nbformat": 4,
 "nbformat_minor": 4
}
