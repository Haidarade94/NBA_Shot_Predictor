{
 "cells": [
  {
   "cell_type": "code",
   "execution_count": 160,
   "metadata": {},
   "outputs": [],
   "source": [
    "#Set up the library\n",
    "import pandas as pd\n",
    "import numpy as np\n",
    "import matplotlib.pyplot as plt \n",
    "import seaborn as sns\n",
    "import time\n",
    "from sklearn.metrics import confusion_matrix\n",
    "from tqdm import tqdm\n",
    "from sklearn.naive_bayes import MultinomialNB\n",
    "from sklearn.ensemble import GradientBoostingClassifier\n"
   ]
  },
  {
   "cell_type": "code",
   "execution_count": 161,
   "metadata": {},
   "outputs": [
    {
     "data": {
      "text/html": [
       "<div>\n",
       "<style scoped>\n",
       "    .dataframe tbody tr th:only-of-type {\n",
       "        vertical-align: middle;\n",
       "    }\n",
       "\n",
       "    .dataframe tbody tr th {\n",
       "        vertical-align: top;\n",
       "    }\n",
       "\n",
       "    .dataframe thead th {\n",
       "        text-align: right;\n",
       "    }\n",
       "</style>\n",
       "<table border=\"1\" class=\"dataframe\">\n",
       "  <thead>\n",
       "    <tr style=\"text-align: right;\">\n",
       "      <th></th>\n",
       "      <th>Game ID</th>\n",
       "      <th>Game Event ID</th>\n",
       "      <th>Player ID</th>\n",
       "      <th>Player Name</th>\n",
       "      <th>Team ID</th>\n",
       "      <th>Team Name</th>\n",
       "      <th>Period</th>\n",
       "      <th>Minutes Remaining</th>\n",
       "      <th>Seconds Remaining</th>\n",
       "      <th>Action Type</th>\n",
       "      <th>...</th>\n",
       "      <th>Shot Zone Area</th>\n",
       "      <th>Shot Zone Range</th>\n",
       "      <th>Shot Distance</th>\n",
       "      <th>X Location</th>\n",
       "      <th>Y Location</th>\n",
       "      <th>Shot Made Flag</th>\n",
       "      <th>Game Date</th>\n",
       "      <th>Home Team</th>\n",
       "      <th>Away Team</th>\n",
       "      <th>Season Type</th>\n",
       "    </tr>\n",
       "  </thead>\n",
       "  <tbody>\n",
       "    <tr>\n",
       "      <th>0</th>\n",
       "      <td>29700427</td>\n",
       "      <td>389</td>\n",
       "      <td>100</td>\n",
       "      <td>Tim Legler</td>\n",
       "      <td>1610612764</td>\n",
       "      <td>Washington Wizards</td>\n",
       "      <td>4</td>\n",
       "      <td>11</td>\n",
       "      <td>22</td>\n",
       "      <td>Jump Shot</td>\n",
       "      <td>...</td>\n",
       "      <td>Right Side(R)</td>\n",
       "      <td>8-16 ft.</td>\n",
       "      <td>15</td>\n",
       "      <td>117</td>\n",
       "      <td>109</td>\n",
       "      <td>1</td>\n",
       "      <td>19980102</td>\n",
       "      <td>WAS</td>\n",
       "      <td>IND</td>\n",
       "      <td>Regular Season</td>\n",
       "    </tr>\n",
       "    <tr>\n",
       "      <th>1</th>\n",
       "      <td>29700427</td>\n",
       "      <td>406</td>\n",
       "      <td>100</td>\n",
       "      <td>Tim Legler</td>\n",
       "      <td>1610612764</td>\n",
       "      <td>Washington Wizards</td>\n",
       "      <td>4</td>\n",
       "      <td>9</td>\n",
       "      <td>36</td>\n",
       "      <td>Jump Shot</td>\n",
       "      <td>...</td>\n",
       "      <td>Right Side(R)</td>\n",
       "      <td>8-16 ft.</td>\n",
       "      <td>14</td>\n",
       "      <td>143</td>\n",
       "      <td>25</td>\n",
       "      <td>0</td>\n",
       "      <td>19980102</td>\n",
       "      <td>WAS</td>\n",
       "      <td>IND</td>\n",
       "      <td>Regular Season</td>\n",
       "    </tr>\n",
       "    <tr>\n",
       "      <th>2</th>\n",
       "      <td>29700427</td>\n",
       "      <td>475</td>\n",
       "      <td>100</td>\n",
       "      <td>Tim Legler</td>\n",
       "      <td>1610612764</td>\n",
       "      <td>Washington Wizards</td>\n",
       "      <td>4</td>\n",
       "      <td>3</td>\n",
       "      <td>7</td>\n",
       "      <td>Jump Shot</td>\n",
       "      <td>...</td>\n",
       "      <td>Left Side(L)</td>\n",
       "      <td>8-16 ft.</td>\n",
       "      <td>10</td>\n",
       "      <td>-87</td>\n",
       "      <td>55</td>\n",
       "      <td>0</td>\n",
       "      <td>19980102</td>\n",
       "      <td>WAS</td>\n",
       "      <td>IND</td>\n",
       "      <td>Regular Season</td>\n",
       "    </tr>\n",
       "  </tbody>\n",
       "</table>\n",
       "<p>3 rows × 22 columns</p>\n",
       "</div>"
      ],
      "text/plain": [
       "    Game ID  Game Event ID  Player ID Player Name     Team ID  \\\n",
       "0  29700427            389        100  Tim Legler  1610612764   \n",
       "1  29700427            406        100  Tim Legler  1610612764   \n",
       "2  29700427            475        100  Tim Legler  1610612764   \n",
       "\n",
       "            Team Name  Period  Minutes Remaining  Seconds Remaining  \\\n",
       "0  Washington Wizards       4                 11                 22   \n",
       "1  Washington Wizards       4                  9                 36   \n",
       "2  Washington Wizards       4                  3                  7   \n",
       "\n",
       "  Action Type  ... Shot Zone Area Shot Zone Range Shot Distance X Location  \\\n",
       "0   Jump Shot  ...  Right Side(R)        8-16 ft.            15        117   \n",
       "1   Jump Shot  ...  Right Side(R)        8-16 ft.            14        143   \n",
       "2   Jump Shot  ...   Left Side(L)        8-16 ft.            10        -87   \n",
       "\n",
       "   Y Location  Shot Made Flag  Game Date  Home Team  Away Team     Season Type  \n",
       "0         109               1   19980102        WAS        IND  Regular Season  \n",
       "1          25               0   19980102        WAS        IND  Regular Season  \n",
       "2          55               0   19980102        WAS        IND  Regular Season  \n",
       "\n",
       "[3 rows x 22 columns]"
      ]
     },
     "execution_count": 161,
     "metadata": {},
     "output_type": "execute_result"
    }
   ],
   "source": [
    "#Set up the dataframe\n",
    "df = pd.read_csv('data/NBA Shot Locations 1997 - 2020.csv')\n",
    "df.head(3)"
   ]
  },
  {
   "cell_type": "code",
   "execution_count": 502,
   "metadata": {
    "scrolled": true
   },
   "outputs": [
    {
     "data": {
      "text/plain": [
       "LeBron James         29658\n",
       "Kevin Durant         18731\n",
       "Russell Westbrook    18547\n",
       "James Harden         15688\n",
       "Stephen Curry        14102\n",
       "Damian Lillard       12040\n",
       "Kyle Lowry           11180\n",
       "Kyrie Irving         10486\n",
       "Bradley Beal          9945\n",
       "Kawhi Leonard         8565\n",
       "Name: Player Name, dtype: int64"
      ]
     },
     "execution_count": 502,
     "metadata": {},
     "output_type": "execute_result"
    }
   ],
   "source": [
    "#Test Data Frame will be LeBron James, Raptors Player, PG\n",
    "#df[df.name.isin(li)]\n",
    "playertest = ['LeBron James', 'Kyle Lowry','Stephen Curry','Kevin Durant',\n",
    "              'James Harden','Russell Westbrook','Damian Lillard','Kawhi Leonard',\n",
    "              'Kyrie Irving','Bradley Beal']\n",
    "test_df=df[df['Player Name'].isin(playertest)]\n",
    "test_df['Player Name'].value_counts()"
   ]
  },
  {
   "cell_type": "code",
   "execution_count": 479,
   "metadata": {},
   "outputs": [],
   "source": [
    "test_df=df[df['Player Name']=='Jayson Tatum']"
   ]
  },
  {
   "cell_type": "code",
   "execution_count": 480,
   "metadata": {},
   "outputs": [
    {
     "data": {
      "text/plain": [
       "Index(['Game ID', 'Game Event ID', 'Player ID', 'Player Name', 'Team ID',\n",
       "       'Team Name', 'Period', 'Minutes Remaining', 'Seconds Remaining',\n",
       "       'Action Type', 'Shot Type', 'Shot Zone Basic', 'Shot Zone Area',\n",
       "       'Shot Zone Range', 'Shot Distance', 'X Location', 'Y Location',\n",
       "       'Shot Made Flag', 'Game Date', 'Home Team', 'Away Team', 'Season Type'],\n",
       "      dtype='object')"
      ]
     },
     "execution_count": 480,
     "metadata": {},
     "output_type": "execute_result"
    }
   ],
   "source": [
    "test_df.columns"
   ]
  },
  {
   "cell_type": "code",
   "execution_count": 503,
   "metadata": {},
   "outputs": [
    {
     "data": {
      "text/plain": [
       "2PT Field Goal    100410\n",
       "3PT Field Goal     48532\n",
       "Name: Shot Type, dtype: int64"
      ]
     },
     "execution_count": 503,
     "metadata": {},
     "output_type": "execute_result"
    }
   ],
   "source": [
    "test_df['Shot Type'].value_counts()"
   ]
  },
  {
   "cell_type": "code",
   "execution_count": 504,
   "metadata": {},
   "outputs": [],
   "source": [
    "DT_df= test_df.drop(['Team ID','Player ID',\n",
    "                     'Player Name','Game Event ID', 'Team Name','X Location', 'Y Location', \n",
    "                     'Home Team','Away Team','Season Type','Action Type','Shot Zone Basic'\n",
    "                    ],axis=1)"
   ]
  },
  {
   "cell_type": "code",
   "execution_count": 505,
   "metadata": {},
   "outputs": [
    {
     "data": {
      "text/plain": [
       "(148942, 10)"
      ]
     },
     "execution_count": 505,
     "metadata": {},
     "output_type": "execute_result"
    }
   ],
   "source": [
    "DT_df.shape"
   ]
  },
  {
   "cell_type": "code",
   "execution_count": 506,
   "metadata": {},
   "outputs": [
    {
     "data": {
      "text/html": [
       "<div>\n",
       "<style scoped>\n",
       "    .dataframe tbody tr th:only-of-type {\n",
       "        vertical-align: middle;\n",
       "    }\n",
       "\n",
       "    .dataframe tbody tr th {\n",
       "        vertical-align: top;\n",
       "    }\n",
       "\n",
       "    .dataframe thead th {\n",
       "        text-align: right;\n",
       "    }\n",
       "</style>\n",
       "<table border=\"1\" class=\"dataframe\">\n",
       "  <thead>\n",
       "    <tr style=\"text-align: right;\">\n",
       "      <th></th>\n",
       "      <th>Game ID</th>\n",
       "      <th>Period</th>\n",
       "      <th>Minutes Remaining</th>\n",
       "      <th>Seconds Remaining</th>\n",
       "      <th>Shot Zone Area</th>\n",
       "      <th>Shot Distance</th>\n",
       "      <th>Shot Made Flag</th>\n",
       "      <th>Game Date</th>\n",
       "      <th>2PT Field Goal</th>\n",
       "      <th>3PT Field Goal</th>\n",
       "      <th>16-24 ft.</th>\n",
       "      <th>24+ ft.</th>\n",
       "      <th>8-16 ft.</th>\n",
       "      <th>Back Court Shot</th>\n",
       "      <th>Less Than 8 ft.</th>\n",
       "    </tr>\n",
       "  </thead>\n",
       "  <tbody>\n",
       "    <tr>\n",
       "      <th>1194060</th>\n",
       "      <td>20300014</td>\n",
       "      <td>1</td>\n",
       "      <td>8</td>\n",
       "      <td>56</td>\n",
       "      <td>Right Side(R)</td>\n",
       "      <td>15</td>\n",
       "      <td>1</td>\n",
       "      <td>20031029</td>\n",
       "      <td>1</td>\n",
       "      <td>0</td>\n",
       "      <td>0</td>\n",
       "      <td>0</td>\n",
       "      <td>1</td>\n",
       "      <td>0</td>\n",
       "      <td>0</td>\n",
       "    </tr>\n",
       "    <tr>\n",
       "      <th>1194061</th>\n",
       "      <td>20300014</td>\n",
       "      <td>1</td>\n",
       "      <td>7</td>\n",
       "      <td>44</td>\n",
       "      <td>Left Side(L)</td>\n",
       "      <td>13</td>\n",
       "      <td>1</td>\n",
       "      <td>20031029</td>\n",
       "      <td>1</td>\n",
       "      <td>0</td>\n",
       "      <td>0</td>\n",
       "      <td>0</td>\n",
       "      <td>1</td>\n",
       "      <td>0</td>\n",
       "      <td>0</td>\n",
       "    </tr>\n",
       "    <tr>\n",
       "      <th>1194062</th>\n",
       "      <td>20300014</td>\n",
       "      <td>1</td>\n",
       "      <td>7</td>\n",
       "      <td>1</td>\n",
       "      <td>Right Side(R)</td>\n",
       "      <td>16</td>\n",
       "      <td>1</td>\n",
       "      <td>20031029</td>\n",
       "      <td>1</td>\n",
       "      <td>0</td>\n",
       "      <td>1</td>\n",
       "      <td>0</td>\n",
       "      <td>0</td>\n",
       "      <td>0</td>\n",
       "      <td>0</td>\n",
       "    </tr>\n",
       "    <tr>\n",
       "      <th>1194063</th>\n",
       "      <td>20300014</td>\n",
       "      <td>1</td>\n",
       "      <td>6</td>\n",
       "      <td>29</td>\n",
       "      <td>Left Side(L)</td>\n",
       "      <td>14</td>\n",
       "      <td>0</td>\n",
       "      <td>20031029</td>\n",
       "      <td>1</td>\n",
       "      <td>0</td>\n",
       "      <td>0</td>\n",
       "      <td>0</td>\n",
       "      <td>1</td>\n",
       "      <td>0</td>\n",
       "      <td>0</td>\n",
       "    </tr>\n",
       "    <tr>\n",
       "      <th>1194064</th>\n",
       "      <td>20300014</td>\n",
       "      <td>1</td>\n",
       "      <td>4</td>\n",
       "      <td>48</td>\n",
       "      <td>Center(C)</td>\n",
       "      <td>5</td>\n",
       "      <td>1</td>\n",
       "      <td>20031029</td>\n",
       "      <td>1</td>\n",
       "      <td>0</td>\n",
       "      <td>0</td>\n",
       "      <td>0</td>\n",
       "      <td>0</td>\n",
       "      <td>0</td>\n",
       "      <td>1</td>\n",
       "    </tr>\n",
       "    <tr>\n",
       "      <th>...</th>\n",
       "      <td>...</td>\n",
       "      <td>...</td>\n",
       "      <td>...</td>\n",
       "      <td>...</td>\n",
       "      <td>...</td>\n",
       "      <td>...</td>\n",
       "      <td>...</td>\n",
       "      <td>...</td>\n",
       "      <td>...</td>\n",
       "      <td>...</td>\n",
       "      <td>...</td>\n",
       "      <td>...</td>\n",
       "      <td>...</td>\n",
       "      <td>...</td>\n",
       "      <td>...</td>\n",
       "    </tr>\n",
       "    <tr>\n",
       "      <th>4725932</th>\n",
       "      <td>41800314</td>\n",
       "      <td>4</td>\n",
       "      <td>0</td>\n",
       "      <td>31</td>\n",
       "      <td>Center(C)</td>\n",
       "      <td>30</td>\n",
       "      <td>0</td>\n",
       "      <td>20190520</td>\n",
       "      <td>0</td>\n",
       "      <td>1</td>\n",
       "      <td>0</td>\n",
       "      <td>1</td>\n",
       "      <td>0</td>\n",
       "      <td>0</td>\n",
       "      <td>0</td>\n",
       "    </tr>\n",
       "    <tr>\n",
       "      <th>4725933</th>\n",
       "      <td>41800314</td>\n",
       "      <td>4</td>\n",
       "      <td>0</td>\n",
       "      <td>0</td>\n",
       "      <td>Center(C)</td>\n",
       "      <td>5</td>\n",
       "      <td>0</td>\n",
       "      <td>20190520</td>\n",
       "      <td>1</td>\n",
       "      <td>0</td>\n",
       "      <td>0</td>\n",
       "      <td>0</td>\n",
       "      <td>0</td>\n",
       "      <td>0</td>\n",
       "      <td>1</td>\n",
       "    </tr>\n",
       "    <tr>\n",
       "      <th>4725934</th>\n",
       "      <td>41800314</td>\n",
       "      <td>5</td>\n",
       "      <td>0</td>\n",
       "      <td>32</td>\n",
       "      <td>Center(C)</td>\n",
       "      <td>0</td>\n",
       "      <td>1</td>\n",
       "      <td>20190520</td>\n",
       "      <td>1</td>\n",
       "      <td>0</td>\n",
       "      <td>0</td>\n",
       "      <td>0</td>\n",
       "      <td>0</td>\n",
       "      <td>0</td>\n",
       "      <td>1</td>\n",
       "    </tr>\n",
       "    <tr>\n",
       "      <th>4725935</th>\n",
       "      <td>41800314</td>\n",
       "      <td>5</td>\n",
       "      <td>0</td>\n",
       "      <td>3</td>\n",
       "      <td>Center(C)</td>\n",
       "      <td>2</td>\n",
       "      <td>0</td>\n",
       "      <td>20190520</td>\n",
       "      <td>1</td>\n",
       "      <td>0</td>\n",
       "      <td>0</td>\n",
       "      <td>0</td>\n",
       "      <td>0</td>\n",
       "      <td>0</td>\n",
       "      <td>1</td>\n",
       "    </tr>\n",
       "    <tr>\n",
       "      <th>4725936</th>\n",
       "      <td>41800314</td>\n",
       "      <td>5</td>\n",
       "      <td>0</td>\n",
       "      <td>1</td>\n",
       "      <td>Right Side(R)</td>\n",
       "      <td>22</td>\n",
       "      <td>0</td>\n",
       "      <td>20190520</td>\n",
       "      <td>0</td>\n",
       "      <td>1</td>\n",
       "      <td>0</td>\n",
       "      <td>1</td>\n",
       "      <td>0</td>\n",
       "      <td>0</td>\n",
       "      <td>0</td>\n",
       "    </tr>\n",
       "  </tbody>\n",
       "</table>\n",
       "<p>148942 rows × 15 columns</p>\n",
       "</div>"
      ],
      "text/plain": [
       "          Game ID  Period  Minutes Remaining  Seconds Remaining  \\\n",
       "1194060  20300014       1                  8                 56   \n",
       "1194061  20300014       1                  7                 44   \n",
       "1194062  20300014       1                  7                  1   \n",
       "1194063  20300014       1                  6                 29   \n",
       "1194064  20300014       1                  4                 48   \n",
       "...           ...     ...                ...                ...   \n",
       "4725932  41800314       4                  0                 31   \n",
       "4725933  41800314       4                  0                  0   \n",
       "4725934  41800314       5                  0                 32   \n",
       "4725935  41800314       5                  0                  3   \n",
       "4725936  41800314       5                  0                  1   \n",
       "\n",
       "        Shot Zone Area  Shot Distance  Shot Made Flag  Game Date  \\\n",
       "1194060  Right Side(R)             15               1   20031029   \n",
       "1194061   Left Side(L)             13               1   20031029   \n",
       "1194062  Right Side(R)             16               1   20031029   \n",
       "1194063   Left Side(L)             14               0   20031029   \n",
       "1194064      Center(C)              5               1   20031029   \n",
       "...                ...            ...             ...        ...   \n",
       "4725932      Center(C)             30               0   20190520   \n",
       "4725933      Center(C)              5               0   20190520   \n",
       "4725934      Center(C)              0               1   20190520   \n",
       "4725935      Center(C)              2               0   20190520   \n",
       "4725936  Right Side(R)             22               0   20190520   \n",
       "\n",
       "         2PT Field Goal  3PT Field Goal  16-24 ft.  24+ ft.  8-16 ft.  \\\n",
       "1194060               1               0          0        0         1   \n",
       "1194061               1               0          0        0         1   \n",
       "1194062               1               0          1        0         0   \n",
       "1194063               1               0          0        0         1   \n",
       "1194064               1               0          0        0         0   \n",
       "...                 ...             ...        ...      ...       ...   \n",
       "4725932               0               1          0        1         0   \n",
       "4725933               1               0          0        0         0   \n",
       "4725934               1               0          0        0         0   \n",
       "4725935               1               0          0        0         0   \n",
       "4725936               0               1          0        1         0   \n",
       "\n",
       "         Back Court Shot  Less Than 8 ft.  \n",
       "1194060                0                0  \n",
       "1194061                0                0  \n",
       "1194062                0                0  \n",
       "1194063                0                0  \n",
       "1194064                0                1  \n",
       "...                  ...              ...  \n",
       "4725932                0                0  \n",
       "4725933                0                1  \n",
       "4725934                0                1  \n",
       "4725935                0                1  \n",
       "4725936                0                0  \n",
       "\n",
       "[148942 rows x 15 columns]"
      ]
     },
     "execution_count": 506,
     "metadata": {},
     "output_type": "execute_result"
    }
   ],
   "source": [
    "#Rebuild the DF\n",
    "#idka=pd.get_dummies(DT_df['Action Type'])\n",
    "idkb=pd.get_dummies(DT_df['Shot Type'])\n",
    "#idkc=pd.get_dummies(DT_df['Shot Zone Basic'])\n",
    "idkd=pd.get_dummies(DT_df['Shot Zone Range'])\n",
    "idk = pd.concat([DT_df, idkb, idkd], axis=1, sort=False)\n",
    "idk=idk.drop(['Shot Type','Shot Zone Range'],axis=1)\n",
    "idk"
   ]
  },
  {
   "cell_type": "code",
   "execution_count": 507,
   "metadata": {},
   "outputs": [
    {
     "data": {
      "text/html": [
       "<div>\n",
       "<style scoped>\n",
       "    .dataframe tbody tr th:only-of-type {\n",
       "        vertical-align: middle;\n",
       "    }\n",
       "\n",
       "    .dataframe tbody tr th {\n",
       "        vertical-align: top;\n",
       "    }\n",
       "\n",
       "    .dataframe thead th {\n",
       "        text-align: right;\n",
       "    }\n",
       "</style>\n",
       "<table border=\"1\" class=\"dataframe\">\n",
       "  <thead>\n",
       "    <tr style=\"text-align: right;\">\n",
       "      <th></th>\n",
       "      <th>Game ID</th>\n",
       "      <th>Period</th>\n",
       "      <th>Minutes Remaining</th>\n",
       "      <th>Seconds Remaining</th>\n",
       "      <th>Shot Zone Area</th>\n",
       "      <th>Shot Distance</th>\n",
       "      <th>Shot Made Flag</th>\n",
       "      <th>Game Date</th>\n",
       "      <th>2PT Field Goal</th>\n",
       "      <th>3PT Field Goal</th>\n",
       "      <th>16-24 ft.</th>\n",
       "      <th>24+ ft.</th>\n",
       "      <th>8-16 ft.</th>\n",
       "      <th>Back Court Shot</th>\n",
       "      <th>Less Than 8 ft.</th>\n",
       "    </tr>\n",
       "  </thead>\n",
       "  <tbody>\n",
       "    <tr>\n",
       "      <th>1194060</th>\n",
       "      <td>20300014</td>\n",
       "      <td>1</td>\n",
       "      <td>8</td>\n",
       "      <td>56</td>\n",
       "      <td>Right Side(R)</td>\n",
       "      <td>15</td>\n",
       "      <td>1</td>\n",
       "      <td>20031029</td>\n",
       "      <td>1</td>\n",
       "      <td>0</td>\n",
       "      <td>0</td>\n",
       "      <td>0</td>\n",
       "      <td>1</td>\n",
       "      <td>0</td>\n",
       "      <td>0</td>\n",
       "    </tr>\n",
       "    <tr>\n",
       "      <th>1194061</th>\n",
       "      <td>20300014</td>\n",
       "      <td>1</td>\n",
       "      <td>7</td>\n",
       "      <td>44</td>\n",
       "      <td>Left Side(L)</td>\n",
       "      <td>13</td>\n",
       "      <td>1</td>\n",
       "      <td>20031029</td>\n",
       "      <td>1</td>\n",
       "      <td>0</td>\n",
       "      <td>0</td>\n",
       "      <td>0</td>\n",
       "      <td>1</td>\n",
       "      <td>0</td>\n",
       "      <td>0</td>\n",
       "    </tr>\n",
       "    <tr>\n",
       "      <th>1194062</th>\n",
       "      <td>20300014</td>\n",
       "      <td>1</td>\n",
       "      <td>7</td>\n",
       "      <td>1</td>\n",
       "      <td>Right Side(R)</td>\n",
       "      <td>16</td>\n",
       "      <td>1</td>\n",
       "      <td>20031029</td>\n",
       "      <td>1</td>\n",
       "      <td>0</td>\n",
       "      <td>1</td>\n",
       "      <td>0</td>\n",
       "      <td>0</td>\n",
       "      <td>0</td>\n",
       "      <td>0</td>\n",
       "    </tr>\n",
       "    <tr>\n",
       "      <th>1194063</th>\n",
       "      <td>20300014</td>\n",
       "      <td>1</td>\n",
       "      <td>6</td>\n",
       "      <td>29</td>\n",
       "      <td>Left Side(L)</td>\n",
       "      <td>14</td>\n",
       "      <td>0</td>\n",
       "      <td>20031029</td>\n",
       "      <td>1</td>\n",
       "      <td>0</td>\n",
       "      <td>0</td>\n",
       "      <td>0</td>\n",
       "      <td>1</td>\n",
       "      <td>0</td>\n",
       "      <td>0</td>\n",
       "    </tr>\n",
       "    <tr>\n",
       "      <th>1194064</th>\n",
       "      <td>20300014</td>\n",
       "      <td>1</td>\n",
       "      <td>4</td>\n",
       "      <td>48</td>\n",
       "      <td>Center(C)</td>\n",
       "      <td>5</td>\n",
       "      <td>1</td>\n",
       "      <td>20031029</td>\n",
       "      <td>1</td>\n",
       "      <td>0</td>\n",
       "      <td>0</td>\n",
       "      <td>0</td>\n",
       "      <td>0</td>\n",
       "      <td>0</td>\n",
       "      <td>1</td>\n",
       "    </tr>\n",
       "    <tr>\n",
       "      <th>...</th>\n",
       "      <td>...</td>\n",
       "      <td>...</td>\n",
       "      <td>...</td>\n",
       "      <td>...</td>\n",
       "      <td>...</td>\n",
       "      <td>...</td>\n",
       "      <td>...</td>\n",
       "      <td>...</td>\n",
       "      <td>...</td>\n",
       "      <td>...</td>\n",
       "      <td>...</td>\n",
       "      <td>...</td>\n",
       "      <td>...</td>\n",
       "      <td>...</td>\n",
       "      <td>...</td>\n",
       "    </tr>\n",
       "    <tr>\n",
       "      <th>4725932</th>\n",
       "      <td>41800314</td>\n",
       "      <td>4</td>\n",
       "      <td>0</td>\n",
       "      <td>31</td>\n",
       "      <td>Center(C)</td>\n",
       "      <td>30</td>\n",
       "      <td>0</td>\n",
       "      <td>20190520</td>\n",
       "      <td>0</td>\n",
       "      <td>1</td>\n",
       "      <td>0</td>\n",
       "      <td>1</td>\n",
       "      <td>0</td>\n",
       "      <td>0</td>\n",
       "      <td>0</td>\n",
       "    </tr>\n",
       "    <tr>\n",
       "      <th>4725933</th>\n",
       "      <td>41800314</td>\n",
       "      <td>4</td>\n",
       "      <td>0</td>\n",
       "      <td>0</td>\n",
       "      <td>Center(C)</td>\n",
       "      <td>5</td>\n",
       "      <td>0</td>\n",
       "      <td>20190520</td>\n",
       "      <td>1</td>\n",
       "      <td>0</td>\n",
       "      <td>0</td>\n",
       "      <td>0</td>\n",
       "      <td>0</td>\n",
       "      <td>0</td>\n",
       "      <td>1</td>\n",
       "    </tr>\n",
       "    <tr>\n",
       "      <th>4725934</th>\n",
       "      <td>41800314</td>\n",
       "      <td>5</td>\n",
       "      <td>0</td>\n",
       "      <td>32</td>\n",
       "      <td>Center(C)</td>\n",
       "      <td>0</td>\n",
       "      <td>1</td>\n",
       "      <td>20190520</td>\n",
       "      <td>1</td>\n",
       "      <td>0</td>\n",
       "      <td>0</td>\n",
       "      <td>0</td>\n",
       "      <td>0</td>\n",
       "      <td>0</td>\n",
       "      <td>1</td>\n",
       "    </tr>\n",
       "    <tr>\n",
       "      <th>4725935</th>\n",
       "      <td>41800314</td>\n",
       "      <td>5</td>\n",
       "      <td>0</td>\n",
       "      <td>3</td>\n",
       "      <td>Center(C)</td>\n",
       "      <td>2</td>\n",
       "      <td>0</td>\n",
       "      <td>20190520</td>\n",
       "      <td>1</td>\n",
       "      <td>0</td>\n",
       "      <td>0</td>\n",
       "      <td>0</td>\n",
       "      <td>0</td>\n",
       "      <td>0</td>\n",
       "      <td>1</td>\n",
       "    </tr>\n",
       "    <tr>\n",
       "      <th>4725936</th>\n",
       "      <td>41800314</td>\n",
       "      <td>5</td>\n",
       "      <td>0</td>\n",
       "      <td>1</td>\n",
       "      <td>Right Side(R)</td>\n",
       "      <td>22</td>\n",
       "      <td>0</td>\n",
       "      <td>20190520</td>\n",
       "      <td>0</td>\n",
       "      <td>1</td>\n",
       "      <td>0</td>\n",
       "      <td>1</td>\n",
       "      <td>0</td>\n",
       "      <td>0</td>\n",
       "      <td>0</td>\n",
       "    </tr>\n",
       "  </tbody>\n",
       "</table>\n",
       "<p>148603 rows × 15 columns</p>\n",
       "</div>"
      ],
      "text/plain": [
       "          Game ID  Period  Minutes Remaining  Seconds Remaining  \\\n",
       "1194060  20300014       1                  8                 56   \n",
       "1194061  20300014       1                  7                 44   \n",
       "1194062  20300014       1                  7                  1   \n",
       "1194063  20300014       1                  6                 29   \n",
       "1194064  20300014       1                  4                 48   \n",
       "...           ...     ...                ...                ...   \n",
       "4725932  41800314       4                  0                 31   \n",
       "4725933  41800314       4                  0                  0   \n",
       "4725934  41800314       5                  0                 32   \n",
       "4725935  41800314       5                  0                  3   \n",
       "4725936  41800314       5                  0                  1   \n",
       "\n",
       "        Shot Zone Area  Shot Distance  Shot Made Flag  Game Date  \\\n",
       "1194060  Right Side(R)             15               1   20031029   \n",
       "1194061   Left Side(L)             13               1   20031029   \n",
       "1194062  Right Side(R)             16               1   20031029   \n",
       "1194063   Left Side(L)             14               0   20031029   \n",
       "1194064      Center(C)              5               1   20031029   \n",
       "...                ...            ...             ...        ...   \n",
       "4725932      Center(C)             30               0   20190520   \n",
       "4725933      Center(C)              5               0   20190520   \n",
       "4725934      Center(C)              0               1   20190520   \n",
       "4725935      Center(C)              2               0   20190520   \n",
       "4725936  Right Side(R)             22               0   20190520   \n",
       "\n",
       "         2PT Field Goal  3PT Field Goal  16-24 ft.  24+ ft.  8-16 ft.  \\\n",
       "1194060               1               0          0        0         1   \n",
       "1194061               1               0          0        0         1   \n",
       "1194062               1               0          1        0         0   \n",
       "1194063               1               0          0        0         1   \n",
       "1194064               1               0          0        0         0   \n",
       "...                 ...             ...        ...      ...       ...   \n",
       "4725932               0               1          0        1         0   \n",
       "4725933               1               0          0        0         0   \n",
       "4725934               1               0          0        0         0   \n",
       "4725935               1               0          0        0         0   \n",
       "4725936               0               1          0        1         0   \n",
       "\n",
       "         Back Court Shot  Less Than 8 ft.  \n",
       "1194060                0                0  \n",
       "1194061                0                0  \n",
       "1194062                0                0  \n",
       "1194063                0                0  \n",
       "1194064                0                1  \n",
       "...                  ...              ...  \n",
       "4725932                0                0  \n",
       "4725933                0                1  \n",
       "4725934                0                1  \n",
       "4725935                0                1  \n",
       "4725936                0                0  \n",
       "\n",
       "[148603 rows x 15 columns]"
      ]
     },
     "execution_count": 507,
     "metadata": {},
     "output_type": "execute_result"
    }
   ],
   "source": [
    "#Lets drop Back court as there are only 52 shots\n",
    "idk.drop(idk[idk['Shot Zone Area'] == 'Back Court(BC)'].index,inplace=True)\n",
    "idk"
   ]
  },
  {
   "cell_type": "code",
   "execution_count": 508,
   "metadata": {},
   "outputs": [],
   "source": [
    "#Roll up the columns\n",
    "idk.loc[idk['Shot Zone Area'] == 'Left Side Center(LC)' , ['Shot Zone Area']] = 'Left Side(L)'\n",
    "idk.loc[idk['Shot Zone Area'] == 'Right Side Center(RC)' , ['Shot Zone Area']] = 'Right Side(R)'"
   ]
  },
  {
   "cell_type": "code",
   "execution_count": 509,
   "metadata": {},
   "outputs": [
    {
     "data": {
      "text/plain": [
       "Center(C)        77683\n",
       "Left Side(L)     36004\n",
       "Right Side(R)    34916\n",
       "Name: Shot Zone Area, dtype: int64"
      ]
     },
     "execution_count": 509,
     "metadata": {},
     "output_type": "execute_result"
    }
   ],
   "source": [
    "idk['Shot Zone Area'].value_counts()"
   ]
  },
  {
   "cell_type": "code",
   "execution_count": 510,
   "metadata": {},
   "outputs": [],
   "source": [
    "#Encoding our target\n",
    "from sklearn.preprocessing import LabelEncoder\n",
    "\n",
    "# Instantiate the label encoder\n",
    "le = LabelEncoder()\n",
    "\n",
    "# Fit and transform the order priority column\n",
    "idk['Shot Zone Area']=le.fit_transform(idk['Shot Zone Area'])"
   ]
  },
  {
   "cell_type": "code",
   "execution_count": 511,
   "metadata": {},
   "outputs": [
    {
     "data": {
      "text/plain": [
       "0    77683\n",
       "1    36004\n",
       "2    34916\n",
       "Name: Shot Zone Area, dtype: int64"
      ]
     },
     "execution_count": 511,
     "metadata": {},
     "output_type": "execute_result"
    }
   ],
   "source": [
    "idk['Shot Zone Area'].value_counts()"
   ]
  },
  {
   "cell_type": "code",
   "execution_count": 512,
   "metadata": {},
   "outputs": [],
   "source": [
    "#Split first\n",
    "from sklearn.model_selection import train_test_split\n",
    "X = idk.drop(['Shot Zone Area'],axis=1)\n",
    "y = idk['Shot Zone Area']\n",
    "\n",
    "X_train, X_test, y_train, y_test = train_test_split(X, y, test_size=0.2, random_state=2)"
   ]
  },
  {
   "cell_type": "code",
   "execution_count": 513,
   "metadata": {},
   "outputs": [],
   "source": [
    "#Now lets scale\n",
    "#Scaler\n",
    "from sklearn.preprocessing import MinMaxScaler\n",
    "from sklearn.preprocessing import StandardScaler\n",
    "\n",
    "my_minmax_scaler = MinMaxScaler()\n",
    "\n",
    "my_minmax_scaler = my_minmax_scaler.fit(X_train)\n",
    "\n",
    "X_train = my_minmax_scaler.transform(X_train)\n",
    "\n",
    "X_test = my_minmax_scaler.transform(X_test)\n",
    "\n"
   ]
  },
  {
   "cell_type": "code",
   "execution_count": 514,
   "metadata": {},
   "outputs": [
    {
     "name": "stdout",
     "output_type": "stream",
     "text": [
      "0.06522989273071289\n"
     ]
    }
   ],
   "source": [
    "#Now lets use PCA to reduce dimensions\n",
    "from sklearn.decomposition import PCA\n",
    "\n",
    "start = time.time()\n",
    "\n",
    "#we want to explain at least 90% of the variance\n",
    "my_pca = PCA(n_components=.9)\n",
    "my_pca.fit(X_train)\n",
    "\n",
    "# transform data\n",
    "X_train_PCA = my_pca.transform(X_train)\n",
    "\n",
    "# Transform test data\n",
    "X_test_PCA = my_pca.transform(X_test)\n",
    "\n",
    "#print the time\n",
    "end = time.time()\n",
    "print(end - start)"
   ]
  },
  {
   "cell_type": "code",
   "execution_count": 515,
   "metadata": {},
   "outputs": [
    {
     "data": {
      "text/plain": [
       "(118882, 14)"
      ]
     },
     "execution_count": 515,
     "metadata": {},
     "output_type": "execute_result"
    }
   ],
   "source": [
    "X_train.shape"
   ]
  },
  {
   "cell_type": "code",
   "execution_count": 217,
   "metadata": {},
   "outputs": [
    {
     "data": {
      "text/plain": [
       "(23684, 8)"
      ]
     },
     "execution_count": 217,
     "metadata": {},
     "output_type": "execute_result"
    }
   ],
   "source": [
    "X_train_PCA.shape"
   ]
  },
  {
   "cell_type": "code",
   "execution_count": 218,
   "metadata": {},
   "outputs": [
    {
     "data": {
      "text/plain": [
       "8"
      ]
     },
     "execution_count": 218,
     "metadata": {},
     "output_type": "execute_result"
    }
   ],
   "source": [
    "X_train_PCA.shape[1]"
   ]
  },
  {
   "cell_type": "code",
   "execution_count": 219,
   "metadata": {},
   "outputs": [
    {
     "data": {
      "image/png": "[encoded data removed]",
      "text/plain": [
       "<Figure size 432x288 with 1 Axes>"
      ]
     },
     "metadata": {
      "needs_background": "light"
     },
     "output_type": "display_data"
    }
   ],
   "source": [
    "#Setting up the explained variance\n",
    "expl_var = my_pca.explained_variance_ratio_\n",
    "#Setting up the plot\n",
    "plt.figure()\n",
    "plt.plot(range(1,(X_test_PCA.shape[1]+1),1),expl_var,color='cornflowerblue',label='Proportion Explained',marker='o')\n",
    "plt.xlabel('Number of PCs')\n",
    "plt.ylabel('Proportion of Variance Explained')\n",
    "plt.legend()\n",
    "plt.title('Variance Explained vs PC')\n",
    "plt.grid()\n",
    "plt.show()"
   ]
  },
  {
   "cell_type": "code",
   "execution_count": 143,
   "metadata": {},
   "outputs": [
    {
     "name": "stderr",
     "output_type": "stream",
     "text": [
      "100%|██████████| 9/9 [00:04<00:00,  2.15it/s]\n"
     ]
    }
   ],
   "source": [
    "from sklearn.model_selection import cross_val_score\n",
    "from sklearn.linear_model import LogisticRegression\n",
    "\n",
    "### 5-fold cross validation\n",
    "cross_validation_scores = []\n",
    "# The C_values to try\n",
    "C_values = [.00001,0.0001,0.001, 0.01, 0.1, 1, 10, 100,1000]\n",
    "\n",
    "#Do some cross validation\n",
    "for c in tqdm(C_values):\n",
    "    #fit the log model\n",
    "    LR_model = LogisticRegression(C=c,max_iter=100)\n",
    "    #set the cross validation\n",
    "    cv_score = np.mean(cross_val_score(LR_model, X_train_PCA, y_train, cv = 5))\n",
    "    #gather the scores for validation\n",
    "    cross_validation_scores.append(cv_score)"
   ]
  },
  {
   "cell_type": "code",
   "execution_count": 144,
   "metadata": {},
   "outputs": [
    {
     "data": {
      "image/png": "[encoded data removed]",
      "text/plain": [
       "<Figure size 432x288 with 1 Axes>"
      ]
     },
     "metadata": {
      "needs_background": "light"
     },
     "output_type": "display_data"
    },
    {
     "name": "stdout",
     "output_type": "stream",
     "text": [
      "The best model has C =  0.1\n"
     ]
    }
   ],
   "source": [
    "# Plot\n",
    "plt.figure()\n",
    "plt.plot(C_values, cross_validation_scores,c='cornflowerblue',label=\"Cross Validation Score\",marker='o')\n",
    "plt.legend()\n",
    "plt.title('Cross Validation Score vs C for logreg')\n",
    "plt.xscale(\"log\")\n",
    "plt.xlabel('Regularization Parameter: C')\n",
    "plt.ylabel('Cross Validation Score')\n",
    "\n",
    "plt.grid()\n",
    "plt.show();\n",
    "\n",
    "which_max = np.array(cross_validation_scores).argmax()\n",
    "\n",
    "print(\"The best model has C = \",C_values[which_max])"
   ]
  },
  {
   "cell_type": "code",
   "execution_count": 145,
   "metadata": {},
   "outputs": [
    {
     "name": "stdout",
     "output_type": "stream",
     "text": [
      "Train Score for Logistical Regression = 0.707\n",
      "Test Score for Logistical Regression = 0.715\n"
     ]
    }
   ],
   "source": [
    "# Lets print the score of the highest \n",
    "# Instantiate the model\n",
    "log_reg = LogisticRegression(C=C_values[which_max],max_iter=100)\n",
    "\n",
    "# Fit the model \n",
    "log_reg.fit(X_train_PCA,y_train)\n",
    "\n",
    "# evaluate on train & test sets\n",
    "print(f'Train Score for Logistical Regression = {round(log_reg.score(X_train_PCA, y_train),3)}')\n",
    "print(f'Test Score for Logistical Regression = {round(log_reg.score(X_test_PCA, y_test),3)}')"
   ]
  },
  {
   "cell_type": "code",
   "execution_count": 210,
   "metadata": {},
   "outputs": [
    {
     "name": "stderr",
     "output_type": "stream",
     "text": [
      "100%|██████████| 9/9 [00:00<00:00, 115.39it/s]\n"
     ]
    },
    {
     "data": {
      "image/png": "[encoded data removed]",
      "text/plain": [
       "<Figure size 432x288 with 1 Axes>"
      ]
     },
     "metadata": {
      "needs_background": "light"
     },
     "output_type": "display_data"
    },
    {
     "name": "stdout",
     "output_type": "stream",
     "text": [
      "0.331528902053833\n"
     ]
    }
   ],
   "source": [
    "from sklearn.linear_model import LogisticRegression\n",
    "\n",
    "start = time.time()\n",
    "# Create lists to hold our accuracies\n",
    "train_acc = []\n",
    "test_acc = []\n",
    "\n",
    "# The C_values to try\n",
    "C_values = [.00001,0.0001,0.001, 0.01, 0.1, 1, 10, 100,1000]\n",
    "\n",
    "\n",
    "\n",
    "# Loop through the C values \n",
    "for C in tqdm(C_values):\n",
    "\n",
    "    # Instantiate the model\n",
    "    log_reg = LogisticRegression(C=C,max_iter=1000,solver='lbfgs')\n",
    "\n",
    "    # Fit the model \n",
    "    log_reg.fit(X_train_PCA,y_train)\n",
    "\n",
    "    # Score the model \n",
    "    train_acc.append(log_reg.score(X_train_PCA,y_train))\n",
    "    test_acc.append(log_reg.score(X_test_PCA,y_test))\n",
    "\n",
    "# plot the results\n",
    "plt.figure()\n",
    "plt.plot(C_values,train_acc, c='cornflowerblue', label='train', marker=\"o\")\n",
    "plt.plot(C_values,test_acc, c='fuchsia', label='test', marker=\"o\")\n",
    "plt.title('Scores per C values for LBJ')\n",
    "plt.xlabel('C Values')\n",
    "plt.ylabel('accuracy')\n",
    "plt.xscale('log')\n",
    "plt.legend()\n",
    "plt.show()\n",
    "\n",
    "end=time.time()\n",
    "print(end-start)"
   ]
  },
  {
   "cell_type": "code",
   "execution_count": 118,
   "metadata": {},
   "outputs": [
    {
     "data": {
      "text/plain": [
       "array([[761, 238, 195],\n",
       "       [ 80, 367, 318],\n",
       "       [ 79, 387, 375]])"
      ]
     },
     "execution_count": 118,
     "metadata": {},
     "output_type": "execute_result"
    }
   ],
   "source": [
    "from sklearn.metrics import confusion_matrix\n",
    "\n",
    "y_pred = log_reg.predict(X_test_PCA)\n",
    "\n",
    "# True values first, predicted values second\n",
    "confusion_matrix(y_test, y_pred)"
   ]
  },
  {
   "cell_type": "code",
   "execution_count": 119,
   "metadata": {},
   "outputs": [
    {
     "data": {
      "image/png": "[encoded data removed]",
      "text/plain": [
       "<Figure size 432x288 with 2 Axes>"
      ]
     },
     "metadata": {
      "needs_background": "light"
     },
     "output_type": "display_data"
    }
   ],
   "source": [
    "from sklearn.metrics import ConfusionMatrixDisplay\n",
    "\n",
    "cf_matrix = confusion_matrix(y_test, y_pred)\n",
    "\n",
    "ConfusionMatrixDisplay(cf_matrix).plot()\n",
    "plt.show()"
   ]
  },
  {
   "cell_type": "code",
   "execution_count": 120,
   "metadata": {},
   "outputs": [
    {
     "name": "stdout",
     "output_type": "stream",
     "text": [
      "              precision    recall  f1-score   support\n",
      "\n",
      "           0       0.83      0.64      0.72      1194\n",
      "           1       0.37      0.48      0.42       765\n",
      "           2       0.42      0.45      0.43       841\n",
      "\n",
      "    accuracy                           0.54      2800\n",
      "   macro avg       0.54      0.52      0.52      2800\n",
      "weighted avg       0.58      0.54      0.55      2800\n",
      "\n"
     ]
    }
   ],
   "source": [
    "from sklearn.metrics import classification_report\n",
    "\n",
    "report_initial = classification_report(y_test, y_pred)\n",
    "print(report_initial)"
   ]
  },
  {
   "cell_type": "code",
   "execution_count": 121,
   "metadata": {},
   "outputs": [
    {
     "data": {
      "text/plain": [
       "0    0.432062\n",
       "2    0.287827\n",
       "1    0.280111\n",
       "Name: Shot Zone Area, dtype: float64"
      ]
     },
     "execution_count": 121,
     "metadata": {},
     "output_type": "execute_result"
    }
   ],
   "source": [
    "idk['Shot Zone Area'].value_counts(normalize=True)"
   ]
  },
  {
   "cell_type": "code",
   "execution_count": 26,
   "metadata": {},
   "outputs": [],
   "source": [
    "from sklearn.model_selection import GridSearchCV\n",
    "from sklearn.pipeline import Pipeline\n",
    "from sklearn.pipeline import make_pipeline\n",
    "from sklearn.naive_bayes import MultinomialNB"
   ]
  },
  {
   "cell_type": "code",
   "execution_count": 27,
   "metadata": {},
   "outputs": [],
   "source": [
    "from sklearn.neural_network import MLPClassifier\n",
    "# MLP: multilayer perceptron"
   ]
  },
  {
   "cell_type": "code",
   "execution_count": 423,
   "metadata": {},
   "outputs": [
    {
     "name": "stdout",
     "output_type": "stream",
     "text": [
      "Fitting 5 folds for each of 120 candidates, totalling 600 fits\n"
     ]
    },
    {
     "name": "stderr",
     "output_type": "stream",
     "text": [
      "[Parallel(n_jobs=3)]: Using backend LokyBackend with 3 concurrent workers.\n",
      "[Parallel(n_jobs=3)]: Done  44 tasks      | elapsed:   11.1s\n",
      "[Parallel(n_jobs=3)]: Done 194 tasks      | elapsed:  1.1min\n",
      "[Parallel(n_jobs=3)]: Done 444 tasks      | elapsed:  9.8min\n",
      "[Parallel(n_jobs=3)]: Done 600 out of 600 | elapsed: 36.6min finished\n"
     ]
    },
    {
     "data": {
      "text/plain": [
       "GridSearchCV(estimator=Pipeline(steps=[('scale', MinMaxScaler()),\n",
       "                                       ('decompose', PCA()),\n",
       "                                       ('model', LogisticRegression())]),\n",
       "             n_jobs=3,\n",
       "             param_grid=[{'decompose': [PCA()],\n",
       "                          'decompose__n_components': [0.9],\n",
       "                          'model': [LogisticRegression(max_iter=1000000)],\n",
       "                          'model__C': [0.001, 0.01, 0.1, 1, 10, 100, 1000],\n",
       "                          'model__penalty': ['l1', 'l2'],\n",
       "                          'model__solver': ['lbfgs', 'liblinear', 'sag...\n",
       "                          'scale': [MinMaxScaler(), StandardScaler()]},\n",
       "                         {'decompose': [PCA()],\n",
       "                          'decompose__n_components': [0.9],\n",
       "                          'model': [GradientBoostingClassifier()],\n",
       "                          'model__max_depth': [1, 2, 3, 4, 5],\n",
       "                          'scale': [MinMaxScaler(), StandardScaler()]},\n",
       "                         {'decompose': [PCA()],\n",
       "                          'decompose__n_components': [0.9],\n",
       "                          'model': [MultinomialNB()],\n",
       "                          'model__alpha': [1e-05, 0.0001, 0.001, 0.01, 0.1, 1,\n",
       "                                           2],\n",
       "                          'scale': [MinMaxScaler(), StandardScaler()]}],\n",
       "             verbose=1)"
      ]
     },
     "execution_count": 423,
     "metadata": {},
     "output_type": "execute_result"
    }
   ],
   "source": [
    "# Set up the (placeholder) pipeline \n",
    "pipeline = Pipeline([('scale', MinMaxScaler()),\n",
    "                    ('decompose', PCA()),\n",
    "                    ('model', LogisticRegression())])\n",
    "\n",
    "# Set up the parameter grid\n",
    "param_grid = [\n",
    "            {\n",
    "                'scale':[MinMaxScaler(), StandardScaler()],\n",
    "                'model':[LogisticRegression(max_iter=1000000)],\n",
    "                'decompose':[PCA()],\n",
    "                'model__C': [0.001, 0.01, 0.1, 1, 10, 100, 1000],\n",
    "                'model__penalty':['l1','l2'],\n",
    "                'model__solver':['lbfgs', 'liblinear', 'saga'],\n",
    "                'decompose__n_components': [.9]\n",
    "                \n",
    "            }, {\n",
    "                'scale':[MinMaxScaler(), StandardScaler()],\n",
    "                'model':[RandomForestClassifier()],\n",
    "                'decompose':[PCA()],\n",
    "                'model__max_depth': [1,2,3,4,5,7],\n",
    "                'decompose__n_components': [.9]\n",
    "            }, {\n",
    "                'scale':[MinMaxScaler(), StandardScaler()],\n",
    "                'model':[GradientBoostingClassifier()],\n",
    "                'decompose':[PCA()],\n",
    "                'model__max_depth': [1,2,3,4,5],\n",
    "                'decompose__n_components': [.9]\n",
    "            }, {\n",
    "                'scale':[MinMaxScaler(), StandardScaler()],\n",
    "                'model':[MultinomialNB()],\n",
    "                'decompose':[PCA()],\n",
    "                'model__alpha': [0.00001,0.0001, 0.001, 0.01, 0.1, 1, 2],\n",
    "                'decompose__n_components': [.9]\n",
    "            }]\n",
    "            \n",
    "# Instantiate the grid search\n",
    "my_gridsearch = GridSearchCV(pipeline, param_grid, n_jobs=3,verbose=1)\n",
    "\n",
    "# Fit the grid search\n",
    "my_gridsearch.fit(X_train,y_train)"
   ]
  },
  {
   "cell_type": "code",
   "execution_count": 379,
   "metadata": {},
   "outputs": [
    {
     "name": "stdout",
     "output_type": "stream",
     "text": [
      "Fitting 5 folds for each of 84 candidates, totalling 420 fits\n"
     ]
    },
    {
     "name": "stderr",
     "output_type": "stream",
     "text": [
      "[Parallel(n_jobs=3)]: Using backend LokyBackend with 3 concurrent workers.\n",
      "[Parallel(n_jobs=3)]: Done  44 tasks      | elapsed:   10.9s\n",
      "[Parallel(n_jobs=3)]: Done 194 tasks      | elapsed:  1.1min\n",
      "[Parallel(n_jobs=3)]: Done 420 out of 420 | elapsed: 10.3min finished\n"
     ]
    },
    {
     "data": {
      "text/plain": [
       "GridSearchCV(estimator=Pipeline(steps=[('scale', MinMaxScaler()),\n",
       "                                       ('decompose', PCA()),\n",
       "                                       ('model', LogisticRegression())]),\n",
       "             n_jobs=3,\n",
       "             param_grid=[{'decompose': [PCA(n_components=0.9)],\n",
       "                          'decompose__n_components': [0.9],\n",
       "                          'model': [LogisticRegression(C=1,\n",
       "                                                       class_weight={2: 1.07},\n",
       "                                                       max_iter=1000000,\n",
       "                                                       solver='liblinear')],\n",
       "                          'model__C': [0.001, 0.01, 0.1, 1, 10, 100, 1000],\n",
       "                          'model__class_weight': [{2: 1.07}],\n",
       "                          'model__penalty': ['l1', 'l2'],\n",
       "                          'model__solver': ['lbfgs', 'liblinear', 'saga'],\n",
       "                          'scale': [MinMaxScaler(), StandardScaler()]}],\n",
       "             verbose=1)"
      ]
     },
     "execution_count": 379,
     "metadata": {},
     "output_type": "execute_result"
    }
   ],
   "source": [
    "# Set up the (placeholder) pipeline \n",
    "pipeline = Pipeline([('scale', MinMaxScaler()),\n",
    "                    ('decompose', PCA()),\n",
    "                    ('model', LogisticRegression())])\n",
    "\n",
    "# Set up the parameter grid\n",
    "param_grid = [\n",
    "            {\n",
    "                'scale':[MinMaxScaler(), StandardScaler()],\n",
    "                'model':[LogisticRegression(max_iter=1000000)],\n",
    "                'decompose':[PCA()],\n",
    "                'model__C': [0.001, 0.01, 0.1, 1, 10, 100, 1000],\n",
    "                'model__penalty':['l1','l2'],\n",
    "                'model__solver':['lbfgs', 'liblinear', 'saga'],\n",
    "                'model__class_weight':[{0:1,1:2,2:2.5}],\n",
    "                'decompose__n_components': [.9]\n",
    "                \n",
    "            }]\n",
    "            \n",
    "# Instantiate the grid search\n",
    "my_gridsearch_rw = GridSearchCV(pipeline, param_grid, n_jobs=3,verbose=1)\n",
    "\n",
    "# Fit the grid search\n",
    "my_gridsearch_rw.fit(X_train,y_train)"
   ]
  },
  {
   "cell_type": "code",
   "execution_count": 424,
   "metadata": {},
   "outputs": [
    {
     "data": {
      "text/plain": [
       "Pipeline(steps=[('scale', MinMaxScaler()), ('decompose', PCA(n_components=0.9)),\n",
       "                ('model', RandomForestClassifier(max_depth=7))])"
      ]
     },
     "execution_count": 424,
     "metadata": {},
     "output_type": "execute_result"
    }
   ],
   "source": [
    "# Best estimator object\n",
    "my_gridsearch.best_estimator_"
   ]
  },
  {
   "cell_type": "code",
   "execution_count": 425,
   "metadata": {},
   "outputs": [
    {
     "name": "stdout",
     "output_type": "stream",
     "text": [
      "0.6262428290237378\n",
      "0.6134046633693349\n"
     ]
    }
   ],
   "source": [
    "print(my_gridsearch.score(X_train, y_train))\n",
    "print(my_gridsearch.score(X_test, y_test))"
   ]
  },
  {
   "cell_type": "code",
   "execution_count": 500,
   "metadata": {},
   "outputs": [
    {
     "data": {
      "text/plain": [
       "array([[  0,   0, 340],\n",
       "       [  0,   0, 147],\n",
       "       [  0,   0, 184]])"
      ]
     },
     "execution_count": 500,
     "metadata": {},
     "output_type": "execute_result"
    }
   ],
   "source": [
    "from sklearn.metrics import confusion_matrix\n",
    "\n",
    "y_pred = my_gridsearch.predict(X_test)\n",
    "\n",
    "# True values first, predicted values second\n",
    "confusion_matrix(y_test, y_pred)"
   ]
  },
  {
   "cell_type": "code",
   "execution_count": 427,
   "metadata": {
    "scrolled": true
   },
   "outputs": [
    {
     "data": {
      "image/png": "[encoded data removed]",
      "text/plain": [
       "<Figure size 432x288 with 2 Axes>"
      ]
     },
     "metadata": {
      "needs_background": "light"
     },
     "output_type": "display_data"
    }
   ],
   "source": [
    "from sklearn.metrics import ConfusionMatrixDisplay\n",
    "\n",
    "cf_matrix = confusion_matrix(y_test, y_pred)\n",
    "\n",
    "ConfusionMatrixDisplay(cf_matrix).plot()\n",
    "plt.show()"
   ]
  },
  {
   "cell_type": "code",
   "execution_count": 428,
   "metadata": {
    "scrolled": true
   },
   "outputs": [
    {
     "name": "stdout",
     "output_type": "stream",
     "text": [
      "              precision    recall  f1-score   support\n",
      "\n",
      "           0       0.91      0.74      0.82     15538\n",
      "           1       0.38      0.64      0.48      7143\n",
      "           2       0.43      0.30      0.36      7040\n",
      "\n",
      "    accuracy                           0.61     29721\n",
      "   macro avg       0.57      0.56      0.55     29721\n",
      "weighted avg       0.67      0.61      0.63     29721\n",
      "\n"
     ]
    }
   ],
   "source": [
    "from sklearn.metrics import classification_report\n",
    "\n",
    "report_initial = classification_report(y_test, y_pred)\n",
    "print(report_initial)"
   ]
  },
  {
   "cell_type": "code",
   "execution_count": 429,
   "metadata": {},
   "outputs": [
    {
     "data": {
      "text/plain": [
       "0    0.522755\n",
       "1    0.242283\n",
       "2    0.234962\n",
       "Name: Shot Zone Area, dtype: float64"
      ]
     },
     "execution_count": 429,
     "metadata": {},
     "output_type": "execute_result"
    }
   ],
   "source": [
    "idk['Shot Zone Area'].value_counts(normalize=True)"
   ]
  },
  {
   "cell_type": "markdown",
   "metadata": {},
   "source": [
    "Grid Search NN"
   ]
  },
  {
   "cell_type": "code",
   "execution_count": 15,
   "metadata": {},
   "outputs": [],
   "source": [
    "import tensorflow as tf\n",
    "from tensorflow import keras\n",
    "from tensorflow.keras import layers"
   ]
  },
  {
   "cell_type": "code",
   "execution_count": null,
   "metadata": {},
   "outputs": [],
   "source": []
  },
  {
   "cell_type": "code",
   "execution_count": 198,
   "metadata": {},
   "outputs": [
    {
     "name": "stdout",
     "output_type": "stream",
     "text": [
      "Fitting 5 folds for each of 168 candidates, totalling 840 fits\n"
     ]
    },
    {
     "name": "stderr",
     "output_type": "stream",
     "text": [
      "[Parallel(n_jobs=3)]: Using backend LokyBackend with 3 concurrent workers.\n",
      "[Parallel(n_jobs=3)]: Done  44 tasks      | elapsed:   17.7s\n",
      "[Parallel(n_jobs=3)]: Done 194 tasks      | elapsed:  1.2min\n",
      "[Parallel(n_jobs=3)]: Done 444 tasks      | elapsed:  2.5min\n",
      "[Parallel(n_jobs=3)]: Done 794 tasks      | elapsed:  4.5min\n",
      "[Parallel(n_jobs=3)]: Done 840 out of 840 | elapsed:  4.7min finished\n"
     ]
    },
    {
     "name": "stdout",
     "output_type": "stream",
     "text": [
      "-----------------Original Features--------------------\n",
      "Best score: 0.7059\n",
      "Using the following parameters:\n",
      "{'decompose': PCA(n_components=0.9), 'decompose__n_components': 0.9, 'model': MLPClassifier(hidden_layer_sizes=6, solver='sgd'), 'model__alpha': 0.0001, 'model__hidden_layer_sizes': 6, 'model__solver': 'sgd', 'scale': StandardScaler()}\n"
     ]
    }
   ],
   "source": [
    "#Set up the (placeholder) pipeline \n",
    "pipeline = Pipeline([('scale', MinMaxScaler()),\n",
    "                    ('decompose', PCA()),\n",
    "                    ('model', LogisticRegression())])\n",
    "\n",
    "# Set up the parameter grid\n",
    "param_grid = [\n",
    "            {\n",
    "                'scale':[MinMaxScaler(), StandardScaler()],\n",
    "                'model':[MLPClassifier()],\n",
    "                'decompose':[PCA()],\n",
    "                'model__solver':['sgd','Adam'],\n",
    "                'model__hidden_layer_sizes':np.arange(5, 12),\n",
    "                'model__alpha': 10.0 ** -np.arange(1, 7),\n",
    "                'decompose__n_components': [.9]\n",
    "            } ]\n",
    "            \n",
    "# Instantiate the grid search\n",
    "my_gridsearch = GridSearchCV(pipeline, param_grid, n_jobs=3,verbose=1)\n",
    "\n",
    "# Fit the grid search\n",
    "my_gridsearch.fit(X_train,y_train)\n",
    "print(\"-----------------Original Features--------------------\")\n",
    "print(\"Best score: %0.4f\" % my_gridsearch.best_score_)\n",
    "print(\"Using the following parameters:\")\n",
    "print(my_gridsearch.best_params_)"
   ]
  },
  {
   "cell_type": "code",
   "execution_count": 199,
   "metadata": {},
   "outputs": [
    {
     "data": {
      "text/plain": [
       "Pipeline(steps=[('scale', StandardScaler()),\n",
       "                ('decompose', PCA(n_components=0.9)),\n",
       "                ('model', MLPClassifier(hidden_layer_sizes=6, solver='sgd'))])"
      ]
     },
     "execution_count": 199,
     "metadata": {},
     "output_type": "execute_result"
    }
   ],
   "source": [
    "# Best estimator object\n",
    "my_gridsearch.best_estimator_"
   ]
  },
  {
   "cell_type": "code",
   "execution_count": 200,
   "metadata": {},
   "outputs": [
    {
     "name": "stdout",
     "output_type": "stream",
     "text": [
      "0.7039773686877216\n",
      "0.7109084768659236\n"
     ]
    }
   ],
   "source": [
    "print(my_gridsearch.score(X_train, y_train))\n",
    "print(my_gridsearch.score(X_test, y_test))"
   ]
  },
  {
   "cell_type": "markdown",
   "metadata": {},
   "source": [
    "Log reg"
   ]
  },
  {
   "cell_type": "markdown",
   "metadata": {},
   "source": [
    "                 LogisticRegression(C=1, class_weight={2: 1.07},\n",
    "                                    max_iter=1000000, solver='liblinear'))])"
   ]
  },
  {
   "cell_type": "code",
   "execution_count": 516,
   "metadata": {},
   "outputs": [
    {
     "name": "stdout",
     "output_type": "stream",
     "text": [
      "Train Score for Logistical Regression = 0.605\n",
      "Test Score for Logistical Regression = 0.61\n"
     ]
    }
   ],
   "source": [
    "# Instantiate the model\n",
    "log_reg = LogisticRegression(C=1,max_iter=100000,solver='liblinear',class_weight={0:1,1:2,2:2.2},random_state=1)\n",
    "\n",
    "# Fit the model \n",
    "log_reg.fit(X_train_PCA,y_train)\n",
    "\n",
    "# evaluate on train & test sets\n",
    "print(f'Train Score for Logistical Regression = {round(log_reg.score(X_train_PCA, y_train),3)}')\n",
    "print(f'Test Score for Logistical Regression = {round(log_reg.score(X_test_PCA, y_test),3)}')"
   ]
  },
  {
   "cell_type": "code",
   "execution_count": 517,
   "metadata": {},
   "outputs": [
    {
     "data": {
      "text/plain": [
       "array([[10824,  2666,  2048],\n",
       "       [    0,  3434,  3709],\n",
       "       [    3,  3173,  3864]])"
      ]
     },
     "execution_count": 517,
     "metadata": {},
     "output_type": "execute_result"
    }
   ],
   "source": [
    "from sklearn.metrics import confusion_matrix\n",
    "\n",
    "y_pred = log_reg.predict(X_test_PCA)\n",
    "\n",
    "# True values first, predicted values second\n",
    "confusion_matrix(y_test, y_pred)"
   ]
  },
  {
   "cell_type": "code",
   "execution_count": 518,
   "metadata": {},
   "outputs": [
    {
     "data": {
      "image/png": "[encoded data removed]",
      "text/plain": [
       "<Figure size 432x288 with 2 Axes>"
      ]
     },
     "metadata": {
      "needs_background": "light"
     },
     "output_type": "display_data"
    }
   ],
   "source": [
    "from sklearn.metrics import ConfusionMatrixDisplay\n",
    "\n",
    "cf_matrix = confusion_matrix(y_test, y_pred)\n",
    "\n",
    "ConfusionMatrixDisplay(cf_matrix).plot()\n",
    "plt.show()"
   ]
  },
  {
   "cell_type": "code",
   "execution_count": 519,
   "metadata": {},
   "outputs": [
    {
     "name": "stdout",
     "output_type": "stream",
     "text": [
      "              precision    recall  f1-score   support\n",
      "\n",
      "           0       1.00      0.70      0.82     15538\n",
      "           1       0.37      0.48      0.42      7143\n",
      "           2       0.40      0.55      0.46      7040\n",
      "\n",
      "    accuracy                           0.61     29721\n",
      "   macro avg       0.59      0.58      0.57     29721\n",
      "weighted avg       0.71      0.61      0.64     29721\n",
      "\n"
     ]
    }
   ],
   "source": [
    "from sklearn.metrics import classification_report\n",
    "\n",
    "report_initial = classification_report(y_test, y_pred)\n",
    "print(report_initial)"
   ]
  },
  {
   "cell_type": "code",
   "execution_count": 520,
   "metadata": {},
   "outputs": [
    {
     "data": {
      "text/plain": [
       "0    0.522755\n",
       "1    0.242283\n",
       "2    0.234962\n",
       "Name: Shot Zone Area, dtype: float64"
      ]
     },
     "execution_count": 520,
     "metadata": {},
     "output_type": "execute_result"
    }
   ],
   "source": [
    "idk['Shot Zone Area'].value_counts(normalize=True)"
   ]
  },
  {
   "cell_type": "code",
   "execution_count": 499,
   "metadata": {},
   "outputs": [
    {
     "data": {
      "text/plain": [
       "0"
      ]
     },
     "execution_count": 499,
     "metadata": {},
     "output_type": "execute_result"
    }
   ],
   "source": [
    "y_pred[1]"
   ]
  },
  {
   "cell_type": "code",
   "execution_count": null,
   "metadata": {},
   "outputs": [],
   "source": []
  }
 ],
 "metadata": {
  "kernelspec": {
   "display_name": "Python [conda env:deeplearning]",
   "language": "python",
   "name": "conda-env-deeplearning-py"
  },
  "language_info": {
   "codemirror_mode": {
    "name": "ipython",
    "version": 3
   },
   "file_extension": ".py",
   "mimetype": "text/x-python",
   "name": "python",
   "nbconvert_exporter": "python",
   "pygments_lexer": "ipython3",
   "version": "3.7.8"
  }
 },
 "nbformat": 4,
 "nbformat_minor": 4
}
